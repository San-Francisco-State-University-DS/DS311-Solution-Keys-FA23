{
 "cells": [
  {
   "cell_type": "markdown",
   "metadata": {
    "hide_input": true
   },
   "source": [
    "# Python Lab Exercise #1\n",
    "\n",
    "## Learning Objectives\n",
    "\n",
    "The purpose of this notebook is for you to review some of the Python covered in the lecture, including the following: \n",
    "\n",
    "- Assigning variables\n",
    "- Classifying and explaining data types (integers, floats, strings, booleans, lists, dictionaries, and tuples)\n",
    "- Identifying comparators and boolean operators to create conditional code\n",
    "- Making use of lists: indexing, appending, and joining them\n",
    "- Making use of dictionaries: identifying, creating, and navigating them\n",
    "- Moving between lists and dictionaries (zipping lists together to make dictionaries, or pulling relevant data from a dictionary into a list)\n",
    "- Applying for loops to lists and dictionaries\n",
    "\n",
    "Some new things we're bringing up that weren't covered in class:\n",
    "\n",
    "- Using f-strings or `.format()` to print readable code with variables\n",
    "- Using `.zip()` to combine two lists into a dictionary"
   ]
  },
  {
   "cell_type": "markdown",
   "metadata": {},
   "source": [
    "## To do all that, we are going to code up versions of a bento box:\n",
    "\n",
    "![bento box image](https://images.pexels.com/photos/884596/pexels-photo-884596.jpeg?auto=compress&cs=tinysrgb&dpr=2&h=750&w=1260)\n",
    "\n",
    "### Bento boxes can have multiple ingredients and choices\n",
    "\n",
    "By the end, we want to combine multiple bento orders into one data collection, and print each item for the restaurant. \n",
    "\n",
    "### Variable assignment \n",
    "\n",
    "Let's start with our first bento order:"
   ]
  },
  {
   "cell_type": "code",
   "execution_count": 1,
   "metadata": {
    "ExecuteTime": {
     "end_time": "2022-08-08T15:59:04.372103Z",
     "start_time": "2022-08-08T15:59:04.350025Z"
    }
   },
   "outputs": [],
   "source": [
    "# Run this cell without changes\n",
    "main = \"rice\"\n",
    "protein = \"salmon\"\n",
    "oz_of_protein = 4.5\n",
    "number_of_sides = 3\n",
    "side1 = 'seaweed'\n",
    "side2 = 'onigiri'\n",
    "side3 = 'turnip pickle'\n",
    "great_bento = True"
   ]
  },
  {
   "cell_type": "markdown",
   "metadata": {},
   "source": [
    "Now, if we wanted to change our protein to ginger chicken, how would we do that?"
   ]
  },
  {
   "cell_type": "code",
   "execution_count": 2,
   "metadata": {
    "ExecuteTime": {
     "end_time": "2022-08-08T15:59:04.384584Z",
     "start_time": "2022-08-08T15:59:04.376256Z"
    }
   },
   "outputs": [],
   "source": [
    "# Code here to change protein\n",
    "protein = 'ginger chiken'"
   ]
  },
  {
   "cell_type": "markdown",
   "metadata": {},
   "source": [
    "And changing the amount of protein to 3.5?"
   ]
  },
  {
   "cell_type": "code",
   "execution_count": 3,
   "metadata": {
    "ExecuteTime": {
     "end_time": "2022-08-08T15:59:04.416402Z",
     "start_time": "2022-08-08T15:59:04.402020Z"
    }
   },
   "outputs": [],
   "source": [
    "# Code here to change oz_of_protein\n",
    "oz_of_protein = 3.5"
   ]
  },
  {
   "cell_type": "markdown",
   "metadata": {},
   "source": [
    "We can reassign variable values easily.\n",
    "\n",
    "Now, we assigned those variables one at a time. We also can assign multiple values at once:\n",
    "\n",
    "`side1, side2, side3 = \"carrots\", \"kimchi\", \"mushrooms\"`\n",
    "\n",
    "Update your side order to match your preferences - add whatever you want! "
   ]
  },
  {
   "cell_type": "code",
   "execution_count": 4,
   "metadata": {
    "ExecuteTime": {
     "end_time": "2022-08-08T15:59:04.431788Z",
     "start_time": "2022-08-08T15:59:04.419704Z"
    }
   },
   "outputs": [],
   "source": [
    "# Code here to change sides \n",
    "side1, side2, side3 = 'carrots', 'kimchi', 'mushrooms'"
   ]
  },
  {
   "cell_type": "markdown",
   "metadata": {},
   "source": [
    "Then use `print()` to confirm the variables changed."
   ]
  },
  {
   "cell_type": "code",
   "execution_count": 5,
   "metadata": {
    "ExecuteTime": {
     "end_time": "2022-08-08T15:59:04.445721Z",
     "start_time": "2022-08-08T15:59:04.433852Z"
    }
   },
   "outputs": [
    {
     "name": "stdout",
     "output_type": "stream",
     "text": [
      "carrots kimchi mushrooms\n"
     ]
    }
   ],
   "source": [
    "# Code here to confirm your changes\n",
    "print(side1, side2, side3)"
   ]
  },
  {
   "cell_type": "markdown",
   "metadata": {},
   "source": [
    "### Variable Types\n",
    "\n",
    "Each variable in our bento box has a `type`. "
   ]
  },
  {
   "cell_type": "code",
   "execution_count": 6,
   "metadata": {
    "ExecuteTime": {
     "end_time": "2022-08-08T15:59:04.461450Z",
     "start_time": "2022-08-08T15:59:04.449533Z"
    },
    "hide_input": false
   },
   "outputs": [
    {
     "data": {
      "text/plain": [
       "str"
      ]
     },
     "execution_count": 6,
     "metadata": {},
     "output_type": "execute_result"
    }
   ],
   "source": [
    "# Run this cell without changes\n",
    "type(side1)"
   ]
  },
  {
   "cell_type": "markdown",
   "metadata": {},
   "source": [
    "Run `type()` on some of the remaining variables to explore the type options."
   ]
  },
  {
   "cell_type": "code",
   "execution_count": 7,
   "metadata": {
    "ExecuteTime": {
     "end_time": "2022-08-08T15:59:04.477830Z",
     "start_time": "2022-08-08T15:59:04.465279Z"
    }
   },
   "outputs": [
    {
     "data": {
      "text/plain": [
       "str"
      ]
     },
     "execution_count": 7,
     "metadata": {},
     "output_type": "execute_result"
    }
   ],
   "source": [
    "# Code here to check other variable types\n",
    "type(side1)"
   ]
  },
  {
   "cell_type": "markdown",
   "metadata": {},
   "source": [
    "Each data type in Python has a set behavior in a lot of ways, and knowing what type your variable can help you know exactly what you can do with it!"
   ]
  },
  {
   "cell_type": "markdown",
   "metadata": {},
   "source": [
    "### Control Flow Operators, If Statements and Conditionals\n",
    "\n",
    "Now what if you have food allergies, or want to be able to evaluate a variable before changing it for any other reason?\n",
    "\n",
    "Well you're in luck, cause we have control flow operators and if statements and conditionals!\n",
    "\n",
    "Control flow operators include:\n",
    "\n",
    "```python\n",
    "== # Is equal to?\n",
    "!= # Is not equal to? \n",
    ">  # Is greater than?\n",
    "<  # Is less than?\n",
    "<= # Is less than or equal to?\n",
    ">= # Is greater than or equal to?\n",
    "```\n",
    "\n",
    "Note that these evaluate something - this is different from setting a variable. With control flow operators like these, you're asking a question: \"Is this equal to that?\" \"Is this greater than that?\" etc!"
   ]
  },
  {
   "cell_type": "markdown",
   "metadata": {},
   "source": [
    "Decision making using these kinds of evaluators/control flow operators works like this:\n",
    "\n",
    "![how conditional works](./image/decision_making.jpg)\n",
    "\n",
    "The [tools](https://docs.python.org/3/tutorial/controlflow.html) used in conditionals are `if`, `elif`, and `else`.\n",
    "\n",
    "For example: \n",
    "\n",
    "```python\n",
    "if (protein == 'salmon'):\n",
    "      print(\"I love salmon!\")\n",
    "```\n",
    "\n",
    "Will I like this bento box?"
   ]
  },
  {
   "cell_type": "code",
   "execution_count": 8,
   "metadata": {
    "ExecuteTime": {
     "end_time": "2022-08-08T15:59:04.520770Z",
     "start_time": "2022-08-08T15:59:04.505055Z"
    }
   },
   "outputs": [
    {
     "name": "stdout",
     "output_type": "stream",
     "text": [
      "no carbs, please!\n"
     ]
    }
   ],
   "source": [
    "# Run this cell without changes\n",
    "if (main == 'rice'):\n",
    "    print(\"no carbs, please!\")\n",
    "elif(oz_of_protein >= 2.5):\n",
    "    print(\"too much!\")\n",
    "else:\n",
    "    print(\"I will like this bento box!\")"
   ]
  },
  {
   "cell_type": "markdown",
   "metadata": {},
   "source": [
    "Above, if the main isn't rice and if the amount of protein is less than 2.5, I think I'll like the box!\n",
    "\n",
    "Update the above code example, but rather than `print`, instead set `great_bento` equal to `True` or `False` depending on the values of the bento box ingredients - feel free to customize the checks based on your own personal preferences!"
   ]
  },
  {
   "cell_type": "code",
   "execution_count": 9,
   "metadata": {
    "ExecuteTime": {
     "end_time": "2022-08-08T15:59:04.536494Z",
     "start_time": "2022-08-08T15:59:04.522762Z"
    }
   },
   "outputs": [
    {
     "name": "stdout",
     "output_type": "stream",
     "text": [
      "no carbs, please!\n"
     ]
    }
   ],
   "source": [
    "# Update the code below, based on your own preferences\n",
    "if (main == 'rice'):\n",
    "    print(\"no carbs, please!\")\n",
    "elif(oz_of_protein >= 2.5):\n",
    "    print(\"too much!\")\n",
    "else:\n",
    "    print(\"I will like this bento box!\")"
   ]
  },
  {
   "cell_type": "code",
   "execution_count": 10,
   "metadata": {
    "ExecuteTime": {
     "end_time": "2022-08-08T15:59:04.549027Z",
     "start_time": "2022-08-08T15:59:04.537524Z"
    }
   },
   "outputs": [],
   "source": [
    "# Is great_bento True or False right now?\n",
    "if (great_bento == 'True'):\n",
    "    print('great_bento is True!')"
   ]
  },
  {
   "cell_type": "markdown",
   "metadata": {},
   "source": [
    "## Using Lists: indexing, appending, joining"
   ]
  },
  {
   "cell_type": "markdown",
   "metadata": {},
   "source": [
    "![dog-to-do-list gif from giphy](https://media.giphy.com/media/xTiTnuhyBF54B852nK/giphy.gif)\n",
    "\n",
    "Writing out all those ingredients individually is a pain, let's put them in a list!\n",
    "\n",
    "(You can retype your ingredient list, or use the variables you assigned above)"
   ]
  },
  {
   "cell_type": "code",
   "execution_count": 11,
   "metadata": {
    "ExecuteTime": {
     "end_time": "2022-08-08T15:59:04.562050Z",
     "start_time": "2022-08-08T15:59:04.550305Z"
    }
   },
   "outputs": [],
   "source": [
    "# Replace None with relevant code\n",
    "bento_ingredients = [main, protein, side1, side2, side3]"
   ]
  },
  {
   "cell_type": "markdown",
   "metadata": {},
   "source": [
    "Lists are ordered, meaning you can access the index number for an element:"
   ]
  },
  {
   "cell_type": "code",
   "execution_count": 12,
   "metadata": {
    "ExecuteTime": {
     "end_time": "2022-08-08T15:59:04.577436Z",
     "start_time": "2022-08-08T15:59:04.565818Z"
    },
    "scrolled": true
   },
   "outputs": [
    {
     "data": {
      "text/plain": [
       "'mushrooms'"
      ]
     },
     "execution_count": 12,
     "metadata": {},
     "output_type": "execute_result"
    }
   ],
   "source": [
    "# Run this cell without changes\n",
    "bento_ingredients[4]"
   ]
  },
  {
   "cell_type": "markdown",
   "metadata": {},
   "source": [
    "Or you can grab ranges/slices of a list:"
   ]
  },
  {
   "cell_type": "code",
   "execution_count": 13,
   "metadata": {
    "ExecuteTime": {
     "end_time": "2022-08-08T15:59:04.592607Z",
     "start_time": "2022-08-08T15:59:04.579990Z"
    }
   },
   "outputs": [
    {
     "data": {
      "text/plain": [
       "['carrots', 'kimchi', 'mushrooms']"
      ]
     },
     "execution_count": 13,
     "metadata": {},
     "output_type": "execute_result"
    }
   ],
   "source": [
    "# Run this cell without changes\n",
    "# Note that our 3rd side is the 4th element above, but we use 5 in the range\n",
    "# Play around with these numbers, and start to build some understanding of \n",
    "# which elements are where exactly in the list\n",
    "bento_ingredients[2:5]"
   ]
  },
  {
   "cell_type": "markdown",
   "metadata": {},
   "source": [
    "Add items to a list with `.append()` - add something else you like to your order!"
   ]
  },
  {
   "cell_type": "code",
   "execution_count": 14,
   "metadata": {
    "ExecuteTime": {
     "end_time": "2022-08-08T15:59:04.608194Z",
     "start_time": "2022-08-08T15:59:04.595821Z"
    }
   },
   "outputs": [],
   "source": [
    "# Code here to add to your list\n",
    "bento_ingredients.append('apple pie')"
   ]
  },
  {
   "cell_type": "markdown",
   "metadata": {},
   "source": [
    "If you don't want to keep that last item, you can use `.pop()` to remove it."
   ]
  },
  {
   "cell_type": "code",
   "execution_count": 15,
   "metadata": {
    "ExecuteTime": {
     "end_time": "2022-08-08T15:59:04.620917Z",
     "start_time": "2022-08-08T15:59:04.614172Z"
    }
   },
   "outputs": [
    {
     "data": {
      "text/plain": [
       "'apple pie'"
      ]
     },
     "execution_count": 15,
     "metadata": {},
     "output_type": "execute_result"
    }
   ],
   "source": [
    "# Code here to test that out\n",
    "bento_ingredients.pop()"
   ]
  },
  {
   "cell_type": "code",
   "execution_count": 16,
   "metadata": {
    "ExecuteTime": {
     "end_time": "2022-08-08T15:59:04.636375Z",
     "start_time": "2022-08-08T15:59:04.622878Z"
    }
   },
   "outputs": [
    {
     "data": {
      "text/plain": [
       "['rice', 'ginger chiken', 'carrots', 'kimchi', 'mushrooms']"
      ]
     },
     "execution_count": 16,
     "metadata": {},
     "output_type": "execute_result"
    }
   ],
   "source": [
    "# Now check what your list looks like - is that last item still there?\n",
    "bento_ingredients"
   ]
  },
  {
   "cell_type": "markdown",
   "metadata": {},
   "source": [
    "Now, let's put our bento box in a readable format using `join`:"
   ]
  },
  {
   "cell_type": "code",
   "execution_count": 17,
   "metadata": {
    "ExecuteTime": {
     "end_time": "2022-08-08T15:59:04.649469Z",
     "start_time": "2022-08-08T15:59:04.640364Z"
    }
   },
   "outputs": [
    {
     "name": "stdout",
     "output_type": "stream",
     "text": [
      "I'd like my bento box to contain: rice, ginger chiken, carrots, kimchi, and mushrooms\n"
     ]
    }
   ],
   "source": [
    "# Run this cell without changes\n",
    "print(\"I'd like my bento box to contain: \" +\n",
    "      \", \".join(bento_ingredients[:-1]) + \", and \" + bento_ingredients[-1])"
   ]
  },
  {
   "cell_type": "markdown",
   "metadata": {},
   "source": [
    "**New thing!** F-strings allow you to easily format strings to add variables or elements from an iterable (like a list). You can also use `.format()` in a similar way."
   ]
  },
  {
   "cell_type": "code",
   "execution_count": 18,
   "metadata": {
    "ExecuteTime": {
     "end_time": "2022-08-08T15:59:04.679912Z",
     "start_time": "2022-08-08T15:59:04.661890Z"
    }
   },
   "outputs": [
    {
     "name": "stdout",
     "output_type": "stream",
     "text": [
      "My bento box will include rice and ginger chiken.\n"
     ]
    }
   ],
   "source": [
    "# Run this cell without changes\n",
    "print(f\"My bento box will include {bento_ingredients[0]} and {bento_ingredients[1]}.\")"
   ]
  },
  {
   "cell_type": "code",
   "execution_count": 19,
   "metadata": {
    "ExecuteTime": {
     "end_time": "2022-08-08T15:59:04.694174Z",
     "start_time": "2022-08-08T15:59:04.681517Z"
    }
   },
   "outputs": [
    {
     "name": "stdout",
     "output_type": "stream",
     "text": [
      "My bento box will include rice and ginger chiken.\n"
     ]
    }
   ],
   "source": [
    "# The above cell is the same as:\n",
    "print(\"My bento box will include {} and {}.\".format(bento_ingredients[0], bento_ingredients[1]))"
   ]
  },
  {
   "cell_type": "markdown",
   "metadata": {},
   "source": [
    "**Think about it:** How is the f-string/format working differently from the join we did before?\n",
    "\n",
    "Your Comment:\n",
    "\n",
    "- \n",
    "- "
   ]
  },
  {
   "cell_type": "markdown",
   "metadata": {},
   "source": [
    "## Using Dictionaries: Identifying, Creating, Navigating"
   ]
  },
  {
   "cell_type": "markdown",
   "metadata": {},
   "source": [
    "![dictionary](https://images.pexels.com/photos/270233/pexels-photo-270233.jpeg?auto=compress&cs=tinysrgb&dpr=2&w=500)\n",
    "\n",
    "No, not that kind! \n",
    "\n",
    "With your list above, someone would need to tell you that \"rice\" is the main and \"salmon\" is the protein. \n",
    "\n",
    "Dictionaries let you assign **key** and **value** pairs, which connects a key like \"main\" to a value like \"rice\". Rather than using **indexing**, you use **keys** to return values.\n",
    "\n",
    "Update your bento box to be a dictionary. There are multiple ways to do this! You can type all of your details out, matching to the information we have from the very beginning of this notebook, or you can use your list and a new list of keys to zip your bento box together.\n",
    "\n",
    "Make sure to run `type()` on your dictionary to confirm it is successful."
   ]
  },
  {
   "cell_type": "code",
   "execution_count": 20,
   "metadata": {
    "ExecuteTime": {
     "end_time": "2022-08-08T15:59:04.726000Z",
     "start_time": "2022-08-08T15:59:04.710944Z"
    },
    "scrolled": true
   },
   "outputs": [
    {
     "name": "stdout",
     "output_type": "stream",
     "text": [
      "{'ingredient1': 'rice', 'ingredient2': 'tempura', 'ingredient3': 'miso soup'}\n",
      "<class 'dict'>\n"
     ]
    }
   ],
   "source": [
    "# Here's an example of zipping two lists together to form a dictionary\n",
    "bento_keys = [\"ingredient1\", \"ingredient2\", \"ingredient3\"]\n",
    "bento_values = [\"rice\", \"tempura\", \"miso soup\"]\n",
    "\n",
    "bento_dict = dict(zip(bento_keys, bento_values))\n",
    "\n",
    "print(bento_dict)\n",
    "print(type(bento_dict))"
   ]
  },
  {
   "cell_type": "code",
   "execution_count": 21,
   "metadata": {
    "ExecuteTime": {
     "end_time": "2022-08-08T15:59:04.743592Z",
     "start_time": "2022-08-08T15:59:04.727717Z"
    }
   },
   "outputs": [],
   "source": [
    "# Code here to create a dictionary from your bento ingredients\n",
    "# Change things up to whatever you like!\n",
    "keys = ['main', 'protein', 'side1', 'side2', 'side3']\n",
    "ingredients = ['eggs' 'noodle', 'dumpling', 'coffee', 'choco pie']\n",
    "\n",
    "bento_dict = dict(zip(keys, ingredients))"
   ]
  },
  {
   "cell_type": "code",
   "execution_count": 22,
   "metadata": {
    "ExecuteTime": {
     "end_time": "2022-08-08T15:59:04.758960Z",
     "start_time": "2022-08-08T15:59:04.744875Z"
    }
   },
   "outputs": [
    {
     "name": "stdout",
     "output_type": "stream",
     "text": [
      "{'main': 'eggsnoodle', 'protein': 'dumpling', 'side1': 'coffee', 'side2': 'choco pie'}\n",
      "<class 'dict'>\n"
     ]
    }
   ],
   "source": [
    "# Code here to check your work - check type, and print your dictionary\n",
    "print(bento_dict)\n",
    "print(type(bento_dict))\n"
   ]
  },
  {
   "cell_type": "markdown",
   "metadata": {},
   "source": [
    "You use the key of the dictionary to access its value, for example `bento_box['main']` "
   ]
  },
  {
   "cell_type": "code",
   "execution_count": 23,
   "metadata": {
    "ExecuteTime": {
     "end_time": "2022-08-08T15:59:04.776013Z",
     "start_time": "2022-08-08T15:59:04.760613Z"
    }
   },
   "outputs": [
    {
     "data": {
      "text/plain": [
       "'coffee'"
      ]
     },
     "execution_count": 23,
     "metadata": {},
     "output_type": "execute_result"
    }
   ],
   "source": [
    "# Practice accessing elements in your bento box\n",
    "bento_dict['side1']\n"
   ]
  },
  {
   "cell_type": "markdown",
   "metadata": {},
   "source": [
    "Let's say we want to combine EVERYONE'S bento dictionaries - we can nest those dictonaries inside of a list!\n",
    "\n",
    "Let's get a few different bento box orders into a group order - use Slack to send your dictionaries to each other (you'll want to send everyone the dictionary output, not the code you wrote if you used zip to create your dictionary). \n",
    "\n",
    "**Tip:** make sure each of the dictionaries are structured the same, with the same key names for what is in the bento boxes (as in, make sure you each have a main, a protein, and the same number of sides) - for this exercise, it'll make your life easier later on! \n",
    "\n",
    "Grab at least two other orders and create a list of different dictionaries:"
   ]
  },
  {
   "cell_type": "code",
   "execution_count": 24,
   "metadata": {
    "ExecuteTime": {
     "end_time": "2022-08-08T15:59:04.793529Z",
     "start_time": "2022-08-08T15:59:04.777557Z"
    }
   },
   "outputs": [],
   "source": [
    "# Code here to combine your group order\n",
    "keys = ['main', 'protein', 'side1', 'side2', 'side3']\n",
    "ingredients = ['noodle', 'egg', 'dumpling', 'coffee', 'choco pie']\n",
    "\n",
    "bento_dict1 = dict(zip(keys, ingredients))\n",
    "\n",
    "keys = ['main', 'protein', 'side1', 'side2', 'side3']\n",
    "ingredients = ['burger', 'chicken', 'cheese', 'coke', 'fruit']\n",
    "\n",
    "bento_dict2 = dict(zip(keys, ingredients))\n",
    "\n",
    "keys = ['main', 'protein', 'side1', 'side2', 'side3']\n",
    "ingredients = ['pizza', 'susage', 'radish', 'ice tea', 'ice cream']\n",
    "\n",
    "bento_dict3 = dict(zip(keys, ingredients))\n",
    "\n",
    "bento_list = [bento_dict1, bento_dict2, bento_dict3]"
   ]
  },
  {
   "cell_type": "code",
   "execution_count": 25,
   "metadata": {
    "ExecuteTime": {
     "end_time": "2022-08-08T15:59:04.809967Z",
     "start_time": "2022-08-08T15:59:04.795176Z"
    }
   },
   "outputs": [
    {
     "data": {
      "text/plain": [
       "{'main': 'noodle',\n",
       " 'protein': 'egg',\n",
       " 'side1': 'dumpling',\n",
       " 'side2': 'coffee',\n",
       " 'side3': 'choco pie'}"
      ]
     },
     "execution_count": 25,
     "metadata": {},
     "output_type": "execute_result"
    }
   ],
   "source": [
    "# Code here to check your work\n",
    "bento_list[0]"
   ]
  },
  {
   "cell_type": "markdown",
   "metadata": {},
   "source": [
    "But what if we also want to keep track of whose order is whose? Instead of doing a list of dictionaries, we can do a nested dictionary of dictionaries! \n",
    "\n",
    "![Dictionaries inside dictionaries](https://i.imgflip.com/3orgly.jpg)\n",
    "\n",
    "Create a dictionary of dictionaries, where the key is the name of the person ordering and the value is their bento dictionary:"
   ]
  },
  {
   "cell_type": "code",
   "execution_count": 26,
   "metadata": {
    "ExecuteTime": {
     "end_time": "2022-08-08T15:59:04.823711Z",
     "start_time": "2022-08-08T15:59:04.811587Z"
    }
   },
   "outputs": [],
   "source": [
    "# Code here to create your nested dictionaries\n",
    "bento_order = {'Norman':bento_dict1, 'Junjie':bento_dict2, 'Julia':bento_dict3}"
   ]
  },
  {
   "cell_type": "code",
   "execution_count": 27,
   "metadata": {
    "ExecuteTime": {
     "end_time": "2022-08-08T15:59:04.836454Z",
     "start_time": "2022-08-08T15:59:04.824709Z"
    }
   },
   "outputs": [
    {
     "data": {
      "text/plain": [
       "{'Norman': {'main': 'noodle',\n",
       "  'protein': 'egg',\n",
       "  'side1': 'dumpling',\n",
       "  'side2': 'coffee',\n",
       "  'side3': 'choco pie'},\n",
       " 'Junjie': {'main': 'burger',\n",
       "  'protein': 'chicken',\n",
       "  'side1': 'cheese',\n",
       "  'side2': 'coke',\n",
       "  'side3': 'fruit'},\n",
       " 'Julia': {'main': 'pizza',\n",
       "  'protein': 'susage',\n",
       "  'side1': 'radish',\n",
       "  'side2': 'ice tea',\n",
       "  'side3': 'ice cream'}}"
      ]
     },
     "execution_count": 27,
     "metadata": {},
     "output_type": "execute_result"
    }
   ],
   "source": [
    "# Check your work\n",
    "bento_order"
   ]
  },
  {
   "cell_type": "markdown",
   "metadata": {},
   "source": [
    "Now, if we wanted a list of people who ordered bento boxes, we could grab a list of those names by using `.keys()`"
   ]
  },
  {
   "cell_type": "code",
   "execution_count": 28,
   "metadata": {
    "ExecuteTime": {
     "end_time": "2022-08-08T15:59:04.851958Z",
     "start_time": "2022-08-08T15:59:04.837452Z"
    }
   },
   "outputs": [
    {
     "data": {
      "text/plain": [
       "dict_keys(['Norman', 'Junjie', 'Julia'])"
      ]
     },
     "execution_count": 28,
     "metadata": {},
     "output_type": "execute_result"
    }
   ],
   "source": [
    "# Code here to grab a list of who you have orders for\n",
    "bento_order.keys()"
   ]
  },
  {
   "cell_type": "code",
   "execution_count": 29,
   "metadata": {
    "ExecuteTime": {
     "end_time": "2022-08-08T15:59:04.865729Z",
     "start_time": "2022-08-08T15:59:04.853488Z"
    },
    "scrolled": true
   },
   "outputs": [
    {
     "data": {
      "text/plain": [
       "{'main': 'noodle',\n",
       " 'protein': 'egg',\n",
       " 'side1': 'dumpling',\n",
       " 'side2': 'coffee',\n",
       " 'side3': 'choco pie'}"
      ]
     },
     "execution_count": 29,
     "metadata": {},
     "output_type": "execute_result"
    }
   ],
   "source": [
    "# Check your work\n",
    "bento_order['Norman']"
   ]
  },
  {
   "cell_type": "markdown",
   "metadata": {},
   "source": [
    "## For loops\n",
    "\n",
    "Okay, is anyone confused about for loops? Let's practice.\n",
    "\n",
    "Write a loop to print the main ingredient in everyone's bento order. \n",
    "\n",
    "(This is easier if everyone named an ingredient 'main' in their dictionary, but can be done even if that's not the case - it's just more complicated.)\n",
    "\n",
    "Remember! You have already defined a list of everyone's names from above! You can use that in your for loop if you like."
   ]
  },
  {
   "cell_type": "code",
   "execution_count": 30,
   "metadata": {
    "ExecuteTime": {
     "end_time": "2022-08-08T15:59:04.879680Z",
     "start_time": "2022-08-08T15:59:04.867425Z"
    }
   },
   "outputs": [
    {
     "name": "stdout",
     "output_type": "stream",
     "text": [
      "Norman\n",
      "Junjie\n",
      "Julia\n"
     ]
    }
   ],
   "source": [
    "# Code here to write a for loop that prints each main\n",
    "for customer in bento_order.keys():\n",
    "    print(customer)"
   ]
  },
  {
   "cell_type": "markdown",
   "metadata": {},
   "source": [
    "### Bringing everything together!\n",
    "\n",
    "Now, using the names from the nested dictionaries, can we create a list of tuples with each name along with the protein they want? \n",
    "\n",
    "(Again, easier if everyone named an ingredient 'protein' in their dictionary...)\n",
    "\n",
    "([What even is a tuple?](http://openbookproject.net/thinkcs/python/english3e/tuples.html) It's hard to distinguish them from lists, except they use `()` instead of `[]`. The takeaway here is that tuples create a single immutable object when grouping data. If you're having trouble, try to use the linked resource to create your list of tuples below.)"
   ]
  },
  {
   "cell_type": "code",
   "execution_count": 31,
   "metadata": {
    "ExecuteTime": {
     "end_time": "2022-08-08T15:59:04.893019Z",
     "start_time": "2022-08-08T15:59:04.881205Z"
    }
   },
   "outputs": [],
   "source": [
    "# Code here to create a list of tuples for each person and their protein\n",
    "protein_list = []\n",
    "for customer in bento_order.keys():\n",
    "    customer_name = customer\n",
    "    protein = bento_order[customer]['protein']\n",
    "    result = (customer, protein)\n",
    "    protein_list.append(result)"
   ]
  },
  {
   "cell_type": "code",
   "execution_count": 32,
   "metadata": {
    "ExecuteTime": {
     "end_time": "2022-08-08T15:59:04.908644Z",
     "start_time": "2022-08-08T15:59:04.895016Z"
    }
   },
   "outputs": [
    {
     "data": {
      "text/plain": [
       "[('Norman', 'egg'), ('Junjie', 'chicken'), ('Julia', 'susage')]"
      ]
     },
     "execution_count": 32,
     "metadata": {},
     "output_type": "execute_result"
    }
   ],
   "source": [
    "# Code here to check your work\n",
    "# Tuple list will look like [('person', 'protein'), ...]\n",
    "protein_list"
   ]
  },
  {
   "cell_type": "markdown",
   "metadata": {},
   "source": [
    "Now, print each of your orders as readable sentences. \n",
    "\n",
    "You can use `.join()` or f-strings or `.format()` - no wrong way to do it! You may even want to use nested for loops here!"
   ]
  },
  {
   "cell_type": "code",
   "execution_count": 33,
   "metadata": {
    "ExecuteTime": {
     "end_time": "2022-08-08T15:59:04.921705Z",
     "start_time": "2022-08-08T15:59:04.910615Z"
    },
    "scrolled": false
   },
   "outputs": [
    {
     "name": "stdout",
     "output_type": "stream",
     "text": [
      "This order is for Norman\n",
      "The main dish of this order is noodle\n",
      "With protein egg\n",
      "This order is for Junjie\n",
      "The main dish of this order is burger\n",
      "With protein chicken\n",
      "This order is for Julia\n",
      "The main dish of this order is pizza\n",
      "With protein susage\n"
     ]
    }
   ],
   "source": [
    "# Code here to print each order as a human-readable sentence\n",
    "for customer in bento_order.keys():\n",
    "    ingre = bento_order[customer]\n",
    "    print(f'This order is for {customer}')\n",
    "    print(f'The main dish of this order is {ingre[\"main\"]}')\n",
    "    print(f'With protein {ingre[\"protein\"]}')"
   ]
  },
  {
   "cell_type": "markdown",
   "metadata": {},
   "source": [
    "### Reflection:\n",
    "\n",
    "What's a situation where you could use lists and loops to automate a process?\n",
    "\n",
    "- \n"
   ]
  }
 ],
 "metadata": {
  "kernelspec": {
   "display_name": "Python 3 (ipykernel)",
   "language": "python",
   "name": "python3"
  },
  "language_info": {
   "codemirror_mode": {
    "name": "ipython",
    "version": 3
   },
   "file_extension": ".py",
   "mimetype": "text/x-python",
   "name": "python",
   "nbconvert_exporter": "python",
   "pygments_lexer": "ipython3",
   "version": "3.8.12"
  },
  "latex_envs": {
   "LaTeX_envs_menu_present": true,
   "autoclose": false,
   "autocomplete": true,
   "bibliofile": "biblio.bib",
   "cite_by": "apalike",
   "current_citInitial": 1,
   "eqLabelWithNumbers": true,
   "eqNumInitial": 1,
   "hotkeys": {
    "equation": "Ctrl-E",
    "itemize": "Ctrl-I"
   },
   "labels_anchors": false,
   "latex_user_defs": false,
   "report_style_numbering": false,
   "user_envs_cfg": false
  },
  "toc": {
   "base_numbering": 1,
   "nav_menu": {},
   "number_sections": true,
   "sideBar": true,
   "skip_h1_title": false,
   "title_cell": "Table of Contents",
   "title_sidebar": "Contents",
   "toc_cell": false,
   "toc_position": {},
   "toc_section_display": true,
   "toc_window_display": false
  }
 },
 "nbformat": 4,
 "nbformat_minor": 2
}
