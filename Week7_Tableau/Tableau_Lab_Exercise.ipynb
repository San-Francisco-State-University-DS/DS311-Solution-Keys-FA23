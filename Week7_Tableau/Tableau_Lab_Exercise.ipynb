{
 "cells": [
  {
   "cell_type": "markdown",
   "id": "e3b2424f",
   "metadata": {
    "ExecuteTime": {
     "end_time": "2022-01-05T18:47:48.939740Z",
     "start_time": "2022-01-05T18:47:48.935276Z"
    }
   },
   "source": [
    "<img src=\"https://raw.githubusercontent.com/flatiron-school/Online-DS-FT-022221-Cohort-Notes/master/Phase_5/tableau/images/tableau_cmyk_2015.png\" width=50%>\n",
    "\n",
    "# Tableau Fundamentals\n",
    "\n",
    "## Topics\n",
    "- Tableau vs Tableau Public\n",
    "- Installing Tableau Public\n",
    "- Loading Data Files \n",
    "- Key Vocabulary\n",
    "- Making Several Types of Plots\n",
    "    - Scatter Plots with Trendlines\n",
    "    - Histograms/Grouped Histogram\n",
    "    - Map scatter plot \n",
    "    - Map Shaded Area Plot\n",
    "- Customizing Plots\n",
    "- Your Tableau Profile\n",
    "\n",
    "## Tableau vs Tableau Public\n",
    "\n",
    "- Tableau Public is the free version of Tableau.\n",
    "- They are VERY similar, but there are important distinctions:\n",
    "    - Data Access\n",
    "        - Tableau can access SQL servers\n",
    "        - Tableau Public cannot.\n",
    "    - Saving Projects:\n",
    "        - Tableau can save and load projects locally.\n",
    "        - Tableau Public can only save to the cloud\n",
    "        \n",
    "## Installing Tableau Public\n",
    "\n",
    "- https://public.tableau.com/en-us/s/\n",
    "\n",
    "## Loading Data\n",
    "\n",
    "- Tableau Public can load data from many file types:\n",
    "    - Excel\n",
    "    - Text Files (csv,tsv)\n",
    "    - JSON Files\n",
    "    - Google Sheets\n",
    "    - etc.\n",
    "    \n",
    "- We will download the 2 csv's we will be using into this repo's folder.\n",
    "\n",
    "## Basic Tableau Terminology\n",
    "\n",
    "- Dimensions: \n",
    "    - categorical features/independent variables\n",
    "    - Show up in Blue on Columns/Row view\n",
    "\n",
    "- Measures: \n",
    "    - numeric features / dependent variables.\n",
    "    - Measures get aggregated (SUM, MEAN,etc)\n",
    "    - Shows up in Green on Columns/Row View\n",
    "\n",
    "- Attributes\n",
    "    - ??? (surprisingly hard to find a definition)\n",
    "    - See [this blog post](http://paintbynumbersblog.blogspot.com/2013/04/a-handy-use-of-attributes-in-tableau.html) for an example of when you'd want to make something an Attribute."
   ]
  },
  {
   "cell_type": "markdown",
   "id": "072acefc",
   "metadata": {},
   "source": [
    "## King's County Tasks\n",
    "\n",
    "### Load in \"kings_county_data.csv\"\n",
    "\n",
    "- Open Tableau Public and load up the first housing regression dataset file (`regression_data_details.csv`)\n",
    "    - CSVs are technically \"Text Files\"   \n",
    "\n",
    "- Notice that Tableau automatically replaced text values in numeric columns ('?' in sqft)\n",
    "    - It also cleaned up the column names (`sqft_living` -> \"Sqft Living\")\n",
    "  \n",
    "- Now click \"Go to Worksheet\" / \"Sheet 1\" at the bottom of the app."
   ]
  },
  {
   "cell_type": "code",
   "execution_count": null,
   "id": "b6240e7f",
   "metadata": {
    "ExecuteTime": {
     "end_time": "2022-01-07T16:23:21.382345Z",
     "start_time": "2022-01-07T16:23:21.378151Z"
    }
   },
   "outputs": [],
   "source": [
    "# Import Python Packages\n",
    "# !pip install -U kaleido\n",
    "import kaleido\n",
    "\n",
    "import pandas as pd\n",
    "import matplotlib.pyplot as plt\n",
    "import seaborn as sns\n",
    "sns.set_context('talk')\n",
    "\n",
    "import plotly.express as px\n",
    "import plotly.io as pio\n",
    "px.defaults.width = 700\n",
    "px.defaults.height = 500\n",
    "\n",
    "plt.style.use(['seaborn-talk','dark_background',])\n",
    "# pio.templates.default='plotly_dark'"
   ]
  },
  {
   "cell_type": "code",
   "execution_count": null,
   "id": "02ed1b61",
   "metadata": {
    "ExecuteTime": {
     "end_time": "2022-01-07T16:22:08.343434Z",
     "start_time": "2022-01-07T16:22:08.261339Z"
    }
   },
   "outputs": [],
   "source": [
    "# Import data and export to csv file\n",
    "king = pd.read_csv('data/kings_county_data.csv')\n",
    "display(king.head(2))\n"
   ]
  },
  {
   "cell_type": "code",
   "execution_count": null,
   "id": "8cf953b6",
   "metadata": {
    "ExecuteTime": {
     "end_time": "2022-01-07T16:22:08.374239Z",
     "start_time": "2022-01-07T16:22:08.346401Z"
    }
   },
   "outputs": [],
   "source": [
    "# Additional setup for Python figs\n",
    "king.rename({'long':'lon'},axis=1,inplace=True)\n",
    "king['waterfront'] = king['waterfront'].astype(str)\n",
    "king.info()"
   ]
  },
  {
   "cell_type": "markdown",
   "id": "94348462",
   "metadata": {},
   "source": [
    "### Plots to Make: King's County Housing Data\n",
    "\n",
    "1. [ ] A scatter plot of Sqft Living vs Price + a trendline.\n",
    "2. [ ] A scatter plot of Sqft Living vs Price grouped by if its waterfront property (+ trendlines) <br><t>(first with null values then without)\n",
    "3. [ ] A histogram of price in in **\\$**100K-bins.\n",
    "4. [ ] A histogram of price in in **\\$**100K-bins broken out by Waterfront properties.\n",
    "5. [ ] A map of median prices by zipcode (with a Green color scale broken into 5 shades of green)- see note about maps below.\n",
    "6. [ ] A map of all homes with color-coded price with the smallest markers possible. \n",
    "\n",
    "    \n",
    "> - **Note: for our maps, we want:**\n",
    "    - A dark background,\n",
    "    - Add County names/borders\n",
    "    - Add major cities\n",
    "    - Add terrain\n",
    "    - Add major roadways. \n",
    "\n",
    "    \n",
    "- [ ] **Save the workbook to Tableau Public and make sure it shows all individual sheets.**"
   ]
  },
  {
   "cell_type": "markdown",
   "id": "2b7f1cbe",
   "metadata": {},
   "source": [
    "#### A scatter plot of Sqft Living vs Price + a trendline"
   ]
  },
  {
   "cell_type": "code",
   "execution_count": null,
   "id": "5a722f12",
   "metadata": {
    "ExecuteTime": {
     "end_time": "2022-01-07T16:22:09.272705Z",
     "start_time": "2022-01-07T16:22:08.376335Z"
    }
   },
   "outputs": [],
   "source": [
    "# Python Answer - Seaborn\n",
    "sns.regplot(data=king, x='sqft_living',y='price',\n",
    "            line_kws={'color':'green',\"ls\":':'});"
   ]
  },
  {
   "cell_type": "code",
   "execution_count": null,
   "id": "eeea0824",
   "metadata": {
    "ExecuteTime": {
     "end_time": "2022-01-07T16:22:09.855559Z",
     "start_time": "2022-01-07T16:22:09.274399Z"
    }
   },
   "outputs": [],
   "source": [
    "# Python Answer - Plotly\n",
    "px.scatter(king, x='sqft_living',y='price',trendline='ols',\n",
    "           trendline_color_override='green')"
   ]
  },
  {
   "cell_type": "markdown",
   "id": "78905508",
   "metadata": {},
   "source": [
    "Tableau Answer:\n",
    "- Columns = Sqft Living (Dimension)\n",
    "- Rows = Price (Dimension)\n",
    "- Change to Analysis Tab -> Trendline\n"
   ]
  },
  {
   "cell_type": "markdown",
   "id": "11fe0946",
   "metadata": {},
   "source": [
    "#### A scatter plot of Sqft Living vs Price grouped by if its waterfront property (+ trendlines) \n",
    "- (first with null values then without)"
   ]
  },
  {
   "cell_type": "code",
   "execution_count": null,
   "id": "56ad9e4d",
   "metadata": {
    "ExecuteTime": {
     "end_time": "2022-01-07T16:22:11.228504Z",
     "start_time": "2022-01-07T16:22:09.857047Z"
    }
   },
   "outputs": [],
   "source": [
    "# Python Answer - Seaborn\n",
    "sns.lmplot(data=king, x='sqft_living',y='price',hue='waterfront');"
   ]
  },
  {
   "cell_type": "code",
   "execution_count": null,
   "id": "aecdaade",
   "metadata": {
    "ExecuteTime": {
     "end_time": "2022-01-07T16:22:11.540970Z",
     "start_time": "2022-01-07T16:22:11.230891Z"
    }
   },
   "outputs": [],
   "source": [
    "# Python Answer - Plotly\n",
    "px.scatter(king, x='sqft_living',y='price',color='waterfront',trendline='ols',\n",
    "           trendline_color_override='green')"
   ]
  },
  {
   "cell_type": "markdown",
   "id": "710be904",
   "metadata": {},
   "source": [
    "Tableau Answer:\n",
    "\n",
    "- Duplicate sheet/plot #1\n",
    "- Right Click Waterfront -> Convert to Dimension\n",
    "- Drag Waterfront -> Color\n",
    "    \n",
    "- To remove Null values:\n",
    "    - Right click on Null in legend > Exclude\n",
    "        "
   ]
  },
  {
   "cell_type": "markdown",
   "id": "86fa217c",
   "metadata": {},
   "source": [
    "#### A histogram of price in $100K-bins"
   ]
  },
  {
   "cell_type": "code",
   "execution_count": null,
   "id": "4402e84f",
   "metadata": {
    "ExecuteTime": {
     "end_time": "2022-01-07T16:22:11.729070Z",
     "start_time": "2022-01-07T16:22:11.544402Z"
    }
   },
   "outputs": [],
   "source": [
    "# Python Answer - Seaborn\n",
    "sns.histplot(king,x='price',binwidth=100_000);"
   ]
  },
  {
   "cell_type": "code",
   "execution_count": null,
   "id": "46bd081b",
   "metadata": {
    "ExecuteTime": {
     "end_time": "2022-01-07T16:22:11.938673Z",
     "start_time": "2022-01-07T16:22:11.731448Z"
    }
   },
   "outputs": [],
   "source": [
    "# Python Answer - Plotly\n",
    "\n",
    "# must calculate n_bins\n",
    "n_bins=77\n",
    "king['price'].max()/n_bins\n",
    "px.histogram(king,x='price',nbins=n_bins,width=800)"
   ]
  },
  {
   "cell_type": "markdown",
   "id": "5dca20ec",
   "metadata": {},
   "source": [
    "Tableau Answer:\n",
    "    \n",
    "Solution 1:\n",
    "- Click Price then click Show Me > select histogram\n",
    "\n",
    "Solution 2:\n",
    "- Right click on Price > Create > Bins\n",
    "- Columns = Price Bins\n",
    "- Rows = Price(CNT)"
   ]
  },
  {
   "cell_type": "markdown",
   "id": "043daf17",
   "metadata": {},
   "source": [
    "#### A histogram of price in in $100K-bins - by Waterfront"
   ]
  },
  {
   "cell_type": "code",
   "execution_count": null,
   "id": "f5bf9dd8",
   "metadata": {
    "ExecuteTime": {
     "end_time": "2022-01-07T16:22:12.529624Z",
     "start_time": "2022-01-07T16:22:11.940302Z"
    }
   },
   "outputs": [],
   "source": [
    "# Python Answer - Seaborn\n",
    "sns.histplot(king, x='price', binwidth=100_000,\n",
    "             hue='waterfront', stat='density');"
   ]
  },
  {
   "cell_type": "code",
   "execution_count": null,
   "id": "363af172",
   "metadata": {
    "ExecuteTime": {
     "end_time": "2022-01-07T16:22:12.673061Z",
     "start_time": "2022-01-07T16:22:12.531360Z"
    }
   },
   "outputs": [],
   "source": [
    "# Python Answer - Plotly\n",
    "px.histogram(king,x='price',color='waterfront',nbins=n_bins,\n",
    "             width=800,barmode='overlay')"
   ]
  },
  {
   "cell_type": "markdown",
   "id": "9dfb15f0",
   "metadata": {},
   "source": [
    "Tableau Answer\n",
    "- Duplicate plot #3\n",
    "- Drag Waterfront dimension to Color"
   ]
  },
  {
   "cell_type": "markdown",
   "id": "a640aa76",
   "metadata": {},
   "source": [
    "#### A map of median prices by zipcode (with a Green color scale broken into 5 shades of green)- see note about maps below.\n",
    "\n",
    "    \n",
    "- **Note: for our maps, we want:**\n",
    "    - A dark background,\n",
    "    - Add County names/borders\n",
    "    - Add major cities\n",
    "    - Add terrain\n",
    "    - Add major roadways. "
   ]
  },
  {
   "cell_type": "markdown",
   "id": "be6e1b4a",
   "metadata": {},
   "source": [
    "Python Answer - Plotly\n",
    "\n",
    "- Not easily implementable without downloading [King County zipcode geojson file.](https://opendata.arcgis.com/datasets/e6c555c6ae7542b2bdec92485892b6e6_113.geojson)"
   ]
  },
  {
   "cell_type": "code",
   "execution_count": null,
   "id": "cdb415d5",
   "metadata": {
    "ExecuteTime": {
     "end_time": "2022-01-07T16:22:15.276137Z",
     "start_time": "2022-01-07T16:22:12.674385Z"
    }
   },
   "outputs": [],
   "source": [
    "import requests,json\n",
    "url ='https://opendata.arcgis.com/datasets/e6c555c6ae7542b2bdec92485892b6e6_113.geojson'\n",
    "content = requests.get(url).json()\n",
    "content.keys()"
   ]
  },
  {
   "cell_type": "code",
   "execution_count": null,
   "id": "d970d869",
   "metadata": {
    "ExecuteTime": {
     "end_time": "2022-01-07T16:22:15.283524Z",
     "start_time": "2022-01-07T16:22:15.277874Z"
    }
   },
   "outputs": [],
   "source": [
    "zipcodes_df = pd.read_csv('data/zipcodes.csv')"
   ]
  },
  {
   "cell_type": "code",
   "execution_count": null,
   "id": "7bc244c9",
   "metadata": {
    "ExecuteTime": {
     "end_time": "2022-01-07T16:22:16.452404Z",
     "start_time": "2022-01-07T16:22:15.285043Z"
    }
   },
   "outputs": [],
   "source": [
    "# Took a public data file containing the shapes of zipcodes in King County using latitude/longitude coordinates\n",
    "# geojson file source: https://data.seattle.gov/dataset/Zip-Codes/dk58-w4ct\n",
    "\n",
    "# Parsed just the zipcodes in our source dataset from the public geojson file \n",
    "# into an updated json with just the necessary data for mapping\n",
    "# inspiration from: https://towardsdatascience.com/visualizing-data-at-the-zip-code-level-with-folium-d07ac983db20\n",
    "\n",
    "import json\n",
    "with open('data/kc_zipcode_map.geojson', 'r') as jsonFile:\n",
    "    kczipcodes = json.load(jsonFile)\n",
    "\n",
    "geozips = []\n",
    "for i in range(len(kczipcodes['features'])):\n",
    "    if kczipcodes['features'][i]['properties']['ZIP'] in list(zipcodes_df['zipcode'].unique()):\n",
    "        geozips.append(kczipcodes['features'][i])\n",
    "\n",
    "new_json = dict.fromkeys(['type', 'features'])\n",
    "new_json['type'] = 'FeatureCollection'\n",
    "new_json['features'] = geozips\n",
    "\n",
    "open('data/updated_kc_zipcode_map.json', 'w').write(\n",
    "        json.dumps(new_json, sort_keys=True, indent=4, separators=(',', ': ')));"
   ]
  },
  {
   "cell_type": "code",
   "execution_count": null,
   "id": "306ee26e",
   "metadata": {
    "ExecuteTime": {
     "end_time": "2022-01-07T16:22:16.678752Z",
     "start_time": "2022-01-07T16:22:16.454174Z"
    }
   },
   "outputs": [],
   "source": [
    "# Checking the format of the new json file to find what I can map to the zipcodes_df\n",
    "with open('data/updated_kc_zipcode_map.json', 'r') as f:\n",
    "    kc_geojson = json.load(f)\n",
    "#kc_geojson['features'][0]"
   ]
  },
  {
   "cell_type": "code",
   "execution_count": null,
   "id": "60443b37",
   "metadata": {
    "ExecuteTime": {
     "end_time": "2022-01-07T16:22:16.684275Z",
     "start_time": "2022-01-07T16:22:16.680532Z"
    }
   },
   "outputs": [],
   "source": [
    "# Create a string column with formatted price to put in visualization\n",
    "zipcodes_df['$price'] = zipcodes_df['price'].apply(lambda x: '${:,}'.format(x))"
   ]
  },
  {
   "cell_type": "code",
   "execution_count": null,
   "id": "62fffef2",
   "metadata": {
    "ExecuteTime": {
     "end_time": "2022-01-07T16:22:16.690810Z",
     "start_time": "2022-01-07T16:22:16.686254Z"
    }
   },
   "outputs": [],
   "source": [
    "def zipcodes_map(df, color, hoverdata=None, title=None, labels=None):\n",
    "    '''\n",
    "    Parameters:\n",
    "    df - pd.Dataframe, main data to read\n",
    "    color - str, column name in df to visualize\n",
    "    hoverdata - list, column names to display on map\n",
    "    labels - optional dict, {hoverdata: display name} to display more intuitive names\n",
    "    title - optional str, title for map\n",
    "    \n",
    "    Returns:\n",
    "    Choropleth map\n",
    "    '''\n",
    "    fig = px.choropleth_mapbox(data_frame=df, locations='zipcode', center={'lat': 47.47, 'lon': -121.84}, \n",
    "                               color=color, color_continuous_scale='dense',\n",
    "                               geojson=kc_geojson, featureidkey='properties.ZIP', \n",
    "                               hover_data=hoverdata, labels=labels,\n",
    "                               title=title, height=700, width=900, opacity=.7)\n",
    "    fig.update_layout(mapbox_style='carto-positron')\n",
    "    fig.update_geos(fitbounds='locations', visible=False)\n",
    "    fig.write_image((f'images/zipmap_{color}.png'))\n",
    "    fig.show()"
   ]
  },
  {
   "cell_type": "code",
   "execution_count": null,
   "id": "1c32c91d",
   "metadata": {
    "ExecuteTime": {
     "end_time": "2022-01-07T16:22:22.711986Z",
     "start_time": "2022-01-07T16:22:16.692408Z"
    }
   },
   "outputs": [],
   "source": [
    "hoverdata = ['$price', 'sqft_living', 'sqft_lot', 'yr_built']\n",
    "labels = {'$price': 'Sale Price', 'sqft_living': 'Living Space (sqft)', \n",
    "          'sqft_lot': 'Lot Size (sqft)', 'yr_built': 'Year Built',\n",
    "         'price': 'Sale Price ($)'}\n",
    "mean_title = 'Average House Sale Price($), King County'\n",
    "zipcodes_map(zipcodes_df, 'price', hoverdata=hoverdata, title=mean_title, labels=labels)"
   ]
  },
  {
   "cell_type": "markdown",
   "id": "b72f9243",
   "metadata": {},
   "source": [
    "Tableau Answer\n",
    "- Drag Zipcode onto main pane of plot.\n",
    "    - Drag Price onto Color\n",
    "        - Change Price to Median\n",
    "    - Click on Dropdown Arrow next to Title of Color Scale:\n",
    "        - Edit Colors\n",
    "        - Select Green\n",
    "        - Select Stepped Color\n",
    "    - Visual Flair: \n",
    "        - Right Click on Map > Map Layers\n",
    "        - Select Dark\n",
    "        - Add County borders, county labels, terrain, cities."
   ]
  },
  {
   "cell_type": "markdown",
   "id": "7001ff55",
   "metadata": {},
   "source": [
    "#### A map of all homes with color-coded price with the smallest markers possible. "
   ]
  },
  {
   "cell_type": "code",
   "execution_count": null,
   "id": "c510d419",
   "metadata": {
    "ExecuteTime": {
     "end_time": "2022-01-07T16:22:34.129946Z",
     "start_time": "2022-01-07T16:22:33.905796Z"
    }
   },
   "outputs": [],
   "source": [
    "# Python Answer - Plotly\n",
    "px.scatter_mapbox(king, lat='lat',lon='lon',color='price',mapbox_style='carto-darkmatter',\n",
    "                  color_continuous_scale='greens', )"
   ]
  },
  {
   "cell_type": "markdown",
   "id": "87f5302e",
   "metadata": {},
   "source": [
    "Tableau Answer\n",
    "- Columns: Long\n",
    "- Rows: Lat\n",
    "- Color: Price\n",
    "- Click on Size > Drag slider to the left."
   ]
  },
  {
   "cell_type": "markdown",
   "id": "20bf53e1",
   "metadata": {},
   "source": [
    "### **Save the workbook to Tableau Public and make sure it shows all individual sheets.**"
   ]
  },
  {
   "cell_type": "code",
   "execution_count": null,
   "id": "5ee457e5",
   "metadata": {},
   "outputs": [],
   "source": []
  }
 ],
 "metadata": {
  "hide_input": false,
  "kernelspec": {
   "display_name": "Python 3 (ipykernel)",
   "language": "python",
   "name": "python3"
  },
  "language_info": {
   "codemirror_mode": {
    "name": "ipython",
    "version": 3
   },
   "file_extension": ".py",
   "mimetype": "text/x-python",
   "name": "python",
   "nbconvert_exporter": "python",
   "pygments_lexer": "ipython3",
   "version": "3.8.12"
  },
  "latex_envs": {
   "LaTeX_envs_menu_present": true,
   "autoclose": false,
   "autocomplete": true,
   "bibliofile": "biblio.bib",
   "cite_by": "apalike",
   "current_citInitial": 1,
   "eqLabelWithNumbers": true,
   "eqNumInitial": 1,
   "hotkeys": {
    "equation": "Ctrl-E",
    "itemize": "Ctrl-I"
   },
   "labels_anchors": false,
   "latex_user_defs": false,
   "report_style_numbering": false,
   "user_envs_cfg": false
  },
  "nbTranslate": {
   "displayLangs": [
    "*"
   ],
   "hotkey": "alt-t",
   "langInMainMenu": true,
   "sourceLang": "en",
   "targetLang": "fr",
   "useGoogleTranslate": true
  },
  "toc": {
   "base_numbering": 1,
   "nav_menu": {},
   "number_sections": true,
   "sideBar": true,
   "skip_h1_title": false,
   "title_cell": "Table of Contents",
   "title_sidebar": "Contents",
   "toc_cell": false,
   "toc_position": {},
   "toc_section_display": true,
   "toc_window_display": false
  },
  "varInspector": {
   "cols": {
    "lenName": 16,
    "lenType": 16,
    "lenVar": 40
   },
   "kernels_config": {
    "python": {
     "delete_cmd_postfix": "",
     "delete_cmd_prefix": "del ",
     "library": "var_list.py",
     "varRefreshCmd": "print(var_dic_list())"
    },
    "r": {
     "delete_cmd_postfix": ") ",
     "delete_cmd_prefix": "rm(",
     "library": "var_list.r",
     "varRefreshCmd": "cat(var_dic_list()) "
    }
   },
   "types_to_exclude": [
    "module",
    "function",
    "builtin_function_or_method",
    "instance",
    "_Feature"
   ],
   "window_display": false
  }
 },
 "nbformat": 4,
 "nbformat_minor": 5
}
