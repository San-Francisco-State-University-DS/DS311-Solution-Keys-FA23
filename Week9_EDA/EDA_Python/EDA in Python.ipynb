{
 "cells": [
  {
   "cell_type": "markdown",
   "metadata": {},
   "source": [
    "# Exploratory Data Analysis with Pandas\n",
    "\n",
    "![panda](http://res.freestockphotos.biz/thumbs/3/3173-illustration-of-a-giant-panda-eating-bamboo-th.png)"
   ]
  },
  {
   "cell_type": "code",
   "execution_count": 1,
   "metadata": {
    "ExecuteTime": {
     "end_time": "2021-10-19T16:00:49.310905Z",
     "start_time": "2021-10-19T16:00:49.289687Z"
    }
   },
   "outputs": [],
   "source": [
    "import numpy as np\n",
    "import pandas as pd\n",
    "\n",
    "from matplotlib import pyplot as plt\n",
    "%matplotlib inline"
   ]
  },
  {
   "cell_type": "markdown",
   "metadata": {
    "heading_collapsed": true
   },
   "source": [
    "# Objectives"
   ]
  },
  {
   "cell_type": "markdown",
   "metadata": {
    "hidden": true
   },
   "source": [
    "- Use lambda functions and DataFrame methods to transform data\n",
    "- Handle missing data"
   ]
  },
  {
   "cell_type": "markdown",
   "metadata": {
    "heading_collapsed": true
   },
   "source": [
    "# More Pandas"
   ]
  },
  {
   "cell_type": "markdown",
   "metadata": {
    "hidden": true
   },
   "source": [
    "Suppose you were interested in opening an animal shelter. To inform your planning, it would be useful to analyze data from other shelters to understand their operations. In this lecture, we'll analyze animal outcome data from the Austin Animal Center.  "
   ]
  },
  {
   "cell_type": "markdown",
   "metadata": {
    "heading_collapsed": true,
    "hidden": true
   },
   "source": [
    "## Loading the Data"
   ]
  },
  {
   "cell_type": "markdown",
   "metadata": {
    "hidden": true
   },
   "source": [
    "Let's take a moment to examine the [Austin Animal Center data set](https://data.austintexas.gov/Health-and-Community-Services/Austin-Animal-Center-Outcomes/9t4d-g238/data). \n",
    "\n",
    "We can also ingest the data right off the web, as we do below. The code below will load JSON data for the last 1000 animals to leave the center from this [JSON file](https://data.austintexas.gov/resource/9t4d-g238.json). "
   ]
  },
  {
   "cell_type": "code",
   "execution_count": 2,
   "metadata": {
    "ExecuteTime": {
     "end_time": "2021-10-19T16:00:51.945048Z",
     "start_time": "2021-10-19T16:00:51.940147Z"
    }
   },
   "outputs": [
    {
     "name": "stdout",
     "output_type": "stream",
     "text": [
      "https://data.austintexas.gov/resource/9t4d-g238.json\n"
     ]
    }
   ],
   "source": [
    "json_url = 'https://data.austintexas.gov/resource/9t4d-g238.json'\n",
    "print(json_url)"
   ]
  },
  {
   "cell_type": "code",
   "execution_count": 3,
   "metadata": {
    "ExecuteTime": {
     "end_time": "2021-10-19T16:00:53.611988Z",
     "start_time": "2021-10-19T16:00:52.347948Z"
    },
    "hidden": true
   },
   "outputs": [],
   "source": [
    "json_url = 'https://data.austintexas.gov/resource/9t4d-g238.json'\n",
    "animals = pd.read_json(json_url)"
   ]
  },
  {
   "cell_type": "code",
   "execution_count": 4,
   "metadata": {
    "ExecuteTime": {
     "end_time": "2021-10-19T16:00:53.618371Z",
     "start_time": "2021-10-19T16:00:53.614166Z"
    }
   },
   "outputs": [
    {
     "data": {
      "text/plain": [
       "pandas.core.frame.DataFrame"
      ]
     },
     "execution_count": 4,
     "metadata": {},
     "output_type": "execute_result"
    }
   ],
   "source": [
    "type(animals)"
   ]
  },
  {
   "cell_type": "markdown",
   "metadata": {
    "heading_collapsed": true
   },
   "source": [
    "# Exploratory Data Analysis (EDA)"
   ]
  },
  {
   "cell_type": "markdown",
   "metadata": {
    "hidden": true
   },
   "source": [
    "Exploring a new dataset is essential for understanding what it contains. This will generate ideas for processing the data and questions to try to answer in further analysis."
   ]
  },
  {
   "cell_type": "markdown",
   "metadata": {
    "heading_collapsed": true,
    "hidden": true
   },
   "source": [
    "## Inspecting the Data"
   ]
  },
  {
   "cell_type": "markdown",
   "metadata": {
    "hidden": true
   },
   "source": [
    "Let's take a look at a few rows of data."
   ]
  },
  {
   "cell_type": "code",
   "execution_count": 5,
   "metadata": {
    "ExecuteTime": {
     "end_time": "2021-10-18T20:31:00.728488Z",
     "start_time": "2021-10-18T20:31:00.708110Z"
    },
    "hidden": true
   },
   "outputs": [
    {
     "data": {
      "text/html": [
       "<div>\n",
       "<style scoped>\n",
       "    .dataframe tbody tr th:only-of-type {\n",
       "        vertical-align: middle;\n",
       "    }\n",
       "\n",
       "    .dataframe tbody tr th {\n",
       "        vertical-align: top;\n",
       "    }\n",
       "\n",
       "    .dataframe thead th {\n",
       "        text-align: right;\n",
       "    }\n",
       "</style>\n",
       "<table border=\"1\" class=\"dataframe\">\n",
       "  <thead>\n",
       "    <tr style=\"text-align: right;\">\n",
       "      <th></th>\n",
       "      <th>animal_id</th>\n",
       "      <th>name</th>\n",
       "      <th>datetime</th>\n",
       "      <th>monthyear</th>\n",
       "      <th>date_of_birth</th>\n",
       "      <th>outcome_type</th>\n",
       "      <th>outcome_subtype</th>\n",
       "      <th>animal_type</th>\n",
       "      <th>sex_upon_outcome</th>\n",
       "      <th>age_upon_outcome</th>\n",
       "      <th>breed</th>\n",
       "      <th>color</th>\n",
       "    </tr>\n",
       "  </thead>\n",
       "  <tbody>\n",
       "    <tr>\n",
       "      <th>0</th>\n",
       "      <td>A852444</td>\n",
       "      <td>Uno</td>\n",
       "      <td>2022-03-06 17:06:00</td>\n",
       "      <td>2022-03-06T17:06:00.000</td>\n",
       "      <td>2016-03-03T00:00:00.000</td>\n",
       "      <td>Return to Owner</td>\n",
       "      <td>Field</td>\n",
       "      <td>Dog</td>\n",
       "      <td>Neutered Male</td>\n",
       "      <td>6 years</td>\n",
       "      <td>Maltese</td>\n",
       "      <td>White</td>\n",
       "    </tr>\n",
       "    <tr>\n",
       "      <th>1</th>\n",
       "      <td>A852297</td>\n",
       "      <td>*Sampson</td>\n",
       "      <td>2022-03-06 13:42:00</td>\n",
       "      <td>2022-03-06T13:42:00.000</td>\n",
       "      <td>2020-03-01T00:00:00.000</td>\n",
       "      <td>Euthanasia</td>\n",
       "      <td>Suffering</td>\n",
       "      <td>Cat</td>\n",
       "      <td>Intact Male</td>\n",
       "      <td>NULL</td>\n",
       "      <td>Domestic Shorthair Mix</td>\n",
       "      <td>Orange Tabby</td>\n",
       "    </tr>\n",
       "    <tr>\n",
       "      <th>2</th>\n",
       "      <td>A832436</td>\n",
       "      <td>Floki</td>\n",
       "      <td>2022-03-06 11:59:00</td>\n",
       "      <td>2022-03-06T11:59:00.000</td>\n",
       "      <td>2020-09-15T00:00:00.000</td>\n",
       "      <td>Transfer</td>\n",
       "      <td>Partner</td>\n",
       "      <td>Dog</td>\n",
       "      <td>Neutered Male</td>\n",
       "      <td>1 year</td>\n",
       "      <td>Catahoula Mix</td>\n",
       "      <td>Blue Merle/White</td>\n",
       "    </tr>\n",
       "    <tr>\n",
       "      <th>3</th>\n",
       "      <td>A852624</td>\n",
       "      <td>NaN</td>\n",
       "      <td>2022-03-06 10:29:00</td>\n",
       "      <td>2022-03-06T10:29:00.000</td>\n",
       "      <td>2020-03-06T00:00:00.000</td>\n",
       "      <td>Euthanasia</td>\n",
       "      <td>Rabies Risk</td>\n",
       "      <td>Other</td>\n",
       "      <td>Unknown</td>\n",
       "      <td>NULL</td>\n",
       "      <td>Bat</td>\n",
       "      <td>Brown</td>\n",
       "    </tr>\n",
       "    <tr>\n",
       "      <th>4</th>\n",
       "      <td>A852411</td>\n",
       "      <td>A852411</td>\n",
       "      <td>2022-03-06 00:00:00</td>\n",
       "      <td>2022-03-06T00:00:00.000</td>\n",
       "      <td>2021-07-02T00:00:00.000</td>\n",
       "      <td>Transfer</td>\n",
       "      <td>Partner</td>\n",
       "      <td>Other</td>\n",
       "      <td>Intact Male</td>\n",
       "      <td>8 months</td>\n",
       "      <td>Rabbit Sh</td>\n",
       "      <td>White</td>\n",
       "    </tr>\n",
       "    <tr>\n",
       "      <th>5</th>\n",
       "      <td>A850918</td>\n",
       "      <td>Kaia</td>\n",
       "      <td>2022-03-05 17:43:00</td>\n",
       "      <td>2022-03-05T17:43:00.000</td>\n",
       "      <td>2016-02-03T00:00:00.000</td>\n",
       "      <td>Adoption</td>\n",
       "      <td>NaN</td>\n",
       "      <td>Cat</td>\n",
       "      <td>Spayed Female</td>\n",
       "      <td>6 years</td>\n",
       "      <td>Domestic Shorthair Mix</td>\n",
       "      <td>White</td>\n",
       "    </tr>\n",
       "    <tr>\n",
       "      <th>6</th>\n",
       "      <td>A850917</td>\n",
       "      <td>Daphne</td>\n",
       "      <td>2022-03-05 17:43:00</td>\n",
       "      <td>2022-03-05T17:43:00.000</td>\n",
       "      <td>2016-02-03T00:00:00.000</td>\n",
       "      <td>Adoption</td>\n",
       "      <td>NaN</td>\n",
       "      <td>Cat</td>\n",
       "      <td>Spayed Female</td>\n",
       "      <td>6 years</td>\n",
       "      <td>Manx Mix</td>\n",
       "      <td>Torbie</td>\n",
       "    </tr>\n",
       "    <tr>\n",
       "      <th>7</th>\n",
       "      <td>A852574</td>\n",
       "      <td>Bean</td>\n",
       "      <td>2022-03-05 17:41:00</td>\n",
       "      <td>2022-03-05T17:41:00.000</td>\n",
       "      <td>2017-03-05T00:00:00.000</td>\n",
       "      <td>Return to Owner</td>\n",
       "      <td>NaN</td>\n",
       "      <td>Dog</td>\n",
       "      <td>Intact Female</td>\n",
       "      <td>5 years</td>\n",
       "      <td>Dachshund Longhair</td>\n",
       "      <td>Brown</td>\n",
       "    </tr>\n",
       "    <tr>\n",
       "      <th>8</th>\n",
       "      <td>A852044</td>\n",
       "      <td>Lily</td>\n",
       "      <td>2022-03-05 17:31:00</td>\n",
       "      <td>2022-03-05T17:31:00.000</td>\n",
       "      <td>2020-02-23T00:00:00.000</td>\n",
       "      <td>Adoption</td>\n",
       "      <td>NaN</td>\n",
       "      <td>Dog</td>\n",
       "      <td>Spayed Female</td>\n",
       "      <td>2 years</td>\n",
       "      <td>Australian Shepherd Mix</td>\n",
       "      <td>Red/White</td>\n",
       "    </tr>\n",
       "    <tr>\n",
       "      <th>9</th>\n",
       "      <td>A850256</td>\n",
       "      <td>Ghost</td>\n",
       "      <td>2022-03-05 16:58:00</td>\n",
       "      <td>2022-03-05T16:58:00.000</td>\n",
       "      <td>2019-01-21T00:00:00.000</td>\n",
       "      <td>Adoption</td>\n",
       "      <td>NaN</td>\n",
       "      <td>Dog</td>\n",
       "      <td>Neutered Male</td>\n",
       "      <td>3 years</td>\n",
       "      <td>Staffordshire</td>\n",
       "      <td>Blue/White</td>\n",
       "    </tr>\n",
       "  </tbody>\n",
       "</table>\n",
       "</div>"
      ],
      "text/plain": [
       "  animal_id      name            datetime                monthyear  \\\n",
       "0   A852444       Uno 2022-03-06 17:06:00  2022-03-06T17:06:00.000   \n",
       "1   A852297  *Sampson 2022-03-06 13:42:00  2022-03-06T13:42:00.000   \n",
       "2   A832436     Floki 2022-03-06 11:59:00  2022-03-06T11:59:00.000   \n",
       "3   A852624       NaN 2022-03-06 10:29:00  2022-03-06T10:29:00.000   \n",
       "4   A852411   A852411 2022-03-06 00:00:00  2022-03-06T00:00:00.000   \n",
       "5   A850918      Kaia 2022-03-05 17:43:00  2022-03-05T17:43:00.000   \n",
       "6   A850917    Daphne 2022-03-05 17:43:00  2022-03-05T17:43:00.000   \n",
       "7   A852574      Bean 2022-03-05 17:41:00  2022-03-05T17:41:00.000   \n",
       "8   A852044      Lily 2022-03-05 17:31:00  2022-03-05T17:31:00.000   \n",
       "9   A850256     Ghost 2022-03-05 16:58:00  2022-03-05T16:58:00.000   \n",
       "\n",
       "             date_of_birth     outcome_type outcome_subtype animal_type  \\\n",
       "0  2016-03-03T00:00:00.000  Return to Owner           Field         Dog   \n",
       "1  2020-03-01T00:00:00.000       Euthanasia       Suffering         Cat   \n",
       "2  2020-09-15T00:00:00.000         Transfer         Partner         Dog   \n",
       "3  2020-03-06T00:00:00.000       Euthanasia     Rabies Risk       Other   \n",
       "4  2021-07-02T00:00:00.000         Transfer         Partner       Other   \n",
       "5  2016-02-03T00:00:00.000         Adoption             NaN         Cat   \n",
       "6  2016-02-03T00:00:00.000         Adoption             NaN         Cat   \n",
       "7  2017-03-05T00:00:00.000  Return to Owner             NaN         Dog   \n",
       "8  2020-02-23T00:00:00.000         Adoption             NaN         Dog   \n",
       "9  2019-01-21T00:00:00.000         Adoption             NaN         Dog   \n",
       "\n",
       "  sex_upon_outcome age_upon_outcome                    breed             color  \n",
       "0    Neutered Male          6 years                  Maltese             White  \n",
       "1      Intact Male             NULL   Domestic Shorthair Mix      Orange Tabby  \n",
       "2    Neutered Male           1 year            Catahoula Mix  Blue Merle/White  \n",
       "3          Unknown             NULL                      Bat             Brown  \n",
       "4      Intact Male         8 months                Rabbit Sh             White  \n",
       "5    Spayed Female          6 years   Domestic Shorthair Mix             White  \n",
       "6    Spayed Female          6 years                 Manx Mix            Torbie  \n",
       "7    Intact Female          5 years       Dachshund Longhair             Brown  \n",
       "8    Spayed Female          2 years  Australian Shepherd Mix         Red/White  \n",
       "9    Neutered Male          3 years            Staffordshire        Blue/White  "
      ]
     },
     "execution_count": 5,
     "metadata": {},
     "output_type": "execute_result"
    }
   ],
   "source": [
    "animals.head(10)"
   ]
  },
  {
   "cell_type": "markdown",
   "metadata": {
    "hidden": true
   },
   "source": [
    "The `info()` and `describe()` provide a useful overview of the data."
   ]
  },
  {
   "cell_type": "code",
   "execution_count": 6,
   "metadata": {
    "ExecuteTime": {
     "end_time": "2021-10-18T20:32:28.032129Z",
     "start_time": "2021-10-18T20:32:28.020226Z"
    },
    "hidden": true
   },
   "outputs": [
    {
     "name": "stdout",
     "output_type": "stream",
     "text": [
      "<class 'pandas.core.frame.DataFrame'>\n",
      "RangeIndex: 1000 entries, 0 to 999\n",
      "Data columns (total 12 columns):\n",
      " #   Column            Non-Null Count  Dtype         \n",
      "---  ------            --------------  -----         \n",
      " 0   animal_id         1000 non-null   object        \n",
      " 1   name              867 non-null    object        \n",
      " 2   datetime          1000 non-null   datetime64[ns]\n",
      " 3   monthyear         1000 non-null   object        \n",
      " 4   date_of_birth     1000 non-null   object        \n",
      " 5   outcome_type      1000 non-null   object        \n",
      " 6   outcome_subtype   422 non-null    object        \n",
      " 7   animal_type       1000 non-null   object        \n",
      " 8   sex_upon_outcome  1000 non-null   object        \n",
      " 9   age_upon_outcome  1000 non-null   object        \n",
      " 10  breed             1000 non-null   object        \n",
      " 11  color             1000 non-null   object        \n",
      "dtypes: datetime64[ns](1), object(11)\n",
      "memory usage: 93.9+ KB\n"
     ]
    }
   ],
   "source": [
    "animals.info()"
   ]
  },
  {
   "cell_type": "markdown",
   "metadata": {
    "hidden": true
   },
   "source": [
    "> We can see we have some missing data. Specifically in the `outcome_type`, `outcome_subtype`, and `name` columns."
   ]
  },
  {
   "cell_type": "code",
   "execution_count": 7,
   "metadata": {
    "ExecuteTime": {
     "end_time": "2021-10-18T20:34:26.445738Z",
     "start_time": "2021-10-18T20:34:26.404291Z"
    },
    "hidden": true
   },
   "outputs": [
    {
     "name": "stderr",
     "output_type": "stream",
     "text": [
      "C:\\Users\\lokma\\Anaconda3\\lib\\site-packages\\ipykernel_launcher.py:1: FutureWarning: Treating datetime data as categorical rather than numeric in `.describe` is deprecated and will be removed in a future version of pandas. Specify `datetime_is_numeric=True` to silence this warning and adopt the future behavior now.\n",
      "  \"\"\"Entry point for launching an IPython kernel.\n"
     ]
    },
    {
     "data": {
      "text/html": [
       "<div>\n",
       "<style scoped>\n",
       "    .dataframe tbody tr th:only-of-type {\n",
       "        vertical-align: middle;\n",
       "    }\n",
       "\n",
       "    .dataframe tbody tr th {\n",
       "        vertical-align: top;\n",
       "    }\n",
       "\n",
       "    .dataframe thead th {\n",
       "        text-align: right;\n",
       "    }\n",
       "</style>\n",
       "<table border=\"1\" class=\"dataframe\">\n",
       "  <thead>\n",
       "    <tr style=\"text-align: right;\">\n",
       "      <th></th>\n",
       "      <th>animal_id</th>\n",
       "      <th>name</th>\n",
       "      <th>datetime</th>\n",
       "      <th>monthyear</th>\n",
       "      <th>date_of_birth</th>\n",
       "      <th>outcome_type</th>\n",
       "      <th>outcome_subtype</th>\n",
       "      <th>animal_type</th>\n",
       "      <th>sex_upon_outcome</th>\n",
       "      <th>age_upon_outcome</th>\n",
       "      <th>breed</th>\n",
       "      <th>color</th>\n",
       "    </tr>\n",
       "  </thead>\n",
       "  <tbody>\n",
       "    <tr>\n",
       "      <th>count</th>\n",
       "      <td>1000</td>\n",
       "      <td>867</td>\n",
       "      <td>1000</td>\n",
       "      <td>1000</td>\n",
       "      <td>1000</td>\n",
       "      <td>1000</td>\n",
       "      <td>422</td>\n",
       "      <td>1000</td>\n",
       "      <td>1000</td>\n",
       "      <td>1000</td>\n",
       "      <td>1000</td>\n",
       "      <td>1000</td>\n",
       "    </tr>\n",
       "    <tr>\n",
       "      <th>unique</th>\n",
       "      <td>983</td>\n",
       "      <td>792</td>\n",
       "      <td>893</td>\n",
       "      <td>893</td>\n",
       "      <td>518</td>\n",
       "      <td>7</td>\n",
       "      <td>15</td>\n",
       "      <td>4</td>\n",
       "      <td>5</td>\n",
       "      <td>35</td>\n",
       "      <td>180</td>\n",
       "      <td>122</td>\n",
       "    </tr>\n",
       "    <tr>\n",
       "      <th>top</th>\n",
       "      <td>A851219</td>\n",
       "      <td>Daisy</td>\n",
       "      <td>2022-02-09 15:30:00</td>\n",
       "      <td>2022-02-09T15:30:00.000</td>\n",
       "      <td>2020-03-01T00:00:00.000</td>\n",
       "      <td>Adoption</td>\n",
       "      <td>Partner</td>\n",
       "      <td>Dog</td>\n",
       "      <td>Neutered Male</td>\n",
       "      <td>2 years</td>\n",
       "      <td>Domestic Shorthair</td>\n",
       "      <td>Black/White</td>\n",
       "    </tr>\n",
       "    <tr>\n",
       "      <th>freq</th>\n",
       "      <td>2</td>\n",
       "      <td>6</td>\n",
       "      <td>5</td>\n",
       "      <td>5</td>\n",
       "      <td>21</td>\n",
       "      <td>541</td>\n",
       "      <td>146</td>\n",
       "      <td>649</td>\n",
       "      <td>355</td>\n",
       "      <td>253</td>\n",
       "      <td>158</td>\n",
       "      <td>119</td>\n",
       "    </tr>\n",
       "    <tr>\n",
       "      <th>first</th>\n",
       "      <td>NaN</td>\n",
       "      <td>NaN</td>\n",
       "      <td>2022-01-30 13:45:00</td>\n",
       "      <td>NaN</td>\n",
       "      <td>NaN</td>\n",
       "      <td>NaN</td>\n",
       "      <td>NaN</td>\n",
       "      <td>NaN</td>\n",
       "      <td>NaN</td>\n",
       "      <td>NaN</td>\n",
       "      <td>NaN</td>\n",
       "      <td>NaN</td>\n",
       "    </tr>\n",
       "    <tr>\n",
       "      <th>last</th>\n",
       "      <td>NaN</td>\n",
       "      <td>NaN</td>\n",
       "      <td>2022-03-06 17:06:00</td>\n",
       "      <td>NaN</td>\n",
       "      <td>NaN</td>\n",
       "      <td>NaN</td>\n",
       "      <td>NaN</td>\n",
       "      <td>NaN</td>\n",
       "      <td>NaN</td>\n",
       "      <td>NaN</td>\n",
       "      <td>NaN</td>\n",
       "      <td>NaN</td>\n",
       "    </tr>\n",
       "  </tbody>\n",
       "</table>\n",
       "</div>"
      ],
      "text/plain": [
       "       animal_id   name             datetime                monthyear  \\\n",
       "count       1000    867                 1000                     1000   \n",
       "unique       983    792                  893                      893   \n",
       "top      A851219  Daisy  2022-02-09 15:30:00  2022-02-09T15:30:00.000   \n",
       "freq           2      6                    5                        5   \n",
       "first        NaN    NaN  2022-01-30 13:45:00                      NaN   \n",
       "last         NaN    NaN  2022-03-06 17:06:00                      NaN   \n",
       "\n",
       "                  date_of_birth outcome_type outcome_subtype animal_type  \\\n",
       "count                      1000         1000             422        1000   \n",
       "unique                      518            7              15           4   \n",
       "top     2020-03-01T00:00:00.000     Adoption         Partner         Dog   \n",
       "freq                         21          541             146         649   \n",
       "first                       NaN          NaN             NaN         NaN   \n",
       "last                        NaN          NaN             NaN         NaN   \n",
       "\n",
       "       sex_upon_outcome age_upon_outcome               breed        color  \n",
       "count              1000             1000                1000         1000  \n",
       "unique                5               35                 180          122  \n",
       "top       Neutered Male          2 years  Domestic Shorthair  Black/White  \n",
       "freq                355              253                 158          119  \n",
       "first               NaN              NaN                 NaN          NaN  \n",
       "last                NaN              NaN                 NaN          NaN  "
      ]
     },
     "execution_count": 7,
     "metadata": {},
     "output_type": "execute_result"
    }
   ],
   "source": [
    "animals.describe()"
   ]
  },
  {
   "cell_type": "code",
   "execution_count": 8,
   "metadata": {
    "ExecuteTime": {
     "end_time": "2021-10-18T20:37:37.291801Z",
     "start_time": "2021-10-18T20:37:37.285348Z"
    },
    "hidden": true,
    "scrolled": true
   },
   "outputs": [
    {
     "data": {
      "text/plain": [
       "Black/White             119\n",
       "Black                    51\n",
       "White                    49\n",
       "Black/Brown              40\n",
       "Brown Tabby              40\n",
       "                       ... \n",
       "Black Brindle/Tan         1\n",
       "Yellow Brindle/Brown      1\n",
       "Fawn/Tan                  1\n",
       "Silver                    1\n",
       "White/Red Tick            1\n",
       "Name: color, Length: 122, dtype: int64"
      ]
     },
     "execution_count": 8,
     "metadata": {},
     "output_type": "execute_result"
    }
   ],
   "source": [
    "# Use value counts to check a categorical feature's distribution\n",
    "\n",
    "animals['color'].value_counts()"
   ]
  },
  {
   "cell_type": "markdown",
   "metadata": {
    "hidden": true
   },
   "source": [
    "Now that we have a sense of the data available to us, we can focus in on some more specific questions to dig into. These questions may or may not be directly relevant to your goal (e.g. helping plan a new shelter), but will always help you gain a better understanding of your data.\n",
    "\n",
    "In your EDA notebooks, **markdown** will be especially helpful in tracking these questions and your methods of answering the questions."
   ]
  },
  {
   "cell_type": "markdown",
   "metadata": {
    "heading_collapsed": true,
    "hidden": true
   },
   "source": [
    "## Question 1: What animal types are in the dataset?"
   ]
  },
  {
   "cell_type": "markdown",
   "metadata": {
    "hidden": true
   },
   "source": [
    "We can then begin thinking about what parts of the DataFrame we need to answer the question."
   ]
  },
  {
   "cell_type": "markdown",
   "metadata": {
    "hidden": true
   },
   "source": [
    "* What features do we need?\n",
    " - \"animal_type\"\n",
    "* What type of logic and calculation do we perform?\n",
    " - Let's use `.value_counts()` to count the different animal types\n",
    "* What type of visualization would help us answer the question?\n",
    " - A bar chart would be good for this purpose"
   ]
  },
  {
   "cell_type": "code",
   "execution_count": 9,
   "metadata": {
    "ExecuteTime": {
     "end_time": "2021-10-18T20:41:04.750215Z",
     "start_time": "2021-10-18T20:41:04.746112Z"
    }
   },
   "outputs": [
    {
     "data": {
      "text/plain": [
       "Index(['animal_id', 'name', 'datetime', 'monthyear', 'date_of_birth',\n",
       "       'outcome_type', 'outcome_subtype', 'animal_type', 'sex_upon_outcome',\n",
       "       'age_upon_outcome', 'breed', 'color'],\n",
       "      dtype='object')"
      ]
     },
     "execution_count": 9,
     "metadata": {},
     "output_type": "execute_result"
    }
   ],
   "source": [
    "animals.columns"
   ]
  },
  {
   "cell_type": "code",
   "execution_count": 10,
   "metadata": {
    "ExecuteTime": {
     "end_time": "2021-10-18T20:41:25.123041Z",
     "start_time": "2021-10-18T20:41:25.117786Z"
    },
    "hidden": true
   },
   "outputs": [
    {
     "data": {
      "text/plain": [
       "Dog      649\n",
       "Cat      265\n",
       "Other     64\n",
       "Bird      22\n",
       "Name: animal_type, dtype: int64"
      ]
     },
     "execution_count": 10,
     "metadata": {},
     "output_type": "execute_result"
    }
   ],
   "source": [
    "animals['animal_type'].value_counts()"
   ]
  },
  {
   "cell_type": "code",
   "execution_count": 11,
   "metadata": {
    "ExecuteTime": {
     "end_time": "2021-10-18T20:44:57.599386Z",
     "start_time": "2021-10-18T20:44:57.456614Z"
    },
    "hidden": true
   },
   "outputs": [
    {
     "data": {
      "image/png": "[encoded data removed]",
      "text/plain": [
       "<Figure size 432x288 with 1 Axes>"
      ]
     },
     "metadata": {
      "needs_background": "light"
     },
     "output_type": "display_data"
    }
   ],
   "source": [
    "fig, ax = plt.subplots()\n",
    "\n",
    "animal_type_values = animals['animal_type'].value_counts()\n",
    "\n",
    "ax.barh(\n",
    "    y=animal_type_values.index,\n",
    "    width=animal_type_values.values\n",
    ")\n",
    "ax.set_xlabel('count');"
   ]
  },
  {
   "cell_type": "code",
   "execution_count": 12,
   "metadata": {
    "ExecuteTime": {
     "end_time": "2021-10-18T20:45:58.975791Z",
     "start_time": "2021-10-18T20:45:58.814181Z"
    },
    "hidden": true
   },
   "outputs": [
    {
     "data": {
      "image/png": "[encoded data removed]",
      "text/plain": [
       "<Figure size 432x288 with 1 Axes>"
      ]
     },
     "metadata": {
      "needs_background": "light"
     },
     "output_type": "display_data"
    }
   ],
   "source": [
    "animals['animal_type'].hist();"
   ]
  },
  {
   "cell_type": "markdown",
   "metadata": {
    "hidden": true
   },
   "source": [
    "Questions lead to other questions. For the above example, the visualization raises the question..."
   ]
  },
  {
   "cell_type": "markdown",
   "metadata": {
    "heading_collapsed": true,
    "hidden": true
   },
   "source": [
    "## Question 2: What \"Other\" animals are in the dataset?"
   ]
  },
  {
   "cell_type": "markdown",
   "metadata": {
    "hidden": true
   },
   "source": [
    "To find out, we need to know whether the type of animal for \"Other\" is in our dataset - and if so, where to find it.   "
   ]
  },
  {
   "cell_type": "markdown",
   "metadata": {
    "hidden": true
   },
   "source": [
    "**Discussion**: Where might we look to find animal types within the Other category?\n",
    "\n",
    "<details>\n",
    "    <summary>\n",
    "        Answer\n",
    "    </summary>\n",
    "        The breed column.\n",
    "</details>"
   ]
  },
  {
   "cell_type": "code",
   "execution_count": 13,
   "metadata": {
    "ExecuteTime": {
     "end_time": "2021-10-18T20:47:07.493227Z",
     "start_time": "2021-10-18T20:47:07.479038Z"
    },
    "hidden": true
   },
   "outputs": [
    {
     "data": {
      "text/html": [
       "<div>\n",
       "<style scoped>\n",
       "    .dataframe tbody tr th:only-of-type {\n",
       "        vertical-align: middle;\n",
       "    }\n",
       "\n",
       "    .dataframe tbody tr th {\n",
       "        vertical-align: top;\n",
       "    }\n",
       "\n",
       "    .dataframe thead th {\n",
       "        text-align: right;\n",
       "    }\n",
       "</style>\n",
       "<table border=\"1\" class=\"dataframe\">\n",
       "  <thead>\n",
       "    <tr style=\"text-align: right;\">\n",
       "      <th></th>\n",
       "      <th>animal_id</th>\n",
       "      <th>name</th>\n",
       "      <th>datetime</th>\n",
       "      <th>monthyear</th>\n",
       "      <th>date_of_birth</th>\n",
       "      <th>outcome_type</th>\n",
       "      <th>outcome_subtype</th>\n",
       "      <th>animal_type</th>\n",
       "      <th>sex_upon_outcome</th>\n",
       "      <th>age_upon_outcome</th>\n",
       "      <th>breed</th>\n",
       "      <th>color</th>\n",
       "    </tr>\n",
       "  </thead>\n",
       "  <tbody>\n",
       "    <tr>\n",
       "      <th>0</th>\n",
       "      <td>A852444</td>\n",
       "      <td>Uno</td>\n",
       "      <td>2022-03-06 17:06:00</td>\n",
       "      <td>2022-03-06T17:06:00.000</td>\n",
       "      <td>2016-03-03T00:00:00.000</td>\n",
       "      <td>Return to Owner</td>\n",
       "      <td>Field</td>\n",
       "      <td>Dog</td>\n",
       "      <td>Neutered Male</td>\n",
       "      <td>6 years</td>\n",
       "      <td>Maltese</td>\n",
       "      <td>White</td>\n",
       "    </tr>\n",
       "    <tr>\n",
       "      <th>1</th>\n",
       "      <td>A852297</td>\n",
       "      <td>*Sampson</td>\n",
       "      <td>2022-03-06 13:42:00</td>\n",
       "      <td>2022-03-06T13:42:00.000</td>\n",
       "      <td>2020-03-01T00:00:00.000</td>\n",
       "      <td>Euthanasia</td>\n",
       "      <td>Suffering</td>\n",
       "      <td>Cat</td>\n",
       "      <td>Intact Male</td>\n",
       "      <td>NULL</td>\n",
       "      <td>Domestic Shorthair Mix</td>\n",
       "      <td>Orange Tabby</td>\n",
       "    </tr>\n",
       "    <tr>\n",
       "      <th>2</th>\n",
       "      <td>A832436</td>\n",
       "      <td>Floki</td>\n",
       "      <td>2022-03-06 11:59:00</td>\n",
       "      <td>2022-03-06T11:59:00.000</td>\n",
       "      <td>2020-09-15T00:00:00.000</td>\n",
       "      <td>Transfer</td>\n",
       "      <td>Partner</td>\n",
       "      <td>Dog</td>\n",
       "      <td>Neutered Male</td>\n",
       "      <td>1 year</td>\n",
       "      <td>Catahoula Mix</td>\n",
       "      <td>Blue Merle/White</td>\n",
       "    </tr>\n",
       "    <tr>\n",
       "      <th>3</th>\n",
       "      <td>A852624</td>\n",
       "      <td>NaN</td>\n",
       "      <td>2022-03-06 10:29:00</td>\n",
       "      <td>2022-03-06T10:29:00.000</td>\n",
       "      <td>2020-03-06T00:00:00.000</td>\n",
       "      <td>Euthanasia</td>\n",
       "      <td>Rabies Risk</td>\n",
       "      <td>Other</td>\n",
       "      <td>Unknown</td>\n",
       "      <td>NULL</td>\n",
       "      <td>Bat</td>\n",
       "      <td>Brown</td>\n",
       "    </tr>\n",
       "    <tr>\n",
       "      <th>4</th>\n",
       "      <td>A852411</td>\n",
       "      <td>A852411</td>\n",
       "      <td>2022-03-06 00:00:00</td>\n",
       "      <td>2022-03-06T00:00:00.000</td>\n",
       "      <td>2021-07-02T00:00:00.000</td>\n",
       "      <td>Transfer</td>\n",
       "      <td>Partner</td>\n",
       "      <td>Other</td>\n",
       "      <td>Intact Male</td>\n",
       "      <td>8 months</td>\n",
       "      <td>Rabbit Sh</td>\n",
       "      <td>White</td>\n",
       "    </tr>\n",
       "  </tbody>\n",
       "</table>\n",
       "</div>"
      ],
      "text/plain": [
       "  animal_id      name            datetime                monthyear  \\\n",
       "0   A852444       Uno 2022-03-06 17:06:00  2022-03-06T17:06:00.000   \n",
       "1   A852297  *Sampson 2022-03-06 13:42:00  2022-03-06T13:42:00.000   \n",
       "2   A832436     Floki 2022-03-06 11:59:00  2022-03-06T11:59:00.000   \n",
       "3   A852624       NaN 2022-03-06 10:29:00  2022-03-06T10:29:00.000   \n",
       "4   A852411   A852411 2022-03-06 00:00:00  2022-03-06T00:00:00.000   \n",
       "\n",
       "             date_of_birth     outcome_type outcome_subtype animal_type  \\\n",
       "0  2016-03-03T00:00:00.000  Return to Owner           Field         Dog   \n",
       "1  2020-03-01T00:00:00.000       Euthanasia       Suffering         Cat   \n",
       "2  2020-09-15T00:00:00.000         Transfer         Partner         Dog   \n",
       "3  2020-03-06T00:00:00.000       Euthanasia     Rabies Risk       Other   \n",
       "4  2021-07-02T00:00:00.000         Transfer         Partner       Other   \n",
       "\n",
       "  sex_upon_outcome age_upon_outcome                   breed             color  \n",
       "0    Neutered Male          6 years                 Maltese             White  \n",
       "1      Intact Male             NULL  Domestic Shorthair Mix      Orange Tabby  \n",
       "2    Neutered Male           1 year           Catahoula Mix  Blue Merle/White  \n",
       "3          Unknown             NULL                     Bat             Brown  \n",
       "4      Intact Male         8 months               Rabbit Sh             White  "
      ]
     },
     "execution_count": 13,
     "metadata": {},
     "output_type": "execute_result"
    }
   ],
   "source": [
    "# Your exploration here\n",
    "animals.head()"
   ]
  },
  {
   "cell_type": "markdown",
   "metadata": {
    "hidden": true
   },
   "source": [
    "Let's use that column to answer our question."
   ]
  },
  {
   "cell_type": "code",
   "execution_count": 14,
   "metadata": {
    "ExecuteTime": {
     "end_time": "2021-10-18T20:49:00.444191Z",
     "start_time": "2021-10-18T20:49:00.438062Z"
    },
    "hidden": true
   },
   "outputs": [
    {
     "data": {
      "text/plain": [
       "Raccoon       22\n",
       "Bat           14\n",
       "Rabbit Sh     13\n",
       "Guinea Pig     9\n",
       "Fox            2\n",
       "Skunk          2\n",
       "Ferret         2\n",
       "Name: breed, dtype: int64"
      ]
     },
     "execution_count": 14,
     "metadata": {},
     "output_type": "execute_result"
    }
   ],
   "source": [
    "mask_other_animals = animals['animal_type'] == 'Other'\n",
    "animals[mask_other_animals]['breed'].value_counts()"
   ]
  },
  {
   "cell_type": "code",
   "execution_count": 15,
   "metadata": {
    "ExecuteTime": {
     "end_time": "2021-10-18T20:50:18.072815Z",
     "start_time": "2021-10-18T20:50:18.054043Z"
    }
   },
   "outputs": [
    {
     "data": {
      "text/html": [
       "<div>\n",
       "<style scoped>\n",
       "    .dataframe tbody tr th:only-of-type {\n",
       "        vertical-align: middle;\n",
       "    }\n",
       "\n",
       "    .dataframe tbody tr th {\n",
       "        vertical-align: top;\n",
       "    }\n",
       "\n",
       "    .dataframe thead th {\n",
       "        text-align: right;\n",
       "    }\n",
       "</style>\n",
       "<table border=\"1\" class=\"dataframe\">\n",
       "  <thead>\n",
       "    <tr style=\"text-align: right;\">\n",
       "      <th></th>\n",
       "      <th>animal_id</th>\n",
       "      <th>name</th>\n",
       "      <th>datetime</th>\n",
       "      <th>monthyear</th>\n",
       "      <th>date_of_birth</th>\n",
       "      <th>outcome_type</th>\n",
       "      <th>outcome_subtype</th>\n",
       "      <th>animal_type</th>\n",
       "      <th>sex_upon_outcome</th>\n",
       "      <th>age_upon_outcome</th>\n",
       "      <th>breed</th>\n",
       "      <th>color</th>\n",
       "    </tr>\n",
       "  </thead>\n",
       "  <tbody>\n",
       "    <tr>\n",
       "      <th>3</th>\n",
       "      <td>A852624</td>\n",
       "      <td>NaN</td>\n",
       "      <td>2022-03-06 10:29:00</td>\n",
       "      <td>2022-03-06T10:29:00.000</td>\n",
       "      <td>2020-03-06T00:00:00.000</td>\n",
       "      <td>Euthanasia</td>\n",
       "      <td>Rabies Risk</td>\n",
       "      <td>Other</td>\n",
       "      <td>Unknown</td>\n",
       "      <td>NULL</td>\n",
       "      <td>Bat</td>\n",
       "      <td>Brown</td>\n",
       "    </tr>\n",
       "    <tr>\n",
       "      <th>4</th>\n",
       "      <td>A852411</td>\n",
       "      <td>A852411</td>\n",
       "      <td>2022-03-06 00:00:00</td>\n",
       "      <td>2022-03-06T00:00:00.000</td>\n",
       "      <td>2021-07-02T00:00:00.000</td>\n",
       "      <td>Transfer</td>\n",
       "      <td>Partner</td>\n",
       "      <td>Other</td>\n",
       "      <td>Intact Male</td>\n",
       "      <td>8 months</td>\n",
       "      <td>Rabbit Sh</td>\n",
       "      <td>White</td>\n",
       "    </tr>\n",
       "    <tr>\n",
       "      <th>13</th>\n",
       "      <td>A852594</td>\n",
       "      <td>NaN</td>\n",
       "      <td>2022-03-05 15:59:00</td>\n",
       "      <td>2022-03-05T15:59:00.000</td>\n",
       "      <td>2020-03-05T00:00:00.000</td>\n",
       "      <td>Euthanasia</td>\n",
       "      <td>Rabies Risk</td>\n",
       "      <td>Other</td>\n",
       "      <td>Unknown</td>\n",
       "      <td>NULL</td>\n",
       "      <td>Raccoon</td>\n",
       "      <td>Black/Gray</td>\n",
       "    </tr>\n",
       "    <tr>\n",
       "      <th>27</th>\n",
       "      <td>A845563</td>\n",
       "      <td>George Hare-Ison</td>\n",
       "      <td>2022-03-05 13:35:00</td>\n",
       "      <td>2022-03-05T13:35:00.000</td>\n",
       "      <td>2019-11-01T00:00:00.000</td>\n",
       "      <td>Adoption</td>\n",
       "      <td>Foster</td>\n",
       "      <td>Other</td>\n",
       "      <td>Neutered Male</td>\n",
       "      <td>2 years</td>\n",
       "      <td>Rabbit Sh</td>\n",
       "      <td>White/Brown</td>\n",
       "    </tr>\n",
       "    <tr>\n",
       "      <th>35</th>\n",
       "      <td>A852548</td>\n",
       "      <td>NaN</td>\n",
       "      <td>2022-03-05 08:55:00</td>\n",
       "      <td>2022-03-05T08:55:00.000</td>\n",
       "      <td>2021-03-04T00:00:00.000</td>\n",
       "      <td>Euthanasia</td>\n",
       "      <td>Rabies Risk</td>\n",
       "      <td>Other</td>\n",
       "      <td>Unknown</td>\n",
       "      <td>1 year</td>\n",
       "      <td>Skunk</td>\n",
       "      <td>Black/White</td>\n",
       "    </tr>\n",
       "    <tr>\n",
       "      <th>...</th>\n",
       "      <td>...</td>\n",
       "      <td>...</td>\n",
       "      <td>...</td>\n",
       "      <td>...</td>\n",
       "      <td>...</td>\n",
       "      <td>...</td>\n",
       "      <td>...</td>\n",
       "      <td>...</td>\n",
       "      <td>...</td>\n",
       "      <td>...</td>\n",
       "      <td>...</td>\n",
       "      <td>...</td>\n",
       "    </tr>\n",
       "    <tr>\n",
       "      <th>879</th>\n",
       "      <td>A850758</td>\n",
       "      <td>Max</td>\n",
       "      <td>2022-02-02 16:19:00</td>\n",
       "      <td>2022-02-02T16:19:00.000</td>\n",
       "      <td>2020-12-31T00:00:00.000</td>\n",
       "      <td>Transfer</td>\n",
       "      <td>Partner</td>\n",
       "      <td>Other</td>\n",
       "      <td>Intact Male</td>\n",
       "      <td>1 year</td>\n",
       "      <td>Guinea Pig</td>\n",
       "      <td>Tricolor</td>\n",
       "    </tr>\n",
       "    <tr>\n",
       "      <th>880</th>\n",
       "      <td>A850755</td>\n",
       "      <td>Tokyo</td>\n",
       "      <td>2022-02-02 16:18:00</td>\n",
       "      <td>2022-02-02T16:18:00.000</td>\n",
       "      <td>2020-01-31T00:00:00.000</td>\n",
       "      <td>Transfer</td>\n",
       "      <td>Partner</td>\n",
       "      <td>Other</td>\n",
       "      <td>Intact Female</td>\n",
       "      <td>2 years</td>\n",
       "      <td>Guinea Pig</td>\n",
       "      <td>Tricolor</td>\n",
       "    </tr>\n",
       "    <tr>\n",
       "      <th>881</th>\n",
       "      <td>A850754</td>\n",
       "      <td>Felix</td>\n",
       "      <td>2022-02-02 16:18:00</td>\n",
       "      <td>2022-02-02T16:18:00.000</td>\n",
       "      <td>2020-01-31T00:00:00.000</td>\n",
       "      <td>Transfer</td>\n",
       "      <td>Partner</td>\n",
       "      <td>Other</td>\n",
       "      <td>Neutered Male</td>\n",
       "      <td>2 years</td>\n",
       "      <td>Guinea Pig</td>\n",
       "      <td>Brown/White</td>\n",
       "    </tr>\n",
       "    <tr>\n",
       "      <th>955</th>\n",
       "      <td>A850716</td>\n",
       "      <td>NaN</td>\n",
       "      <td>2022-02-01 07:44:00</td>\n",
       "      <td>2022-02-01T07:44:00.000</td>\n",
       "      <td>2020-01-30T00:00:00.000</td>\n",
       "      <td>Euthanasia</td>\n",
       "      <td>Rabies Risk</td>\n",
       "      <td>Other</td>\n",
       "      <td>Unknown</td>\n",
       "      <td>2 years</td>\n",
       "      <td>Raccoon</td>\n",
       "      <td>Tan/Gray</td>\n",
       "    </tr>\n",
       "    <tr>\n",
       "      <th>997</th>\n",
       "      <td>A850679</td>\n",
       "      <td>NaN</td>\n",
       "      <td>2022-01-31 07:41:00</td>\n",
       "      <td>2022-01-31T07:41:00.000</td>\n",
       "      <td>2021-01-29T00:00:00.000</td>\n",
       "      <td>Euthanasia</td>\n",
       "      <td>Rabies Risk</td>\n",
       "      <td>Other</td>\n",
       "      <td>Unknown</td>\n",
       "      <td>1 year</td>\n",
       "      <td>Raccoon</td>\n",
       "      <td>Brown/Black</td>\n",
       "    </tr>\n",
       "  </tbody>\n",
       "</table>\n",
       "<p>64 rows × 12 columns</p>\n",
       "</div>"
      ],
      "text/plain": [
       "    animal_id              name            datetime                monthyear  \\\n",
       "3     A852624               NaN 2022-03-06 10:29:00  2022-03-06T10:29:00.000   \n",
       "4     A852411           A852411 2022-03-06 00:00:00  2022-03-06T00:00:00.000   \n",
       "13    A852594               NaN 2022-03-05 15:59:00  2022-03-05T15:59:00.000   \n",
       "27    A845563  George Hare-Ison 2022-03-05 13:35:00  2022-03-05T13:35:00.000   \n",
       "35    A852548               NaN 2022-03-05 08:55:00  2022-03-05T08:55:00.000   \n",
       "..        ...               ...                 ...                      ...   \n",
       "879   A850758               Max 2022-02-02 16:19:00  2022-02-02T16:19:00.000   \n",
       "880   A850755             Tokyo 2022-02-02 16:18:00  2022-02-02T16:18:00.000   \n",
       "881   A850754             Felix 2022-02-02 16:18:00  2022-02-02T16:18:00.000   \n",
       "955   A850716               NaN 2022-02-01 07:44:00  2022-02-01T07:44:00.000   \n",
       "997   A850679               NaN 2022-01-31 07:41:00  2022-01-31T07:41:00.000   \n",
       "\n",
       "               date_of_birth outcome_type outcome_subtype animal_type  \\\n",
       "3    2020-03-06T00:00:00.000   Euthanasia     Rabies Risk       Other   \n",
       "4    2021-07-02T00:00:00.000     Transfer         Partner       Other   \n",
       "13   2020-03-05T00:00:00.000   Euthanasia     Rabies Risk       Other   \n",
       "27   2019-11-01T00:00:00.000     Adoption          Foster       Other   \n",
       "35   2021-03-04T00:00:00.000   Euthanasia     Rabies Risk       Other   \n",
       "..                       ...          ...             ...         ...   \n",
       "879  2020-12-31T00:00:00.000     Transfer         Partner       Other   \n",
       "880  2020-01-31T00:00:00.000     Transfer         Partner       Other   \n",
       "881  2020-01-31T00:00:00.000     Transfer         Partner       Other   \n",
       "955  2020-01-30T00:00:00.000   Euthanasia     Rabies Risk       Other   \n",
       "997  2021-01-29T00:00:00.000   Euthanasia     Rabies Risk       Other   \n",
       "\n",
       "    sex_upon_outcome age_upon_outcome       breed        color  \n",
       "3            Unknown             NULL         Bat        Brown  \n",
       "4        Intact Male         8 months   Rabbit Sh        White  \n",
       "13           Unknown             NULL     Raccoon   Black/Gray  \n",
       "27     Neutered Male          2 years   Rabbit Sh  White/Brown  \n",
       "35           Unknown           1 year       Skunk  Black/White  \n",
       "..               ...              ...         ...          ...  \n",
       "879      Intact Male           1 year  Guinea Pig     Tricolor  \n",
       "880    Intact Female          2 years  Guinea Pig     Tricolor  \n",
       "881    Neutered Male          2 years  Guinea Pig  Brown/White  \n",
       "955          Unknown          2 years     Raccoon     Tan/Gray  \n",
       "997          Unknown           1 year     Raccoon  Brown/Black  \n",
       "\n",
       "[64 rows x 12 columns]"
      ]
     },
     "execution_count": 15,
     "metadata": {},
     "output_type": "execute_result"
    }
   ],
   "source": [
    "animals[mask_other_animals]"
   ]
  },
  {
   "cell_type": "markdown",
   "metadata": {
    "heading_collapsed": true,
    "hidden": true
   },
   "source": [
    "## Question 3: How old are the animals in our dataset?"
   ]
  },
  {
   "cell_type": "markdown",
   "metadata": {
    "hidden": true
   },
   "source": [
    "Let's try to answer this with the `age_upon_outcome` variable to learn some new `pandas` tools."
   ]
  },
  {
   "cell_type": "code",
   "execution_count": 16,
   "metadata": {
    "ExecuteTime": {
     "end_time": "2021-10-18T20:51:03.842242Z",
     "start_time": "2021-10-18T20:51:03.837073Z"
    },
    "hidden": true
   },
   "outputs": [
    {
     "data": {
      "text/plain": [
       "2 years      253\n",
       "1 year       149\n",
       "2 months     120\n",
       "3 months      43\n",
       "3 years       41\n",
       "1 month       36\n",
       "4 years       34\n",
       "4 months      33\n",
       "6 months      32\n",
       "5 months      28\n",
       "5 years       27\n",
       "7 years       19\n",
       "10 months     17\n",
       "7 months      17\n",
       "10 years      17\n",
       "6 years       17\n",
       "8 years       16\n",
       "8 months      16\n",
       "2 weeks       10\n",
       "9 months      10\n",
       "1 weeks        9\n",
       "11 months      7\n",
       "NULL           7\n",
       "12 years       6\n",
       "13 years       5\n",
       "11 years       5\n",
       "0 years        5\n",
       "9 years        5\n",
       "1 day          4\n",
       "15 years       3\n",
       "3 days         3\n",
       "14 years       3\n",
       "3 weeks        1\n",
       "5 weeks        1\n",
       "4 weeks        1\n",
       "Name: age_upon_outcome, dtype: int64"
      ]
     },
     "execution_count": 16,
     "metadata": {},
     "output_type": "execute_result"
    }
   ],
   "source": [
    "animals['age_upon_outcome'].value_counts()"
   ]
  },
  {
   "cell_type": "markdown",
   "metadata": {
    "heading_collapsed": true,
    "hidden": true
   },
   "source": [
    "### `Series.map()`"
   ]
  },
  {
   "cell_type": "markdown",
   "metadata": {
    "hidden": true
   },
   "source": [
    "The `.map()` method applies a transformation to every entry in the Series. This transformation  \"maps\" each value from the Series to a new value. A transformation can be defined by a function, Series, or dictionary - usually we'll use functions."
   ]
  },
  {
   "cell_type": "markdown",
   "metadata": {
    "hidden": true
   },
   "source": [
    "The `.apply()` method is similar to the `.map()` method for Series, but can only use functions. It has more powerful uses when working with DataFrames."
   ]
  },
  {
   "cell_type": "code",
   "execution_count": 17,
   "metadata": {
    "ExecuteTime": {
     "end_time": "2021-10-18T20:54:08.606653Z",
     "start_time": "2021-10-18T20:54:08.603857Z"
    },
    "hidden": true
   },
   "outputs": [],
   "source": [
    "def one_year(age):\n",
    "    if age == '1 year':\n",
    "        return '1 years'\n",
    "    else:\n",
    "        return age"
   ]
  },
  {
   "cell_type": "code",
   "execution_count": 18,
   "metadata": {
    "ExecuteTime": {
     "end_time": "2021-10-18T20:54:12.345498Z",
     "start_time": "2021-10-18T20:54:12.338913Z"
    },
    "hidden": true,
    "scrolled": true
   },
   "outputs": [
    {
     "data": {
      "text/plain": [
       "2 years      253\n",
       "1 years      149\n",
       "2 months     120\n",
       "3 months      43\n",
       "3 years       41\n",
       "1 month       36\n",
       "4 years       34\n",
       "4 months      33\n",
       "6 months      32\n",
       "5 months      28\n",
       "5 years       27\n",
       "7 years       19\n",
       "6 years       17\n",
       "10 months     17\n",
       "7 months      17\n",
       "10 years      17\n",
       "8 years       16\n",
       "8 months      16\n",
       "9 months      10\n",
       "2 weeks       10\n",
       "1 weeks        9\n",
       "11 months      7\n",
       "NULL           7\n",
       "12 years       6\n",
       "0 years        5\n",
       "13 years       5\n",
       "9 years        5\n",
       "11 years       5\n",
       "1 day          4\n",
       "15 years       3\n",
       "3 days         3\n",
       "14 years       3\n",
       "5 weeks        1\n",
       "3 weeks        1\n",
       "4 weeks        1\n",
       "Name: new_age1, dtype: int64"
      ]
     },
     "execution_count": 18,
     "metadata": {},
     "output_type": "execute_result"
    }
   ],
   "source": [
    "animals['new_age1'] = animals['age_upon_outcome'].map(one_year)\n",
    "animals['new_age1'].value_counts()"
   ]
  },
  {
   "cell_type": "markdown",
   "metadata": {
    "heading_collapsed": true,
    "hidden": true
   },
   "source": [
    "### More Sophisticated Mapping"
   ]
  },
  {
   "cell_type": "markdown",
   "metadata": {
    "hidden": true
   },
   "source": [
    "Let's use `.map()` to turn sex_upon_outcome into a category with three values (called **ternary**): male, female, or unknown. "
   ]
  },
  {
   "cell_type": "markdown",
   "metadata": {
    "hidden": true
   },
   "source": [
    "First, explore the unique values:"
   ]
  },
  {
   "cell_type": "code",
   "execution_count": 19,
   "metadata": {
    "ExecuteTime": {
     "end_time": "2021-10-19T16:01:18.722618Z",
     "start_time": "2021-10-19T16:01:18.718716Z"
    },
    "hidden": true
   },
   "outputs": [
    {
     "data": {
      "text/plain": [
       "array(['Neutered Male', 'Intact Male', 'Unknown', 'Spayed Female',\n",
       "       'Intact Female'], dtype=object)"
      ]
     },
     "execution_count": 19,
     "metadata": {},
     "output_type": "execute_result"
    }
   ],
   "source": [
    "animals['sex_upon_outcome'].unique()"
   ]
  },
  {
   "cell_type": "code",
   "execution_count": 20,
   "metadata": {
    "ExecuteTime": {
     "end_time": "2021-10-19T16:01:19.601146Z",
     "start_time": "2021-10-19T16:01:19.598655Z"
    },
    "hidden": true
   },
   "outputs": [],
   "source": [
    "def sex_mapper(status):\n",
    "    if status in ['Neutered Male', 'Intact Male']:\n",
    "        return 'Male'\n",
    "    elif status in ['Spayed Female', 'Intact Female']:\n",
    "        return 'Female'\n",
    "    else:\n",
    "        return 'Unknown'"
   ]
  },
  {
   "cell_type": "code",
   "execution_count": 21,
   "metadata": {
    "ExecuteTime": {
     "end_time": "2021-10-19T16:02:02.993990Z",
     "start_time": "2021-10-19T16:02:02.984112Z"
    },
    "hidden": true
   },
   "outputs": [
    {
     "data": {
      "text/html": [
       "<div>\n",
       "<style scoped>\n",
       "    .dataframe tbody tr th:only-of-type {\n",
       "        vertical-align: middle;\n",
       "    }\n",
       "\n",
       "    .dataframe tbody tr th {\n",
       "        vertical-align: top;\n",
       "    }\n",
       "\n",
       "    .dataframe thead th {\n",
       "        text-align: right;\n",
       "    }\n",
       "</style>\n",
       "<table border=\"1\" class=\"dataframe\">\n",
       "  <thead>\n",
       "    <tr style=\"text-align: right;\">\n",
       "      <th></th>\n",
       "      <th>sex_upon_outcome</th>\n",
       "      <th>new_sex1</th>\n",
       "    </tr>\n",
       "  </thead>\n",
       "  <tbody>\n",
       "    <tr>\n",
       "      <th>0</th>\n",
       "      <td>Neutered Male</td>\n",
       "      <td>Male</td>\n",
       "    </tr>\n",
       "    <tr>\n",
       "      <th>1</th>\n",
       "      <td>Intact Male</td>\n",
       "      <td>Male</td>\n",
       "    </tr>\n",
       "    <tr>\n",
       "      <th>2</th>\n",
       "      <td>Neutered Male</td>\n",
       "      <td>Male</td>\n",
       "    </tr>\n",
       "    <tr>\n",
       "      <th>3</th>\n",
       "      <td>Unknown</td>\n",
       "      <td>Unknown</td>\n",
       "    </tr>\n",
       "    <tr>\n",
       "      <th>4</th>\n",
       "      <td>Intact Male</td>\n",
       "      <td>Male</td>\n",
       "    </tr>\n",
       "    <tr>\n",
       "      <th>...</th>\n",
       "      <td>...</td>\n",
       "      <td>...</td>\n",
       "    </tr>\n",
       "    <tr>\n",
       "      <th>995</th>\n",
       "      <td>Intact Female</td>\n",
       "      <td>Female</td>\n",
       "    </tr>\n",
       "    <tr>\n",
       "      <th>996</th>\n",
       "      <td>Intact Female</td>\n",
       "      <td>Female</td>\n",
       "    </tr>\n",
       "    <tr>\n",
       "      <th>997</th>\n",
       "      <td>Unknown</td>\n",
       "      <td>Unknown</td>\n",
       "    </tr>\n",
       "    <tr>\n",
       "      <th>998</th>\n",
       "      <td>Intact Female</td>\n",
       "      <td>Female</td>\n",
       "    </tr>\n",
       "    <tr>\n",
       "      <th>999</th>\n",
       "      <td>Intact Male</td>\n",
       "      <td>Male</td>\n",
       "    </tr>\n",
       "  </tbody>\n",
       "</table>\n",
       "<p>1000 rows × 2 columns</p>\n",
       "</div>"
      ],
      "text/plain": [
       "    sex_upon_outcome new_sex1\n",
       "0      Neutered Male     Male\n",
       "1        Intact Male     Male\n",
       "2      Neutered Male     Male\n",
       "3            Unknown  Unknown\n",
       "4        Intact Male     Male\n",
       "..               ...      ...\n",
       "995    Intact Female   Female\n",
       "996    Intact Female   Female\n",
       "997          Unknown  Unknown\n",
       "998    Intact Female   Female\n",
       "999      Intact Male     Male\n",
       "\n",
       "[1000 rows x 2 columns]"
      ]
     },
     "execution_count": 21,
     "metadata": {},
     "output_type": "execute_result"
    }
   ],
   "source": [
    "animals['new_sex1'] = animals['sex_upon_outcome'].apply(sex_mapper)\n",
    "animals.loc[:, ['sex_upon_outcome', 'new_sex1']]"
   ]
  },
  {
   "cell_type": "markdown",
   "metadata": {
    "heading_collapsed": true,
    "hidden": true
   },
   "source": [
    "### Lambda Functions"
   ]
  },
  {
   "cell_type": "markdown",
   "metadata": {
    "hidden": true
   },
   "source": [
    "Simple functions can be defined just when you need them, when you would call the function. These are called **lambda functions**. These functions are **anonymous** and disappear immediately after use."
   ]
  },
  {
   "cell_type": "markdown",
   "metadata": {
    "hidden": true
   },
   "source": [
    "Let's use a lambda function to get rid of 'Other' in the \"animal_type' column."
   ]
  },
  {
   "cell_type": "code",
   "execution_count": 22,
   "metadata": {
    "ExecuteTime": {
     "end_time": "2021-10-18T21:04:22.740425Z",
     "start_time": "2021-10-18T21:04:22.719351Z"
    },
    "hidden": true
   },
   "outputs": [
    {
     "data": {
      "text/html": [
       "<div>\n",
       "<style scoped>\n",
       "    .dataframe tbody tr th:only-of-type {\n",
       "        vertical-align: middle;\n",
       "    }\n",
       "\n",
       "    .dataframe tbody tr th {\n",
       "        vertical-align: top;\n",
       "    }\n",
       "\n",
       "    .dataframe thead th {\n",
       "        text-align: right;\n",
       "    }\n",
       "</style>\n",
       "<table border=\"1\" class=\"dataframe\">\n",
       "  <thead>\n",
       "    <tr style=\"text-align: right;\">\n",
       "      <th></th>\n",
       "      <th>animal_id</th>\n",
       "      <th>name</th>\n",
       "      <th>datetime</th>\n",
       "      <th>monthyear</th>\n",
       "      <th>date_of_birth</th>\n",
       "      <th>outcome_type</th>\n",
       "      <th>outcome_subtype</th>\n",
       "      <th>animal_type</th>\n",
       "      <th>sex_upon_outcome</th>\n",
       "      <th>age_upon_outcome</th>\n",
       "      <th>breed</th>\n",
       "      <th>color</th>\n",
       "      <th>new_age1</th>\n",
       "      <th>new_sex1</th>\n",
       "    </tr>\n",
       "  </thead>\n",
       "  <tbody>\n",
       "    <tr>\n",
       "      <th>3</th>\n",
       "      <td>A852624</td>\n",
       "      <td>NaN</td>\n",
       "      <td>2022-03-06 10:29:00</td>\n",
       "      <td>2022-03-06T10:29:00.000</td>\n",
       "      <td>2020-03-06T00:00:00.000</td>\n",
       "      <td>Euthanasia</td>\n",
       "      <td>Rabies Risk</td>\n",
       "      <td>Other</td>\n",
       "      <td>Unknown</td>\n",
       "      <td>NULL</td>\n",
       "      <td>Bat</td>\n",
       "      <td>Brown</td>\n",
       "      <td>NULL</td>\n",
       "      <td>Unknown</td>\n",
       "    </tr>\n",
       "    <tr>\n",
       "      <th>4</th>\n",
       "      <td>A852411</td>\n",
       "      <td>A852411</td>\n",
       "      <td>2022-03-06 00:00:00</td>\n",
       "      <td>2022-03-06T00:00:00.000</td>\n",
       "      <td>2021-07-02T00:00:00.000</td>\n",
       "      <td>Transfer</td>\n",
       "      <td>Partner</td>\n",
       "      <td>Other</td>\n",
       "      <td>Intact Male</td>\n",
       "      <td>8 months</td>\n",
       "      <td>Rabbit Sh</td>\n",
       "      <td>White</td>\n",
       "      <td>8 months</td>\n",
       "      <td>Male</td>\n",
       "    </tr>\n",
       "    <tr>\n",
       "      <th>13</th>\n",
       "      <td>A852594</td>\n",
       "      <td>NaN</td>\n",
       "      <td>2022-03-05 15:59:00</td>\n",
       "      <td>2022-03-05T15:59:00.000</td>\n",
       "      <td>2020-03-05T00:00:00.000</td>\n",
       "      <td>Euthanasia</td>\n",
       "      <td>Rabies Risk</td>\n",
       "      <td>Other</td>\n",
       "      <td>Unknown</td>\n",
       "      <td>NULL</td>\n",
       "      <td>Raccoon</td>\n",
       "      <td>Black/Gray</td>\n",
       "      <td>NULL</td>\n",
       "      <td>Unknown</td>\n",
       "    </tr>\n",
       "    <tr>\n",
       "      <th>27</th>\n",
       "      <td>A845563</td>\n",
       "      <td>George Hare-Ison</td>\n",
       "      <td>2022-03-05 13:35:00</td>\n",
       "      <td>2022-03-05T13:35:00.000</td>\n",
       "      <td>2019-11-01T00:00:00.000</td>\n",
       "      <td>Adoption</td>\n",
       "      <td>Foster</td>\n",
       "      <td>Other</td>\n",
       "      <td>Neutered Male</td>\n",
       "      <td>2 years</td>\n",
       "      <td>Rabbit Sh</td>\n",
       "      <td>White/Brown</td>\n",
       "      <td>2 years</td>\n",
       "      <td>Male</td>\n",
       "    </tr>\n",
       "    <tr>\n",
       "      <th>35</th>\n",
       "      <td>A852548</td>\n",
       "      <td>NaN</td>\n",
       "      <td>2022-03-05 08:55:00</td>\n",
       "      <td>2022-03-05T08:55:00.000</td>\n",
       "      <td>2021-03-04T00:00:00.000</td>\n",
       "      <td>Euthanasia</td>\n",
       "      <td>Rabies Risk</td>\n",
       "      <td>Other</td>\n",
       "      <td>Unknown</td>\n",
       "      <td>1 year</td>\n",
       "      <td>Skunk</td>\n",
       "      <td>Black/White</td>\n",
       "      <td>1 years</td>\n",
       "      <td>Unknown</td>\n",
       "    </tr>\n",
       "    <tr>\n",
       "      <th>...</th>\n",
       "      <td>...</td>\n",
       "      <td>...</td>\n",
       "      <td>...</td>\n",
       "      <td>...</td>\n",
       "      <td>...</td>\n",
       "      <td>...</td>\n",
       "      <td>...</td>\n",
       "      <td>...</td>\n",
       "      <td>...</td>\n",
       "      <td>...</td>\n",
       "      <td>...</td>\n",
       "      <td>...</td>\n",
       "      <td>...</td>\n",
       "      <td>...</td>\n",
       "    </tr>\n",
       "    <tr>\n",
       "      <th>879</th>\n",
       "      <td>A850758</td>\n",
       "      <td>Max</td>\n",
       "      <td>2022-02-02 16:19:00</td>\n",
       "      <td>2022-02-02T16:19:00.000</td>\n",
       "      <td>2020-12-31T00:00:00.000</td>\n",
       "      <td>Transfer</td>\n",
       "      <td>Partner</td>\n",
       "      <td>Other</td>\n",
       "      <td>Intact Male</td>\n",
       "      <td>1 year</td>\n",
       "      <td>Guinea Pig</td>\n",
       "      <td>Tricolor</td>\n",
       "      <td>1 years</td>\n",
       "      <td>Male</td>\n",
       "    </tr>\n",
       "    <tr>\n",
       "      <th>880</th>\n",
       "      <td>A850755</td>\n",
       "      <td>Tokyo</td>\n",
       "      <td>2022-02-02 16:18:00</td>\n",
       "      <td>2022-02-02T16:18:00.000</td>\n",
       "      <td>2020-01-31T00:00:00.000</td>\n",
       "      <td>Transfer</td>\n",
       "      <td>Partner</td>\n",
       "      <td>Other</td>\n",
       "      <td>Intact Female</td>\n",
       "      <td>2 years</td>\n",
       "      <td>Guinea Pig</td>\n",
       "      <td>Tricolor</td>\n",
       "      <td>2 years</td>\n",
       "      <td>Female</td>\n",
       "    </tr>\n",
       "    <tr>\n",
       "      <th>881</th>\n",
       "      <td>A850754</td>\n",
       "      <td>Felix</td>\n",
       "      <td>2022-02-02 16:18:00</td>\n",
       "      <td>2022-02-02T16:18:00.000</td>\n",
       "      <td>2020-01-31T00:00:00.000</td>\n",
       "      <td>Transfer</td>\n",
       "      <td>Partner</td>\n",
       "      <td>Other</td>\n",
       "      <td>Neutered Male</td>\n",
       "      <td>2 years</td>\n",
       "      <td>Guinea Pig</td>\n",
       "      <td>Brown/White</td>\n",
       "      <td>2 years</td>\n",
       "      <td>Male</td>\n",
       "    </tr>\n",
       "    <tr>\n",
       "      <th>955</th>\n",
       "      <td>A850716</td>\n",
       "      <td>NaN</td>\n",
       "      <td>2022-02-01 07:44:00</td>\n",
       "      <td>2022-02-01T07:44:00.000</td>\n",
       "      <td>2020-01-30T00:00:00.000</td>\n",
       "      <td>Euthanasia</td>\n",
       "      <td>Rabies Risk</td>\n",
       "      <td>Other</td>\n",
       "      <td>Unknown</td>\n",
       "      <td>2 years</td>\n",
       "      <td>Raccoon</td>\n",
       "      <td>Tan/Gray</td>\n",
       "      <td>2 years</td>\n",
       "      <td>Unknown</td>\n",
       "    </tr>\n",
       "    <tr>\n",
       "      <th>997</th>\n",
       "      <td>A850679</td>\n",
       "      <td>NaN</td>\n",
       "      <td>2022-01-31 07:41:00</td>\n",
       "      <td>2022-01-31T07:41:00.000</td>\n",
       "      <td>2021-01-29T00:00:00.000</td>\n",
       "      <td>Euthanasia</td>\n",
       "      <td>Rabies Risk</td>\n",
       "      <td>Other</td>\n",
       "      <td>Unknown</td>\n",
       "      <td>1 year</td>\n",
       "      <td>Raccoon</td>\n",
       "      <td>Brown/Black</td>\n",
       "      <td>1 years</td>\n",
       "      <td>Unknown</td>\n",
       "    </tr>\n",
       "  </tbody>\n",
       "</table>\n",
       "<p>64 rows × 14 columns</p>\n",
       "</div>"
      ],
      "text/plain": [
       "    animal_id              name            datetime                monthyear  \\\n",
       "3     A852624               NaN 2022-03-06 10:29:00  2022-03-06T10:29:00.000   \n",
       "4     A852411           A852411 2022-03-06 00:00:00  2022-03-06T00:00:00.000   \n",
       "13    A852594               NaN 2022-03-05 15:59:00  2022-03-05T15:59:00.000   \n",
       "27    A845563  George Hare-Ison 2022-03-05 13:35:00  2022-03-05T13:35:00.000   \n",
       "35    A852548               NaN 2022-03-05 08:55:00  2022-03-05T08:55:00.000   \n",
       "..        ...               ...                 ...                      ...   \n",
       "879   A850758               Max 2022-02-02 16:19:00  2022-02-02T16:19:00.000   \n",
       "880   A850755             Tokyo 2022-02-02 16:18:00  2022-02-02T16:18:00.000   \n",
       "881   A850754             Felix 2022-02-02 16:18:00  2022-02-02T16:18:00.000   \n",
       "955   A850716               NaN 2022-02-01 07:44:00  2022-02-01T07:44:00.000   \n",
       "997   A850679               NaN 2022-01-31 07:41:00  2022-01-31T07:41:00.000   \n",
       "\n",
       "               date_of_birth outcome_type outcome_subtype animal_type  \\\n",
       "3    2020-03-06T00:00:00.000   Euthanasia     Rabies Risk       Other   \n",
       "4    2021-07-02T00:00:00.000     Transfer         Partner       Other   \n",
       "13   2020-03-05T00:00:00.000   Euthanasia     Rabies Risk       Other   \n",
       "27   2019-11-01T00:00:00.000     Adoption          Foster       Other   \n",
       "35   2021-03-04T00:00:00.000   Euthanasia     Rabies Risk       Other   \n",
       "..                       ...          ...             ...         ...   \n",
       "879  2020-12-31T00:00:00.000     Transfer         Partner       Other   \n",
       "880  2020-01-31T00:00:00.000     Transfer         Partner       Other   \n",
       "881  2020-01-31T00:00:00.000     Transfer         Partner       Other   \n",
       "955  2020-01-30T00:00:00.000   Euthanasia     Rabies Risk       Other   \n",
       "997  2021-01-29T00:00:00.000   Euthanasia     Rabies Risk       Other   \n",
       "\n",
       "    sex_upon_outcome age_upon_outcome       breed        color  new_age1  \\\n",
       "3            Unknown             NULL         Bat        Brown      NULL   \n",
       "4        Intact Male         8 months   Rabbit Sh        White  8 months   \n",
       "13           Unknown             NULL     Raccoon   Black/Gray      NULL   \n",
       "27     Neutered Male          2 years   Rabbit Sh  White/Brown   2 years   \n",
       "35           Unknown           1 year       Skunk  Black/White   1 years   \n",
       "..               ...              ...         ...          ...       ...   \n",
       "879      Intact Male           1 year  Guinea Pig     Tricolor   1 years   \n",
       "880    Intact Female          2 years  Guinea Pig     Tricolor   2 years   \n",
       "881    Neutered Male          2 years  Guinea Pig  Brown/White   2 years   \n",
       "955          Unknown          2 years     Raccoon     Tan/Gray   2 years   \n",
       "997          Unknown           1 year     Raccoon  Brown/Black   1 years   \n",
       "\n",
       "    new_sex1  \n",
       "3    Unknown  \n",
       "4       Male  \n",
       "13   Unknown  \n",
       "27      Male  \n",
       "35   Unknown  \n",
       "..       ...  \n",
       "879     Male  \n",
       "880   Female  \n",
       "881     Male  \n",
       "955  Unknown  \n",
       "997  Unknown  \n",
       "\n",
       "[64 rows x 14 columns]"
      ]
     },
     "execution_count": 22,
     "metadata": {},
     "output_type": "execute_result"
    }
   ],
   "source": [
    "animals[animals['animal_type'] == 'Other']"
   ]
  },
  {
   "cell_type": "code",
   "execution_count": 23,
   "metadata": {
    "ExecuteTime": {
     "end_time": "2021-10-18T21:04:42.292738Z",
     "start_time": "2021-10-18T21:04:42.287263Z"
    },
    "hidden": true
   },
   "outputs": [
    {
     "data": {
      "text/plain": [
       "Dog      649\n",
       "Cat      265\n",
       "Other     64\n",
       "Bird      22\n",
       "Name: animal_type, dtype: int64"
      ]
     },
     "execution_count": 23,
     "metadata": {},
     "output_type": "execute_result"
    }
   ],
   "source": [
    "animals['animal_type'].value_counts()"
   ]
  },
  {
   "cell_type": "code",
   "execution_count": 24,
   "metadata": {
    "ExecuteTime": {
     "end_time": "2021-10-18T21:05:10.162045Z",
     "start_time": "2021-10-18T21:05:10.158807Z"
    }
   },
   "outputs": [
    {
     "data": {
      "text/plain": [
       "float"
      ]
     },
     "execution_count": 24,
     "metadata": {},
     "output_type": "execute_result"
    }
   ],
   "source": [
    "type(np.nan)"
   ]
  },
  {
   "cell_type": "code",
   "execution_count": 25,
   "metadata": {
    "ExecuteTime": {
     "end_time": "2021-10-18T21:07:27.145281Z",
     "start_time": "2021-10-18T21:07:27.137321Z"
    },
    "hidden": true,
    "scrolled": false
   },
   "outputs": [
    {
     "data": {
      "text/plain": [
       "Dog     649\n",
       "Cat     265\n",
       "Bird     22\n",
       "Name: animal_type, dtype: int64"
      ]
     },
     "execution_count": 25,
     "metadata": {},
     "output_type": "execute_result"
    }
   ],
   "source": [
    "animals['animal_type'].map(lambda x: np.nan if x == 'Other' else x).value_counts()"
   ]
  },
  {
   "cell_type": "code",
   "execution_count": 26,
   "metadata": {
    "ExecuteTime": {
     "end_time": "2021-10-18T21:08:04.141314Z",
     "start_time": "2021-10-18T21:08:04.136420Z"
    }
   },
   "outputs": [
    {
     "data": {
      "text/plain": [
       "Dog      649\n",
       "Cat      265\n",
       "Other     64\n",
       "Bird      22\n",
       "Name: animal_type, dtype: int64"
      ]
     },
     "execution_count": 26,
     "metadata": {},
     "output_type": "execute_result"
    }
   ],
   "source": [
    "animals['animal_type'].value_counts()"
   ]
  },
  {
   "cell_type": "code",
   "execution_count": 27,
   "metadata": {},
   "outputs": [],
   "source": [
    "#animals['animal_type'] = animals['animal_type'].map(lambda x: np.nan if x == 'Other' else x)"
   ]
  },
  {
   "cell_type": "markdown",
   "metadata": {
    "heading_collapsed": true
   },
   "source": [
    "# Handling Missing Data"
   ]
  },
  {
   "cell_type": "markdown",
   "metadata": {
    "hidden": true
   },
   "source": [
    "A lot of the times we'll have missing information in our data set. This can sometimes be troublesome in what we're trying to do."
   ]
  },
  {
   "cell_type": "markdown",
   "metadata": {
    "hidden": true
   },
   "source": [
    "So far, we've been doing some preprocessing/cleaning to answer questions. Now we're going to handle the missing values in our data.\n",
    "\n",
    "There are a few strategies we can choose from and they each have their special use case."
   ]
  },
  {
   "cell_type": "markdown",
   "metadata": {
    "hidden": true
   },
   "source": [
    "> Before making changes, it's convenient to make changes to a copy instead of overwriting data. We'll keep all our changes in `animals_clean` which will be a [copy](https://pandas.pydata.org/docs/reference/api/pandas.DataFrame.copy.html) of the original DataFrame."
   ]
  },
  {
   "cell_type": "code",
   "execution_count": 28,
   "metadata": {
    "ExecuteTime": {
     "end_time": "2021-10-18T21:10:01.214716Z",
     "start_time": "2021-10-18T21:10:01.211819Z"
    },
    "hidden": true
   },
   "outputs": [],
   "source": [
    "animals_clean = animals.copy()"
   ]
  },
  {
   "cell_type": "markdown",
   "metadata": {
    "heading_collapsed": true,
    "hidden": true
   },
   "source": [
    "## Fill with a Relevant Value"
   ]
  },
  {
   "cell_type": "markdown",
   "metadata": {
    "hidden": true
   },
   "source": [
    "A lot of times we already have an idea of how we want to specify that a value was missing and replace it with a value that makes more sense than an \"empty\" value."
   ]
  },
  {
   "cell_type": "markdown",
   "metadata": {
    "hidden": true
   },
   "source": [
    "For example, it might make sense to fill the value as \"MISSING\" or \"UNKNOWN\". This way it's clearer when do more analysis."
   ]
  },
  {
   "cell_type": "markdown",
   "metadata": {
    "hidden": true
   },
   "source": [
    "> We can use Pandas' [`fillna()` method](https://pandas.pydata.org/pandas-docs/stable/reference/api/pandas.DataFrame.fillna.html) to replace missing values with something specific"
   ]
  },
  {
   "cell_type": "code",
   "execution_count": 29,
   "metadata": {
    "ExecuteTime": {
     "end_time": "2021-10-18T21:14:24.125165Z",
     "start_time": "2021-10-18T21:14:24.104145Z"
    },
    "hidden": true
   },
   "outputs": [
    {
     "data": {
      "text/html": [
       "<div>\n",
       "<style scoped>\n",
       "    .dataframe tbody tr th:only-of-type {\n",
       "        vertical-align: middle;\n",
       "    }\n",
       "\n",
       "    .dataframe tbody tr th {\n",
       "        vertical-align: top;\n",
       "    }\n",
       "\n",
       "    .dataframe thead th {\n",
       "        text-align: right;\n",
       "    }\n",
       "</style>\n",
       "<table border=\"1\" class=\"dataframe\">\n",
       "  <thead>\n",
       "    <tr style=\"text-align: right;\">\n",
       "      <th></th>\n",
       "      <th>animal_id</th>\n",
       "      <th>name</th>\n",
       "      <th>datetime</th>\n",
       "      <th>monthyear</th>\n",
       "      <th>date_of_birth</th>\n",
       "      <th>outcome_type</th>\n",
       "      <th>outcome_subtype</th>\n",
       "      <th>animal_type</th>\n",
       "      <th>sex_upon_outcome</th>\n",
       "      <th>age_upon_outcome</th>\n",
       "      <th>breed</th>\n",
       "      <th>color</th>\n",
       "      <th>new_age1</th>\n",
       "      <th>new_sex1</th>\n",
       "    </tr>\n",
       "  </thead>\n",
       "  <tbody>\n",
       "    <tr>\n",
       "      <th>0</th>\n",
       "      <td>A852444</td>\n",
       "      <td>Uno</td>\n",
       "      <td>2022-03-06 17:06:00</td>\n",
       "      <td>2022-03-06T17:06:00.000</td>\n",
       "      <td>2016-03-03T00:00:00.000</td>\n",
       "      <td>Return to Owner</td>\n",
       "      <td>Field</td>\n",
       "      <td>Dog</td>\n",
       "      <td>Neutered Male</td>\n",
       "      <td>6 years</td>\n",
       "      <td>Maltese</td>\n",
       "      <td>White</td>\n",
       "      <td>6 years</td>\n",
       "      <td>Male</td>\n",
       "    </tr>\n",
       "    <tr>\n",
       "      <th>1</th>\n",
       "      <td>A852297</td>\n",
       "      <td>*Sampson</td>\n",
       "      <td>2022-03-06 13:42:00</td>\n",
       "      <td>2022-03-06T13:42:00.000</td>\n",
       "      <td>2020-03-01T00:00:00.000</td>\n",
       "      <td>Euthanasia</td>\n",
       "      <td>Suffering</td>\n",
       "      <td>Cat</td>\n",
       "      <td>Intact Male</td>\n",
       "      <td>NULL</td>\n",
       "      <td>Domestic Shorthair Mix</td>\n",
       "      <td>Orange Tabby</td>\n",
       "      <td>NULL</td>\n",
       "      <td>Male</td>\n",
       "    </tr>\n",
       "    <tr>\n",
       "      <th>2</th>\n",
       "      <td>A832436</td>\n",
       "      <td>Floki</td>\n",
       "      <td>2022-03-06 11:59:00</td>\n",
       "      <td>2022-03-06T11:59:00.000</td>\n",
       "      <td>2020-09-15T00:00:00.000</td>\n",
       "      <td>Transfer</td>\n",
       "      <td>Partner</td>\n",
       "      <td>Dog</td>\n",
       "      <td>Neutered Male</td>\n",
       "      <td>1 year</td>\n",
       "      <td>Catahoula Mix</td>\n",
       "      <td>Blue Merle/White</td>\n",
       "      <td>1 years</td>\n",
       "      <td>Male</td>\n",
       "    </tr>\n",
       "    <tr>\n",
       "      <th>3</th>\n",
       "      <td>A852624</td>\n",
       "      <td>np.nan</td>\n",
       "      <td>2022-03-06 10:29:00</td>\n",
       "      <td>2022-03-06T10:29:00.000</td>\n",
       "      <td>2020-03-06T00:00:00.000</td>\n",
       "      <td>Euthanasia</td>\n",
       "      <td>Rabies Risk</td>\n",
       "      <td>Other</td>\n",
       "      <td>Unknown</td>\n",
       "      <td>NULL</td>\n",
       "      <td>Bat</td>\n",
       "      <td>Brown</td>\n",
       "      <td>NULL</td>\n",
       "      <td>Unknown</td>\n",
       "    </tr>\n",
       "    <tr>\n",
       "      <th>4</th>\n",
       "      <td>A852411</td>\n",
       "      <td>A852411</td>\n",
       "      <td>2022-03-06 00:00:00</td>\n",
       "      <td>2022-03-06T00:00:00.000</td>\n",
       "      <td>2021-07-02T00:00:00.000</td>\n",
       "      <td>Transfer</td>\n",
       "      <td>Partner</td>\n",
       "      <td>Other</td>\n",
       "      <td>Intact Male</td>\n",
       "      <td>8 months</td>\n",
       "      <td>Rabbit Sh</td>\n",
       "      <td>White</td>\n",
       "      <td>8 months</td>\n",
       "      <td>Male</td>\n",
       "    </tr>\n",
       "    <tr>\n",
       "      <th>5</th>\n",
       "      <td>A850918</td>\n",
       "      <td>Kaia</td>\n",
       "      <td>2022-03-05 17:43:00</td>\n",
       "      <td>2022-03-05T17:43:00.000</td>\n",
       "      <td>2016-02-03T00:00:00.000</td>\n",
       "      <td>Adoption</td>\n",
       "      <td>np.nan</td>\n",
       "      <td>Cat</td>\n",
       "      <td>Spayed Female</td>\n",
       "      <td>6 years</td>\n",
       "      <td>Domestic Shorthair Mix</td>\n",
       "      <td>White</td>\n",
       "      <td>6 years</td>\n",
       "      <td>Female</td>\n",
       "    </tr>\n",
       "    <tr>\n",
       "      <th>6</th>\n",
       "      <td>A850917</td>\n",
       "      <td>Daphne</td>\n",
       "      <td>2022-03-05 17:43:00</td>\n",
       "      <td>2022-03-05T17:43:00.000</td>\n",
       "      <td>2016-02-03T00:00:00.000</td>\n",
       "      <td>Adoption</td>\n",
       "      <td>np.nan</td>\n",
       "      <td>Cat</td>\n",
       "      <td>Spayed Female</td>\n",
       "      <td>6 years</td>\n",
       "      <td>Manx Mix</td>\n",
       "      <td>Torbie</td>\n",
       "      <td>6 years</td>\n",
       "      <td>Female</td>\n",
       "    </tr>\n",
       "    <tr>\n",
       "      <th>7</th>\n",
       "      <td>A852574</td>\n",
       "      <td>Bean</td>\n",
       "      <td>2022-03-05 17:41:00</td>\n",
       "      <td>2022-03-05T17:41:00.000</td>\n",
       "      <td>2017-03-05T00:00:00.000</td>\n",
       "      <td>Return to Owner</td>\n",
       "      <td>np.nan</td>\n",
       "      <td>Dog</td>\n",
       "      <td>Intact Female</td>\n",
       "      <td>5 years</td>\n",
       "      <td>Dachshund Longhair</td>\n",
       "      <td>Brown</td>\n",
       "      <td>5 years</td>\n",
       "      <td>Female</td>\n",
       "    </tr>\n",
       "    <tr>\n",
       "      <th>8</th>\n",
       "      <td>A852044</td>\n",
       "      <td>Lily</td>\n",
       "      <td>2022-03-05 17:31:00</td>\n",
       "      <td>2022-03-05T17:31:00.000</td>\n",
       "      <td>2020-02-23T00:00:00.000</td>\n",
       "      <td>Adoption</td>\n",
       "      <td>np.nan</td>\n",
       "      <td>Dog</td>\n",
       "      <td>Spayed Female</td>\n",
       "      <td>2 years</td>\n",
       "      <td>Australian Shepherd Mix</td>\n",
       "      <td>Red/White</td>\n",
       "      <td>2 years</td>\n",
       "      <td>Female</td>\n",
       "    </tr>\n",
       "    <tr>\n",
       "      <th>9</th>\n",
       "      <td>A850256</td>\n",
       "      <td>Ghost</td>\n",
       "      <td>2022-03-05 16:58:00</td>\n",
       "      <td>2022-03-05T16:58:00.000</td>\n",
       "      <td>2019-01-21T00:00:00.000</td>\n",
       "      <td>Adoption</td>\n",
       "      <td>np.nan</td>\n",
       "      <td>Dog</td>\n",
       "      <td>Neutered Male</td>\n",
       "      <td>3 years</td>\n",
       "      <td>Staffordshire</td>\n",
       "      <td>Blue/White</td>\n",
       "      <td>3 years</td>\n",
       "      <td>Male</td>\n",
       "    </tr>\n",
       "  </tbody>\n",
       "</table>\n",
       "</div>"
      ],
      "text/plain": [
       "  animal_id      name            datetime                monthyear  \\\n",
       "0   A852444       Uno 2022-03-06 17:06:00  2022-03-06T17:06:00.000   \n",
       "1   A852297  *Sampson 2022-03-06 13:42:00  2022-03-06T13:42:00.000   \n",
       "2   A832436     Floki 2022-03-06 11:59:00  2022-03-06T11:59:00.000   \n",
       "3   A852624    np.nan 2022-03-06 10:29:00  2022-03-06T10:29:00.000   \n",
       "4   A852411   A852411 2022-03-06 00:00:00  2022-03-06T00:00:00.000   \n",
       "5   A850918      Kaia 2022-03-05 17:43:00  2022-03-05T17:43:00.000   \n",
       "6   A850917    Daphne 2022-03-05 17:43:00  2022-03-05T17:43:00.000   \n",
       "7   A852574      Bean 2022-03-05 17:41:00  2022-03-05T17:41:00.000   \n",
       "8   A852044      Lily 2022-03-05 17:31:00  2022-03-05T17:31:00.000   \n",
       "9   A850256     Ghost 2022-03-05 16:58:00  2022-03-05T16:58:00.000   \n",
       "\n",
       "             date_of_birth     outcome_type outcome_subtype animal_type  \\\n",
       "0  2016-03-03T00:00:00.000  Return to Owner           Field         Dog   \n",
       "1  2020-03-01T00:00:00.000       Euthanasia       Suffering         Cat   \n",
       "2  2020-09-15T00:00:00.000         Transfer         Partner         Dog   \n",
       "3  2020-03-06T00:00:00.000       Euthanasia     Rabies Risk       Other   \n",
       "4  2021-07-02T00:00:00.000         Transfer         Partner       Other   \n",
       "5  2016-02-03T00:00:00.000         Adoption          np.nan         Cat   \n",
       "6  2016-02-03T00:00:00.000         Adoption          np.nan         Cat   \n",
       "7  2017-03-05T00:00:00.000  Return to Owner          np.nan         Dog   \n",
       "8  2020-02-23T00:00:00.000         Adoption          np.nan         Dog   \n",
       "9  2019-01-21T00:00:00.000         Adoption          np.nan         Dog   \n",
       "\n",
       "  sex_upon_outcome age_upon_outcome                    breed  \\\n",
       "0    Neutered Male          6 years                  Maltese   \n",
       "1      Intact Male             NULL   Domestic Shorthair Mix   \n",
       "2    Neutered Male           1 year            Catahoula Mix   \n",
       "3          Unknown             NULL                      Bat   \n",
       "4      Intact Male         8 months                Rabbit Sh   \n",
       "5    Spayed Female          6 years   Domestic Shorthair Mix   \n",
       "6    Spayed Female          6 years                 Manx Mix   \n",
       "7    Intact Female          5 years       Dachshund Longhair   \n",
       "8    Spayed Female          2 years  Australian Shepherd Mix   \n",
       "9    Neutered Male          3 years            Staffordshire   \n",
       "\n",
       "              color  new_age1 new_sex1  \n",
       "0             White   6 years     Male  \n",
       "1      Orange Tabby      NULL     Male  \n",
       "2  Blue Merle/White   1 years     Male  \n",
       "3             Brown      NULL  Unknown  \n",
       "4             White  8 months     Male  \n",
       "5             White   6 years   Female  \n",
       "6            Torbie   6 years   Female  \n",
       "7             Brown   5 years   Female  \n",
       "8         Red/White   2 years   Female  \n",
       "9        Blue/White   3 years     Male  "
      ]
     },
     "execution_count": 29,
     "metadata": {},
     "output_type": "execute_result"
    }
   ],
   "source": [
    "# Note this creates a copy of `animals` with the missing values replaced\n",
    "animals_name_filled = animals_clean.fillna('np.nan') # {col_name:new_value}\n",
    "animals_name_filled.head(10)"
   ]
  },
  {
   "cell_type": "code",
   "execution_count": 30,
   "metadata": {
    "ExecuteTime": {
     "end_time": "2021-10-18T21:14:49.614080Z",
     "start_time": "2021-10-18T21:14:49.598481Z"
    },
    "hidden": true
   },
   "outputs": [
    {
     "data": {
      "text/html": [
       "<div>\n",
       "<style scoped>\n",
       "    .dataframe tbody tr th:only-of-type {\n",
       "        vertical-align: middle;\n",
       "    }\n",
       "\n",
       "    .dataframe tbody tr th {\n",
       "        vertical-align: top;\n",
       "    }\n",
       "\n",
       "    .dataframe thead th {\n",
       "        text-align: right;\n",
       "    }\n",
       "</style>\n",
       "<table border=\"1\" class=\"dataframe\">\n",
       "  <thead>\n",
       "    <tr style=\"text-align: right;\">\n",
       "      <th></th>\n",
       "      <th>animal_id</th>\n",
       "      <th>name</th>\n",
       "      <th>datetime</th>\n",
       "      <th>monthyear</th>\n",
       "      <th>date_of_birth</th>\n",
       "      <th>outcome_type</th>\n",
       "      <th>outcome_subtype</th>\n",
       "      <th>animal_type</th>\n",
       "      <th>sex_upon_outcome</th>\n",
       "      <th>age_upon_outcome</th>\n",
       "      <th>breed</th>\n",
       "      <th>color</th>\n",
       "      <th>new_age1</th>\n",
       "      <th>new_sex1</th>\n",
       "    </tr>\n",
       "  </thead>\n",
       "  <tbody>\n",
       "    <tr>\n",
       "      <th>0</th>\n",
       "      <td>A852444</td>\n",
       "      <td>Uno</td>\n",
       "      <td>2022-03-06 17:06:00</td>\n",
       "      <td>2022-03-06T17:06:00.000</td>\n",
       "      <td>2016-03-03T00:00:00.000</td>\n",
       "      <td>Return to Owner</td>\n",
       "      <td>Field</td>\n",
       "      <td>Dog</td>\n",
       "      <td>Neutered Male</td>\n",
       "      <td>6 years</td>\n",
       "      <td>Maltese</td>\n",
       "      <td>White</td>\n",
       "      <td>6 years</td>\n",
       "      <td>Male</td>\n",
       "    </tr>\n",
       "    <tr>\n",
       "      <th>1</th>\n",
       "      <td>A852297</td>\n",
       "      <td>*Sampson</td>\n",
       "      <td>2022-03-06 13:42:00</td>\n",
       "      <td>2022-03-06T13:42:00.000</td>\n",
       "      <td>2020-03-01T00:00:00.000</td>\n",
       "      <td>Euthanasia</td>\n",
       "      <td>Suffering</td>\n",
       "      <td>Cat</td>\n",
       "      <td>Intact Male</td>\n",
       "      <td>NULL</td>\n",
       "      <td>Domestic Shorthair Mix</td>\n",
       "      <td>Orange Tabby</td>\n",
       "      <td>NULL</td>\n",
       "      <td>Male</td>\n",
       "    </tr>\n",
       "    <tr>\n",
       "      <th>2</th>\n",
       "      <td>A832436</td>\n",
       "      <td>Floki</td>\n",
       "      <td>2022-03-06 11:59:00</td>\n",
       "      <td>2022-03-06T11:59:00.000</td>\n",
       "      <td>2020-09-15T00:00:00.000</td>\n",
       "      <td>Transfer</td>\n",
       "      <td>Partner</td>\n",
       "      <td>Dog</td>\n",
       "      <td>Neutered Male</td>\n",
       "      <td>1 year</td>\n",
       "      <td>Catahoula Mix</td>\n",
       "      <td>Blue Merle/White</td>\n",
       "      <td>1 years</td>\n",
       "      <td>Male</td>\n",
       "    </tr>\n",
       "    <tr>\n",
       "      <th>3</th>\n",
       "      <td>A852624</td>\n",
       "      <td>NaN</td>\n",
       "      <td>2022-03-06 10:29:00</td>\n",
       "      <td>2022-03-06T10:29:00.000</td>\n",
       "      <td>2020-03-06T00:00:00.000</td>\n",
       "      <td>Euthanasia</td>\n",
       "      <td>Rabies Risk</td>\n",
       "      <td>Other</td>\n",
       "      <td>Unknown</td>\n",
       "      <td>NULL</td>\n",
       "      <td>Bat</td>\n",
       "      <td>Brown</td>\n",
       "      <td>NULL</td>\n",
       "      <td>Unknown</td>\n",
       "    </tr>\n",
       "    <tr>\n",
       "      <th>4</th>\n",
       "      <td>A852411</td>\n",
       "      <td>A852411</td>\n",
       "      <td>2022-03-06 00:00:00</td>\n",
       "      <td>2022-03-06T00:00:00.000</td>\n",
       "      <td>2021-07-02T00:00:00.000</td>\n",
       "      <td>Transfer</td>\n",
       "      <td>Partner</td>\n",
       "      <td>Other</td>\n",
       "      <td>Intact Male</td>\n",
       "      <td>8 months</td>\n",
       "      <td>Rabbit Sh</td>\n",
       "      <td>White</td>\n",
       "      <td>8 months</td>\n",
       "      <td>Male</td>\n",
       "    </tr>\n",
       "  </tbody>\n",
       "</table>\n",
       "</div>"
      ],
      "text/plain": [
       "  animal_id      name            datetime                monthyear  \\\n",
       "0   A852444       Uno 2022-03-06 17:06:00  2022-03-06T17:06:00.000   \n",
       "1   A852297  *Sampson 2022-03-06 13:42:00  2022-03-06T13:42:00.000   \n",
       "2   A832436     Floki 2022-03-06 11:59:00  2022-03-06T11:59:00.000   \n",
       "3   A852624       NaN 2022-03-06 10:29:00  2022-03-06T10:29:00.000   \n",
       "4   A852411   A852411 2022-03-06 00:00:00  2022-03-06T00:00:00.000   \n",
       "\n",
       "             date_of_birth     outcome_type outcome_subtype animal_type  \\\n",
       "0  2016-03-03T00:00:00.000  Return to Owner           Field         Dog   \n",
       "1  2020-03-01T00:00:00.000       Euthanasia       Suffering         Cat   \n",
       "2  2020-09-15T00:00:00.000         Transfer         Partner         Dog   \n",
       "3  2020-03-06T00:00:00.000       Euthanasia     Rabies Risk       Other   \n",
       "4  2021-07-02T00:00:00.000         Transfer         Partner       Other   \n",
       "\n",
       "  sex_upon_outcome age_upon_outcome                   breed             color  \\\n",
       "0    Neutered Male          6 years                 Maltese             White   \n",
       "1      Intact Male             NULL  Domestic Shorthair Mix      Orange Tabby   \n",
       "2    Neutered Male           1 year           Catahoula Mix  Blue Merle/White   \n",
       "3          Unknown             NULL                     Bat             Brown   \n",
       "4      Intact Male         8 months               Rabbit Sh             White   \n",
       "\n",
       "   new_age1 new_sex1  \n",
       "0   6 years     Male  \n",
       "1      NULL     Male  \n",
       "2   1 years     Male  \n",
       "3      NULL  Unknown  \n",
       "4  8 months     Male  "
      ]
     },
     "execution_count": 30,
     "metadata": {},
     "output_type": "execute_result"
    }
   ],
   "source": [
    "# `animals` DataFrame is left untouched\n",
    "animals_clean.head()"
   ]
  },
  {
   "cell_type": "code",
   "execution_count": 31,
   "metadata": {
    "ExecuteTime": {
     "end_time": "2021-10-18T21:15:32.446320Z",
     "start_time": "2021-10-18T21:15:32.437812Z"
    },
    "hidden": true
   },
   "outputs": [
    {
     "data": {
      "text/html": [
       "<div>\n",
       "<style scoped>\n",
       "    .dataframe tbody tr th:only-of-type {\n",
       "        vertical-align: middle;\n",
       "    }\n",
       "\n",
       "    .dataframe tbody tr th {\n",
       "        vertical-align: top;\n",
       "    }\n",
       "\n",
       "    .dataframe thead th {\n",
       "        text-align: right;\n",
       "    }\n",
       "</style>\n",
       "<table border=\"1\" class=\"dataframe\">\n",
       "  <thead>\n",
       "    <tr style=\"text-align: right;\">\n",
       "      <th></th>\n",
       "      <th>name</th>\n",
       "    </tr>\n",
       "  </thead>\n",
       "  <tbody>\n",
       "    <tr>\n",
       "      <th>0</th>\n",
       "      <td>Uno</td>\n",
       "    </tr>\n",
       "    <tr>\n",
       "      <th>1</th>\n",
       "      <td>*Sampson</td>\n",
       "    </tr>\n",
       "    <tr>\n",
       "      <th>2</th>\n",
       "      <td>Floki</td>\n",
       "    </tr>\n",
       "    <tr>\n",
       "      <th>3</th>\n",
       "      <td>UNKNOWN</td>\n",
       "    </tr>\n",
       "    <tr>\n",
       "      <th>4</th>\n",
       "      <td>A852411</td>\n",
       "    </tr>\n",
       "    <tr>\n",
       "      <th>5</th>\n",
       "      <td>Kaia</td>\n",
       "    </tr>\n",
       "    <tr>\n",
       "      <th>6</th>\n",
       "      <td>Daphne</td>\n",
       "    </tr>\n",
       "    <tr>\n",
       "      <th>7</th>\n",
       "      <td>Bean</td>\n",
       "    </tr>\n",
       "    <tr>\n",
       "      <th>8</th>\n",
       "      <td>Lily</td>\n",
       "    </tr>\n",
       "    <tr>\n",
       "      <th>9</th>\n",
       "      <td>Ghost</td>\n",
       "    </tr>\n",
       "  </tbody>\n",
       "</table>\n",
       "</div>"
      ],
      "text/plain": [
       "       name\n",
       "0       Uno\n",
       "1  *Sampson\n",
       "2     Floki\n",
       "3   UNKNOWN\n",
       "4   A852411\n",
       "5      Kaia\n",
       "6    Daphne\n",
       "7      Bean\n",
       "8      Lily\n",
       "9     Ghost"
      ]
     },
     "execution_count": 31,
     "metadata": {},
     "output_type": "execute_result"
    }
   ],
   "source": [
    "# Alternative way to fill missing values by specifying column(s) first\n",
    "animals_only_names = animals[['name']].fillna(value='UNKNOWN')\n",
    "animals_only_names.head(10)"
   ]
  },
  {
   "cell_type": "code",
   "execution_count": 32,
   "metadata": {
    "ExecuteTime": {
     "end_time": "2021-10-18T21:16:16.744228Z",
     "start_time": "2021-10-18T21:16:16.728899Z"
    },
    "hidden": true
   },
   "outputs": [
    {
     "data": {
      "text/html": [
       "<div>\n",
       "<style scoped>\n",
       "    .dataframe tbody tr th:only-of-type {\n",
       "        vertical-align: middle;\n",
       "    }\n",
       "\n",
       "    .dataframe tbody tr th {\n",
       "        vertical-align: top;\n",
       "    }\n",
       "\n",
       "    .dataframe thead th {\n",
       "        text-align: right;\n",
       "    }\n",
       "</style>\n",
       "<table border=\"1\" class=\"dataframe\">\n",
       "  <thead>\n",
       "    <tr style=\"text-align: right;\">\n",
       "      <th></th>\n",
       "      <th>animal_id</th>\n",
       "      <th>name</th>\n",
       "      <th>datetime</th>\n",
       "      <th>monthyear</th>\n",
       "      <th>date_of_birth</th>\n",
       "      <th>outcome_type</th>\n",
       "      <th>outcome_subtype</th>\n",
       "      <th>animal_type</th>\n",
       "      <th>sex_upon_outcome</th>\n",
       "      <th>age_upon_outcome</th>\n",
       "      <th>breed</th>\n",
       "      <th>color</th>\n",
       "      <th>new_age1</th>\n",
       "      <th>new_sex1</th>\n",
       "    </tr>\n",
       "  </thead>\n",
       "  <tbody>\n",
       "    <tr>\n",
       "      <th>0</th>\n",
       "      <td>A852444</td>\n",
       "      <td>Uno</td>\n",
       "      <td>2022-03-06 17:06:00</td>\n",
       "      <td>2022-03-06T17:06:00.000</td>\n",
       "      <td>2016-03-03T00:00:00.000</td>\n",
       "      <td>Return to Owner</td>\n",
       "      <td>Field</td>\n",
       "      <td>Dog</td>\n",
       "      <td>Neutered Male</td>\n",
       "      <td>6 years</td>\n",
       "      <td>Maltese</td>\n",
       "      <td>White</td>\n",
       "      <td>6 years</td>\n",
       "      <td>Male</td>\n",
       "    </tr>\n",
       "    <tr>\n",
       "      <th>1</th>\n",
       "      <td>A852297</td>\n",
       "      <td>*Sampson</td>\n",
       "      <td>2022-03-06 13:42:00</td>\n",
       "      <td>2022-03-06T13:42:00.000</td>\n",
       "      <td>2020-03-01T00:00:00.000</td>\n",
       "      <td>Euthanasia</td>\n",
       "      <td>Suffering</td>\n",
       "      <td>Cat</td>\n",
       "      <td>Intact Male</td>\n",
       "      <td>NULL</td>\n",
       "      <td>Domestic Shorthair Mix</td>\n",
       "      <td>Orange Tabby</td>\n",
       "      <td>NULL</td>\n",
       "      <td>Male</td>\n",
       "    </tr>\n",
       "    <tr>\n",
       "      <th>2</th>\n",
       "      <td>A832436</td>\n",
       "      <td>Floki</td>\n",
       "      <td>2022-03-06 11:59:00</td>\n",
       "      <td>2022-03-06T11:59:00.000</td>\n",
       "      <td>2020-09-15T00:00:00.000</td>\n",
       "      <td>Transfer</td>\n",
       "      <td>Partner</td>\n",
       "      <td>Dog</td>\n",
       "      <td>Neutered Male</td>\n",
       "      <td>1 year</td>\n",
       "      <td>Catahoula Mix</td>\n",
       "      <td>Blue Merle/White</td>\n",
       "      <td>1 years</td>\n",
       "      <td>Male</td>\n",
       "    </tr>\n",
       "    <tr>\n",
       "      <th>3</th>\n",
       "      <td>A852624</td>\n",
       "      <td>UNKNOWN</td>\n",
       "      <td>2022-03-06 10:29:00</td>\n",
       "      <td>2022-03-06T10:29:00.000</td>\n",
       "      <td>2020-03-06T00:00:00.000</td>\n",
       "      <td>Euthanasia</td>\n",
       "      <td>Rabies Risk</td>\n",
       "      <td>Other</td>\n",
       "      <td>Unknown</td>\n",
       "      <td>NULL</td>\n",
       "      <td>Bat</td>\n",
       "      <td>Brown</td>\n",
       "      <td>NULL</td>\n",
       "      <td>Unknown</td>\n",
       "    </tr>\n",
       "    <tr>\n",
       "      <th>4</th>\n",
       "      <td>A852411</td>\n",
       "      <td>A852411</td>\n",
       "      <td>2022-03-06 00:00:00</td>\n",
       "      <td>2022-03-06T00:00:00.000</td>\n",
       "      <td>2021-07-02T00:00:00.000</td>\n",
       "      <td>Transfer</td>\n",
       "      <td>Partner</td>\n",
       "      <td>Other</td>\n",
       "      <td>Intact Male</td>\n",
       "      <td>8 months</td>\n",
       "      <td>Rabbit Sh</td>\n",
       "      <td>White</td>\n",
       "      <td>8 months</td>\n",
       "      <td>Male</td>\n",
       "    </tr>\n",
       "  </tbody>\n",
       "</table>\n",
       "</div>"
      ],
      "text/plain": [
       "  animal_id      name            datetime                monthyear  \\\n",
       "0   A852444       Uno 2022-03-06 17:06:00  2022-03-06T17:06:00.000   \n",
       "1   A852297  *Sampson 2022-03-06 13:42:00  2022-03-06T13:42:00.000   \n",
       "2   A832436     Floki 2022-03-06 11:59:00  2022-03-06T11:59:00.000   \n",
       "3   A852624   UNKNOWN 2022-03-06 10:29:00  2022-03-06T10:29:00.000   \n",
       "4   A852411   A852411 2022-03-06 00:00:00  2022-03-06T00:00:00.000   \n",
       "\n",
       "             date_of_birth     outcome_type outcome_subtype animal_type  \\\n",
       "0  2016-03-03T00:00:00.000  Return to Owner           Field         Dog   \n",
       "1  2020-03-01T00:00:00.000       Euthanasia       Suffering         Cat   \n",
       "2  2020-09-15T00:00:00.000         Transfer         Partner         Dog   \n",
       "3  2020-03-06T00:00:00.000       Euthanasia     Rabies Risk       Other   \n",
       "4  2021-07-02T00:00:00.000         Transfer         Partner       Other   \n",
       "\n",
       "  sex_upon_outcome age_upon_outcome                   breed             color  \\\n",
       "0    Neutered Male          6 years                 Maltese             White   \n",
       "1      Intact Male             NULL  Domestic Shorthair Mix      Orange Tabby   \n",
       "2    Neutered Male           1 year           Catahoula Mix  Blue Merle/White   \n",
       "3          Unknown             NULL                     Bat             Brown   \n",
       "4      Intact Male         8 months               Rabbit Sh             White   \n",
       "\n",
       "   new_age1 new_sex1  \n",
       "0   6 years     Male  \n",
       "1      NULL     Male  \n",
       "2   1 years     Male  \n",
       "3      NULL  Unknown  \n",
       "4  8 months     Male  "
      ]
     },
     "execution_count": 32,
     "metadata": {},
     "output_type": "execute_result"
    }
   ],
   "source": [
    "# To keep changes in DataFrame, overwrite the column\n",
    "animals_clean[['name']] = animals_only_names\n",
    "animals_clean.head()"
   ]
  },
  {
   "cell_type": "markdown",
   "metadata": {
    "heading_collapsed": true,
    "hidden": true
   },
   "source": [
    "## Fill with a Reasonable Value"
   ]
  },
  {
   "cell_type": "markdown",
   "metadata": {
    "hidden": true
   },
   "source": [
    "Other times we don't know what the missing value was but we might have a reasonable guess. This allows us to still use the data point (row) in our analysis."
   ]
  },
  {
   "cell_type": "markdown",
   "metadata": {
    "hidden": true
   },
   "source": [
    "> Beware that filling in missing values can lead to you drawing incorrect conclusions. If most of the data from a column are missing, it's going to appear that the value you filled it in with is more common that it actually was!"
   ]
  },
  {
   "cell_type": "markdown",
   "metadata": {
    "hidden": true
   },
   "source": [
    "A lot of the time we'll use the _mean_ or _median_ for numerical values. Sometimes values like $0$ make sense since it might make sense in the context of how the data was collected.\n",
    "\n",
    "With categorical values, you might choose to fill the missing values with the most common value (the *mode*)."
   ]
  },
  {
   "cell_type": "markdown",
   "metadata": {
    "hidden": true
   },
   "source": [
    "> Similar to the previous subsection, we can use the `fillna()` method after specifying the value to fill"
   ]
  },
  {
   "cell_type": "code",
   "execution_count": 33,
   "metadata": {
    "ExecuteTime": {
     "end_time": "2021-10-18T21:18:18.500090Z",
     "start_time": "2021-10-18T21:18:18.494546Z"
    },
    "hidden": true
   },
   "outputs": [
    {
     "data": {
      "text/plain": [
       "Partner                146\n",
       "Foster                 111\n",
       "Out State               67\n",
       "Rabies Risk             33\n",
       "Snr                     23\n",
       "Suffering               23\n",
       "Field                    5\n",
       "Aggressive               3\n",
       "At Vet                   3\n",
       "In Foster                2\n",
       "In Kennel                2\n",
       "Behavior                 1\n",
       "Emergency                1\n",
       "Medical                  1\n",
       "Court/Investigation      1\n",
       "Name: outcome_subtype, dtype: int64"
      ]
     },
     "execution_count": 33,
     "metadata": {},
     "output_type": "execute_result"
    }
   ],
   "source": [
    "## Let's find the most common value for `outcome_subtype`\n",
    "outcome_subtype_counts = animals['outcome_subtype'].value_counts()\n",
    "outcome_subtype_counts"
   ]
  },
  {
   "cell_type": "code",
   "execution_count": 34,
   "metadata": {
    "ExecuteTime": {
     "end_time": "2021-10-18T21:19:09.763940Z",
     "start_time": "2021-10-18T21:19:09.760088Z"
    },
    "hidden": true
   },
   "outputs": [
    {
     "name": "stdout",
     "output_type": "stream",
     "text": [
      "Index(['Partner', 'Foster', 'Out State', 'Rabies Risk', 'Snr', 'Suffering',\n",
      "       'Field', 'Aggressive', 'At Vet', 'In Foster', 'In Kennel', 'Behavior',\n",
      "       'Emergency', 'Medical', 'Court/Investigation'],\n",
      "      dtype='object')\n"
     ]
    }
   ],
   "source": [
    "# This gets us just the values in order of most frequent to least frequent\n",
    "outcome_subtype_ordered = outcome_subtype_counts.index\n",
    "print(outcome_subtype_ordered)\n",
    "\n",
    "# Get the first one\n",
    "most_common_outcome_subtype = outcome_subtype_ordered[0]"
   ]
  },
  {
   "cell_type": "code",
   "execution_count": 35,
   "metadata": {
    "ExecuteTime": {
     "end_time": "2021-10-18T21:19:28.009167Z",
     "start_time": "2021-10-18T21:19:28.006038Z"
    }
   },
   "outputs": [
    {
     "data": {
      "text/plain": [
       "'Partner'"
      ]
     },
     "execution_count": 35,
     "metadata": {},
     "output_type": "execute_result"
    }
   ],
   "source": [
    "most_common_outcome_subtype"
   ]
  },
  {
   "cell_type": "code",
   "execution_count": 36,
   "metadata": {
    "ExecuteTime": {
     "end_time": "2021-10-18T21:19:43.475082Z",
     "start_time": "2021-10-18T21:19:43.470357Z"
    }
   },
   "outputs": [
    {
     "data": {
      "text/plain": [
       "0    Partner\n",
       "dtype: object"
      ]
     },
     "execution_count": 36,
     "metadata": {},
     "output_type": "execute_result"
    }
   ],
   "source": [
    "animals['outcome_subtype'].mode()"
   ]
  },
  {
   "cell_type": "code",
   "execution_count": 37,
   "metadata": {
    "ExecuteTime": {
     "end_time": "2021-10-18T21:19:57.134358Z",
     "start_time": "2021-10-18T21:19:57.129584Z"
    },
    "hidden": true
   },
   "outputs": [
    {
     "data": {
      "text/plain": [
       "'Partner'"
      ]
     },
     "execution_count": 37,
     "metadata": {},
     "output_type": "execute_result"
    }
   ],
   "source": [
    "# Using the built-in mode() method\n",
    "# Note this is Series so we have to get the first element (which is the value)\n",
    "most_common_outcome_subtype = animals['outcome_subtype'].mode()[0]\n",
    "most_common_outcome_subtype"
   ]
  },
  {
   "cell_type": "code",
   "execution_count": 38,
   "metadata": {
    "ExecuteTime": {
     "end_time": "2021-10-18T21:20:26.873576Z",
     "start_time": "2021-10-18T21:20:26.856310Z"
    },
    "hidden": true,
    "scrolled": true
   },
   "outputs": [
    {
     "data": {
      "text/html": [
       "<div>\n",
       "<style scoped>\n",
       "    .dataframe tbody tr th:only-of-type {\n",
       "        vertical-align: middle;\n",
       "    }\n",
       "\n",
       "    .dataframe tbody tr th {\n",
       "        vertical-align: top;\n",
       "    }\n",
       "\n",
       "    .dataframe thead th {\n",
       "        text-align: right;\n",
       "    }\n",
       "</style>\n",
       "<table border=\"1\" class=\"dataframe\">\n",
       "  <thead>\n",
       "    <tr style=\"text-align: right;\">\n",
       "      <th></th>\n",
       "      <th>animal_id</th>\n",
       "      <th>name</th>\n",
       "      <th>datetime</th>\n",
       "      <th>monthyear</th>\n",
       "      <th>date_of_birth</th>\n",
       "      <th>outcome_type</th>\n",
       "      <th>outcome_subtype</th>\n",
       "      <th>animal_type</th>\n",
       "      <th>sex_upon_outcome</th>\n",
       "      <th>age_upon_outcome</th>\n",
       "      <th>breed</th>\n",
       "      <th>color</th>\n",
       "      <th>new_age1</th>\n",
       "      <th>new_sex1</th>\n",
       "    </tr>\n",
       "  </thead>\n",
       "  <tbody>\n",
       "    <tr>\n",
       "      <th>0</th>\n",
       "      <td>A852444</td>\n",
       "      <td>Uno</td>\n",
       "      <td>2022-03-06 17:06:00</td>\n",
       "      <td>2022-03-06T17:06:00.000</td>\n",
       "      <td>2016-03-03T00:00:00.000</td>\n",
       "      <td>Return to Owner</td>\n",
       "      <td>Field</td>\n",
       "      <td>Dog</td>\n",
       "      <td>Neutered Male</td>\n",
       "      <td>6 years</td>\n",
       "      <td>Maltese</td>\n",
       "      <td>White</td>\n",
       "      <td>6 years</td>\n",
       "      <td>Male</td>\n",
       "    </tr>\n",
       "    <tr>\n",
       "      <th>1</th>\n",
       "      <td>A852297</td>\n",
       "      <td>*Sampson</td>\n",
       "      <td>2022-03-06 13:42:00</td>\n",
       "      <td>2022-03-06T13:42:00.000</td>\n",
       "      <td>2020-03-01T00:00:00.000</td>\n",
       "      <td>Euthanasia</td>\n",
       "      <td>Suffering</td>\n",
       "      <td>Cat</td>\n",
       "      <td>Intact Male</td>\n",
       "      <td>NULL</td>\n",
       "      <td>Domestic Shorthair Mix</td>\n",
       "      <td>Orange Tabby</td>\n",
       "      <td>NULL</td>\n",
       "      <td>Male</td>\n",
       "    </tr>\n",
       "    <tr>\n",
       "      <th>2</th>\n",
       "      <td>A832436</td>\n",
       "      <td>Floki</td>\n",
       "      <td>2022-03-06 11:59:00</td>\n",
       "      <td>2022-03-06T11:59:00.000</td>\n",
       "      <td>2020-09-15T00:00:00.000</td>\n",
       "      <td>Transfer</td>\n",
       "      <td>Partner</td>\n",
       "      <td>Dog</td>\n",
       "      <td>Neutered Male</td>\n",
       "      <td>1 year</td>\n",
       "      <td>Catahoula Mix</td>\n",
       "      <td>Blue Merle/White</td>\n",
       "      <td>1 years</td>\n",
       "      <td>Male</td>\n",
       "    </tr>\n",
       "    <tr>\n",
       "      <th>3</th>\n",
       "      <td>A852624</td>\n",
       "      <td>UNKNOWN</td>\n",
       "      <td>2022-03-06 10:29:00</td>\n",
       "      <td>2022-03-06T10:29:00.000</td>\n",
       "      <td>2020-03-06T00:00:00.000</td>\n",
       "      <td>Euthanasia</td>\n",
       "      <td>Rabies Risk</td>\n",
       "      <td>Other</td>\n",
       "      <td>Unknown</td>\n",
       "      <td>NULL</td>\n",
       "      <td>Bat</td>\n",
       "      <td>Brown</td>\n",
       "      <td>NULL</td>\n",
       "      <td>Unknown</td>\n",
       "    </tr>\n",
       "    <tr>\n",
       "      <th>4</th>\n",
       "      <td>A852411</td>\n",
       "      <td>A852411</td>\n",
       "      <td>2022-03-06 00:00:00</td>\n",
       "      <td>2022-03-06T00:00:00.000</td>\n",
       "      <td>2021-07-02T00:00:00.000</td>\n",
       "      <td>Transfer</td>\n",
       "      <td>Partner</td>\n",
       "      <td>Other</td>\n",
       "      <td>Intact Male</td>\n",
       "      <td>8 months</td>\n",
       "      <td>Rabbit Sh</td>\n",
       "      <td>White</td>\n",
       "      <td>8 months</td>\n",
       "      <td>Male</td>\n",
       "    </tr>\n",
       "  </tbody>\n",
       "</table>\n",
       "</div>"
      ],
      "text/plain": [
       "  animal_id      name            datetime                monthyear  \\\n",
       "0   A852444       Uno 2022-03-06 17:06:00  2022-03-06T17:06:00.000   \n",
       "1   A852297  *Sampson 2022-03-06 13:42:00  2022-03-06T13:42:00.000   \n",
       "2   A832436     Floki 2022-03-06 11:59:00  2022-03-06T11:59:00.000   \n",
       "3   A852624   UNKNOWN 2022-03-06 10:29:00  2022-03-06T10:29:00.000   \n",
       "4   A852411   A852411 2022-03-06 00:00:00  2022-03-06T00:00:00.000   \n",
       "\n",
       "             date_of_birth     outcome_type outcome_subtype animal_type  \\\n",
       "0  2016-03-03T00:00:00.000  Return to Owner           Field         Dog   \n",
       "1  2020-03-01T00:00:00.000       Euthanasia       Suffering         Cat   \n",
       "2  2020-09-15T00:00:00.000         Transfer         Partner         Dog   \n",
       "3  2020-03-06T00:00:00.000       Euthanasia     Rabies Risk       Other   \n",
       "4  2021-07-02T00:00:00.000         Transfer         Partner       Other   \n",
       "\n",
       "  sex_upon_outcome age_upon_outcome                   breed             color  \\\n",
       "0    Neutered Male          6 years                 Maltese             White   \n",
       "1      Intact Male             NULL  Domestic Shorthair Mix      Orange Tabby   \n",
       "2    Neutered Male           1 year           Catahoula Mix  Blue Merle/White   \n",
       "3          Unknown             NULL                     Bat             Brown   \n",
       "4      Intact Male         8 months               Rabbit Sh             White   \n",
       "\n",
       "   new_age1 new_sex1  \n",
       "0   6 years     Male  \n",
       "1      NULL     Male  \n",
       "2   1 years     Male  \n",
       "3      NULL  Unknown  \n",
       "4  8 months     Male  "
      ]
     },
     "execution_count": 38,
     "metadata": {},
     "output_type": "execute_result"
    }
   ],
   "source": [
    "# Similar to the previous subsection, we can use fillna() and update the DF\n",
    "animals_clean['outcome_subtype'] = animals['outcome_subtype']\\\n",
    ".fillna(most_common_outcome_subtype)\n",
    "animals_clean.head()"
   ]
  },
  {
   "cell_type": "markdown",
   "metadata": {
    "heading_collapsed": true,
    "hidden": true
   },
   "source": [
    "## Specify That the Data Were Missing"
   ]
  },
  {
   "cell_type": "markdown",
   "metadata": {
    "hidden": true
   },
   "source": [
    "Even after filling in missing values, it might make sense to specify that there were missing data. You can document that the data was missing by creating a new column that represents whether the data was originally missing or not."
   ]
  },
  {
   "cell_type": "markdown",
   "metadata": {
    "hidden": true
   },
   "source": [
    "This can be helpful when you suspect that the fact the data was missing could be important for an analysis."
   ]
  },
  {
   "cell_type": "markdown",
   "metadata": {
    "hidden": true
   },
   "source": [
    "> Since we already removed some missing values, we're going to reference back to the original `animals` DataFrame. (Good thing we didn't overwrite it! 😉)"
   ]
  },
  {
   "cell_type": "code",
   "execution_count": 39,
   "metadata": {
    "ExecuteTime": {
     "end_time": "2021-10-18T21:21:56.764215Z",
     "start_time": "2021-10-18T21:21:56.758589Z"
    },
    "hidden": true
   },
   "outputs": [
    {
     "data": {
      "text/plain": [
       "0      False\n",
       "1      False\n",
       "2      False\n",
       "3      False\n",
       "4      False\n",
       "       ...  \n",
       "995    False\n",
       "996    False\n",
       "997    False\n",
       "998    False\n",
       "999    False\n",
       "Name: outcome_subtype, Length: 1000, dtype: bool"
      ]
     },
     "execution_count": 39,
     "metadata": {},
     "output_type": "execute_result"
    }
   ],
   "source": [
    "# Let's specify which values were originally missing in \"outcome_subtype\"\n",
    "missing_outcome_subtypes = animals['outcome_subtype'].isna()\n",
    "missing_outcome_subtypes"
   ]
  },
  {
   "cell_type": "code",
   "execution_count": 40,
   "metadata": {
    "ExecuteTime": {
     "end_time": "2021-10-18T21:23:09.836177Z",
     "start_time": "2021-10-18T21:23:09.819417Z"
    },
    "hidden": true
   },
   "outputs": [
    {
     "data": {
      "text/html": [
       "<div>\n",
       "<style scoped>\n",
       "    .dataframe tbody tr th:only-of-type {\n",
       "        vertical-align: middle;\n",
       "    }\n",
       "\n",
       "    .dataframe tbody tr th {\n",
       "        vertical-align: top;\n",
       "    }\n",
       "\n",
       "    .dataframe thead th {\n",
       "        text-align: right;\n",
       "    }\n",
       "</style>\n",
       "<table border=\"1\" class=\"dataframe\">\n",
       "  <thead>\n",
       "    <tr style=\"text-align: right;\">\n",
       "      <th></th>\n",
       "      <th>animal_id</th>\n",
       "      <th>name</th>\n",
       "      <th>datetime</th>\n",
       "      <th>monthyear</th>\n",
       "      <th>date_of_birth</th>\n",
       "      <th>outcome_type</th>\n",
       "      <th>outcome_subtype</th>\n",
       "      <th>animal_type</th>\n",
       "      <th>sex_upon_outcome</th>\n",
       "      <th>age_upon_outcome</th>\n",
       "      <th>breed</th>\n",
       "      <th>color</th>\n",
       "      <th>new_age1</th>\n",
       "      <th>new_sex1</th>\n",
       "      <th>outcome_subtype_missing</th>\n",
       "    </tr>\n",
       "  </thead>\n",
       "  <tbody>\n",
       "    <tr>\n",
       "      <th>0</th>\n",
       "      <td>A852444</td>\n",
       "      <td>Uno</td>\n",
       "      <td>2022-03-06 17:06:00</td>\n",
       "      <td>2022-03-06T17:06:00.000</td>\n",
       "      <td>2016-03-03T00:00:00.000</td>\n",
       "      <td>Return to Owner</td>\n",
       "      <td>Field</td>\n",
       "      <td>Dog</td>\n",
       "      <td>Neutered Male</td>\n",
       "      <td>6 years</td>\n",
       "      <td>Maltese</td>\n",
       "      <td>White</td>\n",
       "      <td>6 years</td>\n",
       "      <td>Male</td>\n",
       "      <td>False</td>\n",
       "    </tr>\n",
       "    <tr>\n",
       "      <th>1</th>\n",
       "      <td>A852297</td>\n",
       "      <td>*Sampson</td>\n",
       "      <td>2022-03-06 13:42:00</td>\n",
       "      <td>2022-03-06T13:42:00.000</td>\n",
       "      <td>2020-03-01T00:00:00.000</td>\n",
       "      <td>Euthanasia</td>\n",
       "      <td>Suffering</td>\n",
       "      <td>Cat</td>\n",
       "      <td>Intact Male</td>\n",
       "      <td>NULL</td>\n",
       "      <td>Domestic Shorthair Mix</td>\n",
       "      <td>Orange Tabby</td>\n",
       "      <td>NULL</td>\n",
       "      <td>Male</td>\n",
       "      <td>False</td>\n",
       "    </tr>\n",
       "    <tr>\n",
       "      <th>2</th>\n",
       "      <td>A832436</td>\n",
       "      <td>Floki</td>\n",
       "      <td>2022-03-06 11:59:00</td>\n",
       "      <td>2022-03-06T11:59:00.000</td>\n",
       "      <td>2020-09-15T00:00:00.000</td>\n",
       "      <td>Transfer</td>\n",
       "      <td>Partner</td>\n",
       "      <td>Dog</td>\n",
       "      <td>Neutered Male</td>\n",
       "      <td>1 year</td>\n",
       "      <td>Catahoula Mix</td>\n",
       "      <td>Blue Merle/White</td>\n",
       "      <td>1 years</td>\n",
       "      <td>Male</td>\n",
       "      <td>False</td>\n",
       "    </tr>\n",
       "    <tr>\n",
       "      <th>3</th>\n",
       "      <td>A852624</td>\n",
       "      <td>UNKNOWN</td>\n",
       "      <td>2022-03-06 10:29:00</td>\n",
       "      <td>2022-03-06T10:29:00.000</td>\n",
       "      <td>2020-03-06T00:00:00.000</td>\n",
       "      <td>Euthanasia</td>\n",
       "      <td>Rabies Risk</td>\n",
       "      <td>Other</td>\n",
       "      <td>Unknown</td>\n",
       "      <td>NULL</td>\n",
       "      <td>Bat</td>\n",
       "      <td>Brown</td>\n",
       "      <td>NULL</td>\n",
       "      <td>Unknown</td>\n",
       "      <td>False</td>\n",
       "    </tr>\n",
       "    <tr>\n",
       "      <th>4</th>\n",
       "      <td>A852411</td>\n",
       "      <td>A852411</td>\n",
       "      <td>2022-03-06 00:00:00</td>\n",
       "      <td>2022-03-06T00:00:00.000</td>\n",
       "      <td>2021-07-02T00:00:00.000</td>\n",
       "      <td>Transfer</td>\n",
       "      <td>Partner</td>\n",
       "      <td>Other</td>\n",
       "      <td>Intact Male</td>\n",
       "      <td>8 months</td>\n",
       "      <td>Rabbit Sh</td>\n",
       "      <td>White</td>\n",
       "      <td>8 months</td>\n",
       "      <td>Male</td>\n",
       "      <td>False</td>\n",
       "    </tr>\n",
       "  </tbody>\n",
       "</table>\n",
       "</div>"
      ],
      "text/plain": [
       "  animal_id      name            datetime                monthyear  \\\n",
       "0   A852444       Uno 2022-03-06 17:06:00  2022-03-06T17:06:00.000   \n",
       "1   A852297  *Sampson 2022-03-06 13:42:00  2022-03-06T13:42:00.000   \n",
       "2   A832436     Floki 2022-03-06 11:59:00  2022-03-06T11:59:00.000   \n",
       "3   A852624   UNKNOWN 2022-03-06 10:29:00  2022-03-06T10:29:00.000   \n",
       "4   A852411   A852411 2022-03-06 00:00:00  2022-03-06T00:00:00.000   \n",
       "\n",
       "             date_of_birth     outcome_type outcome_subtype animal_type  \\\n",
       "0  2016-03-03T00:00:00.000  Return to Owner           Field         Dog   \n",
       "1  2020-03-01T00:00:00.000       Euthanasia       Suffering         Cat   \n",
       "2  2020-09-15T00:00:00.000         Transfer         Partner         Dog   \n",
       "3  2020-03-06T00:00:00.000       Euthanasia     Rabies Risk       Other   \n",
       "4  2021-07-02T00:00:00.000         Transfer         Partner       Other   \n",
       "\n",
       "  sex_upon_outcome age_upon_outcome                   breed             color  \\\n",
       "0    Neutered Male          6 years                 Maltese             White   \n",
       "1      Intact Male             NULL  Domestic Shorthair Mix      Orange Tabby   \n",
       "2    Neutered Male           1 year           Catahoula Mix  Blue Merle/White   \n",
       "3          Unknown             NULL                     Bat             Brown   \n",
       "4      Intact Male         8 months               Rabbit Sh             White   \n",
       "\n",
       "   new_age1 new_sex1  outcome_subtype_missing  \n",
       "0   6 years     Male                    False  \n",
       "1      NULL     Male                    False  \n",
       "2   1 years     Male                    False  \n",
       "3      NULL  Unknown                    False  \n",
       "4  8 months     Male                    False  "
      ]
     },
     "execution_count": 40,
     "metadata": {},
     "output_type": "execute_result"
    }
   ],
   "source": [
    "# Create new column for missing outcome subtypes matched w/ replaced values\n",
    "animals_clean['outcome_subtype_missing'] = missing_outcome_subtypes\n",
    "animals_clean.head()"
   ]
  },
  {
   "cell_type": "markdown",
   "metadata": {
    "heading_collapsed": true,
    "hidden": true
   },
   "source": [
    "## Drop Missing Data"
   ]
  },
  {
   "cell_type": "markdown",
   "metadata": {
    "hidden": true
   },
   "source": [
    "You should try to keep as much relevant data as possible, but sometimes the other methods don't make as much sense and it's better to remove or **drop** the missing data."
   ]
  },
  {
   "cell_type": "markdown",
   "metadata": {
    "hidden": true
   },
   "source": [
    "We typically drop missing data if very little data would be lost and/or trying to fill in the values wouldn't make sense for our use case. For example, if you're trying to predict the outcome based on the other features/columns it might not make sense to fill in those missing values with something you can't confirm."
   ]
  },
  {
   "cell_type": "markdown",
   "metadata": {
    "hidden": true
   },
   "source": [
    "> We noticed that `outcome_type` had only a few missing values. It might not be worth trying to handle those few missing values. We can pretend that the `outcome_type` was an important feature and without it the rest of the row's data is of little importance to us.\n",
    ">\n",
    "> So we'll decide to drop the row if a value from `outcome_type` is missing. We'll use Pandas' [`dropna()` method](https://pandas.pydata.org/pandas-docs/stable/reference/api/pandas.DataFrame.dropna.html)."
   ]
  },
  {
   "cell_type": "code",
   "execution_count": 41,
   "metadata": {
    "ExecuteTime": {
     "end_time": "2021-10-18T21:24:24.425104Z",
     "start_time": "2021-10-18T21:24:24.420693Z"
    }
   },
   "outputs": [
    {
     "data": {
      "text/plain": [
       "1000"
      ]
     },
     "execution_count": 41,
     "metadata": {},
     "output_type": "execute_result"
    }
   ],
   "source": [
    "animals_clean['outcome_type'].value_counts().sum()"
   ]
  },
  {
   "cell_type": "code",
   "execution_count": 42,
   "metadata": {
    "ExecuteTime": {
     "end_time": "2021-10-18T21:25:50.210870Z",
     "start_time": "2021-10-18T21:25:50.190137Z"
    },
    "hidden": true
   },
   "outputs": [
    {
     "data": {
      "text/html": [
       "<div>\n",
       "<style scoped>\n",
       "    .dataframe tbody tr th:only-of-type {\n",
       "        vertical-align: middle;\n",
       "    }\n",
       "\n",
       "    .dataframe tbody tr th {\n",
       "        vertical-align: top;\n",
       "    }\n",
       "\n",
       "    .dataframe thead th {\n",
       "        text-align: right;\n",
       "    }\n",
       "</style>\n",
       "<table border=\"1\" class=\"dataframe\">\n",
       "  <thead>\n",
       "    <tr style=\"text-align: right;\">\n",
       "      <th></th>\n",
       "      <th>animal_id</th>\n",
       "      <th>name</th>\n",
       "      <th>datetime</th>\n",
       "      <th>monthyear</th>\n",
       "      <th>date_of_birth</th>\n",
       "      <th>outcome_type</th>\n",
       "      <th>outcome_subtype</th>\n",
       "      <th>animal_type</th>\n",
       "      <th>sex_upon_outcome</th>\n",
       "      <th>age_upon_outcome</th>\n",
       "      <th>breed</th>\n",
       "      <th>color</th>\n",
       "      <th>new_age1</th>\n",
       "      <th>new_sex1</th>\n",
       "      <th>outcome_subtype_missing</th>\n",
       "    </tr>\n",
       "  </thead>\n",
       "  <tbody>\n",
       "    <tr>\n",
       "      <th>0</th>\n",
       "      <td>A852444</td>\n",
       "      <td>Uno</td>\n",
       "      <td>2022-03-06 17:06:00</td>\n",
       "      <td>2022-03-06T17:06:00.000</td>\n",
       "      <td>2016-03-03T00:00:00.000</td>\n",
       "      <td>Return to Owner</td>\n",
       "      <td>Field</td>\n",
       "      <td>Dog</td>\n",
       "      <td>Neutered Male</td>\n",
       "      <td>6 years</td>\n",
       "      <td>Maltese</td>\n",
       "      <td>White</td>\n",
       "      <td>6 years</td>\n",
       "      <td>Male</td>\n",
       "      <td>False</td>\n",
       "    </tr>\n",
       "    <tr>\n",
       "      <th>1</th>\n",
       "      <td>A852297</td>\n",
       "      <td>*Sampson</td>\n",
       "      <td>2022-03-06 13:42:00</td>\n",
       "      <td>2022-03-06T13:42:00.000</td>\n",
       "      <td>2020-03-01T00:00:00.000</td>\n",
       "      <td>Euthanasia</td>\n",
       "      <td>Suffering</td>\n",
       "      <td>Cat</td>\n",
       "      <td>Intact Male</td>\n",
       "      <td>NULL</td>\n",
       "      <td>Domestic Shorthair Mix</td>\n",
       "      <td>Orange Tabby</td>\n",
       "      <td>NULL</td>\n",
       "      <td>Male</td>\n",
       "      <td>False</td>\n",
       "    </tr>\n",
       "    <tr>\n",
       "      <th>2</th>\n",
       "      <td>A832436</td>\n",
       "      <td>Floki</td>\n",
       "      <td>2022-03-06 11:59:00</td>\n",
       "      <td>2022-03-06T11:59:00.000</td>\n",
       "      <td>2020-09-15T00:00:00.000</td>\n",
       "      <td>Transfer</td>\n",
       "      <td>Partner</td>\n",
       "      <td>Dog</td>\n",
       "      <td>Neutered Male</td>\n",
       "      <td>1 year</td>\n",
       "      <td>Catahoula Mix</td>\n",
       "      <td>Blue Merle/White</td>\n",
       "      <td>1 years</td>\n",
       "      <td>Male</td>\n",
       "      <td>False</td>\n",
       "    </tr>\n",
       "    <tr>\n",
       "      <th>3</th>\n",
       "      <td>A852624</td>\n",
       "      <td>UNKNOWN</td>\n",
       "      <td>2022-03-06 10:29:00</td>\n",
       "      <td>2022-03-06T10:29:00.000</td>\n",
       "      <td>2020-03-06T00:00:00.000</td>\n",
       "      <td>Euthanasia</td>\n",
       "      <td>Rabies Risk</td>\n",
       "      <td>Other</td>\n",
       "      <td>Unknown</td>\n",
       "      <td>NULL</td>\n",
       "      <td>Bat</td>\n",
       "      <td>Brown</td>\n",
       "      <td>NULL</td>\n",
       "      <td>Unknown</td>\n",
       "      <td>False</td>\n",
       "    </tr>\n",
       "    <tr>\n",
       "      <th>4</th>\n",
       "      <td>A852411</td>\n",
       "      <td>A852411</td>\n",
       "      <td>2022-03-06 00:00:00</td>\n",
       "      <td>2022-03-06T00:00:00.000</td>\n",
       "      <td>2021-07-02T00:00:00.000</td>\n",
       "      <td>Transfer</td>\n",
       "      <td>Partner</td>\n",
       "      <td>Other</td>\n",
       "      <td>Intact Male</td>\n",
       "      <td>8 months</td>\n",
       "      <td>Rabbit Sh</td>\n",
       "      <td>White</td>\n",
       "      <td>8 months</td>\n",
       "      <td>Male</td>\n",
       "      <td>False</td>\n",
       "    </tr>\n",
       "  </tbody>\n",
       "</table>\n",
       "</div>"
      ],
      "text/plain": [
       "  animal_id      name            datetime                monthyear  \\\n",
       "0   A852444       Uno 2022-03-06 17:06:00  2022-03-06T17:06:00.000   \n",
       "1   A852297  *Sampson 2022-03-06 13:42:00  2022-03-06T13:42:00.000   \n",
       "2   A832436     Floki 2022-03-06 11:59:00  2022-03-06T11:59:00.000   \n",
       "3   A852624   UNKNOWN 2022-03-06 10:29:00  2022-03-06T10:29:00.000   \n",
       "4   A852411   A852411 2022-03-06 00:00:00  2022-03-06T00:00:00.000   \n",
       "\n",
       "             date_of_birth     outcome_type outcome_subtype animal_type  \\\n",
       "0  2016-03-03T00:00:00.000  Return to Owner           Field         Dog   \n",
       "1  2020-03-01T00:00:00.000       Euthanasia       Suffering         Cat   \n",
       "2  2020-09-15T00:00:00.000         Transfer         Partner         Dog   \n",
       "3  2020-03-06T00:00:00.000       Euthanasia     Rabies Risk       Other   \n",
       "4  2021-07-02T00:00:00.000         Transfer         Partner       Other   \n",
       "\n",
       "  sex_upon_outcome age_upon_outcome                   breed             color  \\\n",
       "0    Neutered Male          6 years                 Maltese             White   \n",
       "1      Intact Male             NULL  Domestic Shorthair Mix      Orange Tabby   \n",
       "2    Neutered Male           1 year           Catahoula Mix  Blue Merle/White   \n",
       "3          Unknown             NULL                     Bat             Brown   \n",
       "4      Intact Male         8 months               Rabbit Sh             White   \n",
       "\n",
       "   new_age1 new_sex1  outcome_subtype_missing  \n",
       "0   6 years     Male                    False  \n",
       "1      NULL     Male                    False  \n",
       "2   1 years     Male                    False  \n",
       "3      NULL  Unknown                    False  \n",
       "4  8 months     Male                    False  "
      ]
     },
     "execution_count": 42,
     "metadata": {},
     "output_type": "execute_result"
    }
   ],
   "source": [
    "# This will drop any row (axis=0) or column (axis=1) that has missing values\n",
    "animals_clean = animals_clean.dropna(   # Note we're overwriting animals_clean\n",
    "                                axis=0, # This is the default & will drop rows; axis=1 for cols\n",
    "                                subset=['outcome_type'] # Specific labels to consider (defaults to all)\n",
    ")\n",
    "animals_clean.head()"
   ]
  },
  {
   "cell_type": "code",
   "execution_count": 43,
   "metadata": {
    "ExecuteTime": {
     "end_time": "2021-10-18T21:25:55.342463Z",
     "start_time": "2021-10-18T21:25:55.339273Z"
    }
   },
   "outputs": [
    {
     "data": {
      "text/plain": [
       "(1000, 15)"
      ]
     },
     "execution_count": 43,
     "metadata": {},
     "output_type": "execute_result"
    }
   ],
   "source": [
    "animals_clean.shape"
   ]
  },
  {
   "cell_type": "markdown",
   "metadata": {
    "heading_collapsed": true,
    "hidden": true
   },
   "source": [
    "## Comparing Before and After"
   ]
  },
  {
   "cell_type": "markdown",
   "metadata": {
    "hidden": true
   },
   "source": [
    "We can now see all the work we did!"
   ]
  },
  {
   "cell_type": "code",
   "execution_count": 44,
   "metadata": {
    "hidden": true
   },
   "outputs": [
    {
     "name": "stdout",
     "output_type": "stream",
     "text": [
      "<class 'pandas.core.frame.DataFrame'>\n",
      "RangeIndex: 1000 entries, 0 to 999\n",
      "Data columns (total 14 columns):\n",
      " #   Column            Non-Null Count  Dtype         \n",
      "---  ------            --------------  -----         \n",
      " 0   animal_id         1000 non-null   object        \n",
      " 1   name              867 non-null    object        \n",
      " 2   datetime          1000 non-null   datetime64[ns]\n",
      " 3   monthyear         1000 non-null   object        \n",
      " 4   date_of_birth     1000 non-null   object        \n",
      " 5   outcome_type      1000 non-null   object        \n",
      " 6   outcome_subtype   422 non-null    object        \n",
      " 7   animal_type       1000 non-null   object        \n",
      " 8   sex_upon_outcome  1000 non-null   object        \n",
      " 9   age_upon_outcome  1000 non-null   object        \n",
      " 10  breed             1000 non-null   object        \n",
      " 11  color             1000 non-null   object        \n",
      " 12  new_age1          1000 non-null   object        \n",
      " 13  new_sex1          1000 non-null   object        \n",
      "dtypes: datetime64[ns](1), object(13)\n",
      "memory usage: 109.5+ KB\n"
     ]
    }
   ],
   "source": [
    "# Original data\n",
    "animals.info()"
   ]
  },
  {
   "cell_type": "code",
   "execution_count": 45,
   "metadata": {
    "hidden": true
   },
   "outputs": [
    {
     "name": "stdout",
     "output_type": "stream",
     "text": [
      "<class 'pandas.core.frame.DataFrame'>\n",
      "Int64Index: 1000 entries, 0 to 999\n",
      "Data columns (total 15 columns):\n",
      " #   Column                   Non-Null Count  Dtype         \n",
      "---  ------                   --------------  -----         \n",
      " 0   animal_id                1000 non-null   object        \n",
      " 1   name                     1000 non-null   object        \n",
      " 2   datetime                 1000 non-null   datetime64[ns]\n",
      " 3   monthyear                1000 non-null   object        \n",
      " 4   date_of_birth            1000 non-null   object        \n",
      " 5   outcome_type             1000 non-null   object        \n",
      " 6   outcome_subtype          1000 non-null   object        \n",
      " 7   animal_type              1000 non-null   object        \n",
      " 8   sex_upon_outcome         1000 non-null   object        \n",
      " 9   age_upon_outcome         1000 non-null   object        \n",
      " 10  breed                    1000 non-null   object        \n",
      " 11  color                    1000 non-null   object        \n",
      " 12  new_age1                 1000 non-null   object        \n",
      " 13  new_sex1                 1000 non-null   object        \n",
      " 14  outcome_subtype_missing  1000 non-null   bool          \n",
      "dtypes: bool(1), datetime64[ns](1), object(13)\n",
      "memory usage: 118.2+ KB\n"
     ]
    }
   ],
   "source": [
    "# Missing data cleaned\n",
    "animals_clean.info()"
   ]
  },
  {
   "cell_type": "code",
   "execution_count": 46,
   "metadata": {},
   "outputs": [
    {
     "data": {
      "text/html": [
       "<div>\n",
       "<style scoped>\n",
       "    .dataframe tbody tr th:only-of-type {\n",
       "        vertical-align: middle;\n",
       "    }\n",
       "\n",
       "    .dataframe tbody tr th {\n",
       "        vertical-align: top;\n",
       "    }\n",
       "\n",
       "    .dataframe thead th {\n",
       "        text-align: right;\n",
       "    }\n",
       "</style>\n",
       "<table border=\"1\" class=\"dataframe\">\n",
       "  <thead>\n",
       "    <tr style=\"text-align: right;\">\n",
       "      <th></th>\n",
       "      <th>index</th>\n",
       "      <th>animal_id</th>\n",
       "      <th>name</th>\n",
       "      <th>datetime</th>\n",
       "      <th>monthyear</th>\n",
       "      <th>date_of_birth</th>\n",
       "      <th>outcome_type</th>\n",
       "      <th>outcome_subtype</th>\n",
       "      <th>animal_type</th>\n",
       "      <th>sex_upon_outcome</th>\n",
       "      <th>age_upon_outcome</th>\n",
       "      <th>breed</th>\n",
       "      <th>color</th>\n",
       "      <th>new_age1</th>\n",
       "      <th>new_sex1</th>\n",
       "      <th>outcome_subtype_missing</th>\n",
       "    </tr>\n",
       "  </thead>\n",
       "  <tbody>\n",
       "    <tr>\n",
       "      <th>0</th>\n",
       "      <td>0</td>\n",
       "      <td>A852444</td>\n",
       "      <td>Uno</td>\n",
       "      <td>2022-03-06 17:06:00</td>\n",
       "      <td>2022-03-06T17:06:00.000</td>\n",
       "      <td>2016-03-03T00:00:00.000</td>\n",
       "      <td>Return to Owner</td>\n",
       "      <td>Field</td>\n",
       "      <td>Dog</td>\n",
       "      <td>Neutered Male</td>\n",
       "      <td>6 years</td>\n",
       "      <td>Maltese</td>\n",
       "      <td>White</td>\n",
       "      <td>6 years</td>\n",
       "      <td>Male</td>\n",
       "      <td>False</td>\n",
       "    </tr>\n",
       "    <tr>\n",
       "      <th>1</th>\n",
       "      <td>1</td>\n",
       "      <td>A852297</td>\n",
       "      <td>*Sampson</td>\n",
       "      <td>2022-03-06 13:42:00</td>\n",
       "      <td>2022-03-06T13:42:00.000</td>\n",
       "      <td>2020-03-01T00:00:00.000</td>\n",
       "      <td>Euthanasia</td>\n",
       "      <td>Suffering</td>\n",
       "      <td>Cat</td>\n",
       "      <td>Intact Male</td>\n",
       "      <td>NULL</td>\n",
       "      <td>Domestic Shorthair Mix</td>\n",
       "      <td>Orange Tabby</td>\n",
       "      <td>NULL</td>\n",
       "      <td>Male</td>\n",
       "      <td>False</td>\n",
       "    </tr>\n",
       "    <tr>\n",
       "      <th>2</th>\n",
       "      <td>2</td>\n",
       "      <td>A832436</td>\n",
       "      <td>Floki</td>\n",
       "      <td>2022-03-06 11:59:00</td>\n",
       "      <td>2022-03-06T11:59:00.000</td>\n",
       "      <td>2020-09-15T00:00:00.000</td>\n",
       "      <td>Transfer</td>\n",
       "      <td>Partner</td>\n",
       "      <td>Dog</td>\n",
       "      <td>Neutered Male</td>\n",
       "      <td>1 year</td>\n",
       "      <td>Catahoula Mix</td>\n",
       "      <td>Blue Merle/White</td>\n",
       "      <td>1 years</td>\n",
       "      <td>Male</td>\n",
       "      <td>False</td>\n",
       "    </tr>\n",
       "    <tr>\n",
       "      <th>3</th>\n",
       "      <td>3</td>\n",
       "      <td>A852624</td>\n",
       "      <td>UNKNOWN</td>\n",
       "      <td>2022-03-06 10:29:00</td>\n",
       "      <td>2022-03-06T10:29:00.000</td>\n",
       "      <td>2020-03-06T00:00:00.000</td>\n",
       "      <td>Euthanasia</td>\n",
       "      <td>Rabies Risk</td>\n",
       "      <td>Other</td>\n",
       "      <td>Unknown</td>\n",
       "      <td>NULL</td>\n",
       "      <td>Bat</td>\n",
       "      <td>Brown</td>\n",
       "      <td>NULL</td>\n",
       "      <td>Unknown</td>\n",
       "      <td>False</td>\n",
       "    </tr>\n",
       "    <tr>\n",
       "      <th>4</th>\n",
       "      <td>4</td>\n",
       "      <td>A852411</td>\n",
       "      <td>A852411</td>\n",
       "      <td>2022-03-06 00:00:00</td>\n",
       "      <td>2022-03-06T00:00:00.000</td>\n",
       "      <td>2021-07-02T00:00:00.000</td>\n",
       "      <td>Transfer</td>\n",
       "      <td>Partner</td>\n",
       "      <td>Other</td>\n",
       "      <td>Intact Male</td>\n",
       "      <td>8 months</td>\n",
       "      <td>Rabbit Sh</td>\n",
       "      <td>White</td>\n",
       "      <td>8 months</td>\n",
       "      <td>Male</td>\n",
       "      <td>False</td>\n",
       "    </tr>\n",
       "    <tr>\n",
       "      <th>...</th>\n",
       "      <td>...</td>\n",
       "      <td>...</td>\n",
       "      <td>...</td>\n",
       "      <td>...</td>\n",
       "      <td>...</td>\n",
       "      <td>...</td>\n",
       "      <td>...</td>\n",
       "      <td>...</td>\n",
       "      <td>...</td>\n",
       "      <td>...</td>\n",
       "      <td>...</td>\n",
       "      <td>...</td>\n",
       "      <td>...</td>\n",
       "      <td>...</td>\n",
       "      <td>...</td>\n",
       "      <td>...</td>\n",
       "    </tr>\n",
       "    <tr>\n",
       "      <th>995</th>\n",
       "      <td>995</td>\n",
       "      <td>A850587</td>\n",
       "      <td>A850587</td>\n",
       "      <td>2022-01-31 08:14:00</td>\n",
       "      <td>2022-01-31T08:14:00.000</td>\n",
       "      <td>2021-10-27T00:00:00.000</td>\n",
       "      <td>Transfer</td>\n",
       "      <td>Snr</td>\n",
       "      <td>Cat</td>\n",
       "      <td>Intact Female</td>\n",
       "      <td>3 months</td>\n",
       "      <td>Domestic Shorthair</td>\n",
       "      <td>Orange Tabby</td>\n",
       "      <td>3 months</td>\n",
       "      <td>Female</td>\n",
       "      <td>False</td>\n",
       "    </tr>\n",
       "    <tr>\n",
       "      <th>996</th>\n",
       "      <td>996</td>\n",
       "      <td>A850586</td>\n",
       "      <td>A850586</td>\n",
       "      <td>2022-01-31 08:12:00</td>\n",
       "      <td>2022-01-31T08:12:00.000</td>\n",
       "      <td>2021-10-27T00:00:00.000</td>\n",
       "      <td>Transfer</td>\n",
       "      <td>Snr</td>\n",
       "      <td>Cat</td>\n",
       "      <td>Intact Female</td>\n",
       "      <td>3 months</td>\n",
       "      <td>Domestic Shorthair</td>\n",
       "      <td>Orange Tabby/White</td>\n",
       "      <td>3 months</td>\n",
       "      <td>Female</td>\n",
       "      <td>False</td>\n",
       "    </tr>\n",
       "    <tr>\n",
       "      <th>997</th>\n",
       "      <td>997</td>\n",
       "      <td>A850679</td>\n",
       "      <td>UNKNOWN</td>\n",
       "      <td>2022-01-31 07:41:00</td>\n",
       "      <td>2022-01-31T07:41:00.000</td>\n",
       "      <td>2021-01-29T00:00:00.000</td>\n",
       "      <td>Euthanasia</td>\n",
       "      <td>Rabies Risk</td>\n",
       "      <td>Other</td>\n",
       "      <td>Unknown</td>\n",
       "      <td>1 year</td>\n",
       "      <td>Raccoon</td>\n",
       "      <td>Brown/Black</td>\n",
       "      <td>1 years</td>\n",
       "      <td>Unknown</td>\n",
       "      <td>False</td>\n",
       "    </tr>\n",
       "    <tr>\n",
       "      <th>998</th>\n",
       "      <td>998</td>\n",
       "      <td>A850580</td>\n",
       "      <td>UNKNOWN</td>\n",
       "      <td>2022-01-30 14:06:00</td>\n",
       "      <td>2022-01-30T14:06:00.000</td>\n",
       "      <td>2020-01-27T00:00:00.000</td>\n",
       "      <td>Euthanasia</td>\n",
       "      <td>Suffering</td>\n",
       "      <td>Cat</td>\n",
       "      <td>Intact Female</td>\n",
       "      <td>2 years</td>\n",
       "      <td>Domestic Shorthair</td>\n",
       "      <td>Brown Tabby/White</td>\n",
       "      <td>2 years</td>\n",
       "      <td>Female</td>\n",
       "      <td>False</td>\n",
       "    </tr>\n",
       "    <tr>\n",
       "      <th>999</th>\n",
       "      <td>999</td>\n",
       "      <td>A850527</td>\n",
       "      <td>UNKNOWN</td>\n",
       "      <td>2022-01-30 13:45:00</td>\n",
       "      <td>2022-01-30T13:45:00.000</td>\n",
       "      <td>2020-01-26T00:00:00.000</td>\n",
       "      <td>Euthanasia</td>\n",
       "      <td>Suffering</td>\n",
       "      <td>Cat</td>\n",
       "      <td>Intact Male</td>\n",
       "      <td>2 years</td>\n",
       "      <td>Domestic Shorthair</td>\n",
       "      <td>Black</td>\n",
       "      <td>2 years</td>\n",
       "      <td>Male</td>\n",
       "      <td>False</td>\n",
       "    </tr>\n",
       "  </tbody>\n",
       "</table>\n",
       "<p>1000 rows × 16 columns</p>\n",
       "</div>"
      ],
      "text/plain": [
       "     index animal_id      name            datetime                monthyear  \\\n",
       "0        0   A852444       Uno 2022-03-06 17:06:00  2022-03-06T17:06:00.000   \n",
       "1        1   A852297  *Sampson 2022-03-06 13:42:00  2022-03-06T13:42:00.000   \n",
       "2        2   A832436     Floki 2022-03-06 11:59:00  2022-03-06T11:59:00.000   \n",
       "3        3   A852624   UNKNOWN 2022-03-06 10:29:00  2022-03-06T10:29:00.000   \n",
       "4        4   A852411   A852411 2022-03-06 00:00:00  2022-03-06T00:00:00.000   \n",
       "..     ...       ...       ...                 ...                      ...   \n",
       "995    995   A850587   A850587 2022-01-31 08:14:00  2022-01-31T08:14:00.000   \n",
       "996    996   A850586   A850586 2022-01-31 08:12:00  2022-01-31T08:12:00.000   \n",
       "997    997   A850679   UNKNOWN 2022-01-31 07:41:00  2022-01-31T07:41:00.000   \n",
       "998    998   A850580   UNKNOWN 2022-01-30 14:06:00  2022-01-30T14:06:00.000   \n",
       "999    999   A850527   UNKNOWN 2022-01-30 13:45:00  2022-01-30T13:45:00.000   \n",
       "\n",
       "               date_of_birth     outcome_type outcome_subtype animal_type  \\\n",
       "0    2016-03-03T00:00:00.000  Return to Owner           Field         Dog   \n",
       "1    2020-03-01T00:00:00.000       Euthanasia       Suffering         Cat   \n",
       "2    2020-09-15T00:00:00.000         Transfer         Partner         Dog   \n",
       "3    2020-03-06T00:00:00.000       Euthanasia     Rabies Risk       Other   \n",
       "4    2021-07-02T00:00:00.000         Transfer         Partner       Other   \n",
       "..                       ...              ...             ...         ...   \n",
       "995  2021-10-27T00:00:00.000         Transfer             Snr         Cat   \n",
       "996  2021-10-27T00:00:00.000         Transfer             Snr         Cat   \n",
       "997  2021-01-29T00:00:00.000       Euthanasia     Rabies Risk       Other   \n",
       "998  2020-01-27T00:00:00.000       Euthanasia       Suffering         Cat   \n",
       "999  2020-01-26T00:00:00.000       Euthanasia       Suffering         Cat   \n",
       "\n",
       "    sex_upon_outcome age_upon_outcome                   breed  \\\n",
       "0      Neutered Male          6 years                 Maltese   \n",
       "1        Intact Male             NULL  Domestic Shorthair Mix   \n",
       "2      Neutered Male           1 year           Catahoula Mix   \n",
       "3            Unknown             NULL                     Bat   \n",
       "4        Intact Male         8 months               Rabbit Sh   \n",
       "..               ...              ...                     ...   \n",
       "995    Intact Female         3 months      Domestic Shorthair   \n",
       "996    Intact Female         3 months      Domestic Shorthair   \n",
       "997          Unknown           1 year                 Raccoon   \n",
       "998    Intact Female          2 years      Domestic Shorthair   \n",
       "999      Intact Male          2 years      Domestic Shorthair   \n",
       "\n",
       "                  color  new_age1 new_sex1  outcome_subtype_missing  \n",
       "0                 White   6 years     Male                    False  \n",
       "1          Orange Tabby      NULL     Male                    False  \n",
       "2      Blue Merle/White   1 years     Male                    False  \n",
       "3                 Brown      NULL  Unknown                    False  \n",
       "4                 White  8 months     Male                    False  \n",
       "..                  ...       ...      ...                      ...  \n",
       "995        Orange Tabby  3 months   Female                    False  \n",
       "996  Orange Tabby/White  3 months   Female                    False  \n",
       "997         Brown/Black   1 years  Unknown                    False  \n",
       "998   Brown Tabby/White   2 years   Female                    False  \n",
       "999               Black   2 years     Male                    False  \n",
       "\n",
       "[1000 rows x 16 columns]"
      ]
     },
     "execution_count": 46,
     "metadata": {},
     "output_type": "execute_result"
    }
   ],
   "source": [
    "animals_clean.reset_index()"
   ]
  }
 ],
 "metadata": {
  "hide_input": false,
  "kernelspec": {
   "display_name": "Python 3",
   "language": "python",
   "name": "python3"
  },
  "language_info": {
   "codemirror_mode": {
    "name": "ipython",
    "version": 3
   },
   "file_extension": ".py",
   "mimetype": "text/x-python",
   "name": "python",
   "nbconvert_exporter": "python",
   "pygments_lexer": "ipython3",
   "version": "3.7.1"
  },
  "latex_envs": {
   "LaTeX_envs_menu_present": true,
   "autoclose": false,
   "autocomplete": true,
   "bibliofile": "biblio.bib",
   "cite_by": "apalike",
   "current_citInitial": 1,
   "eqLabelWithNumbers": true,
   "eqNumInitial": 1,
   "hotkeys": {
    "equation": "Ctrl-E",
    "itemize": "Ctrl-I"
   },
   "labels_anchors": false,
   "latex_user_defs": false,
   "report_style_numbering": false,
   "user_envs_cfg": false
  },
  "nbTranslate": {
   "displayLangs": [
    "*"
   ],
   "hotkey": "alt-t",
   "langInMainMenu": true,
   "sourceLang": "en",
   "targetLang": "fr",
   "useGoogleTranslate": true
  },
  "toc": {
   "base_numbering": 1,
   "nav_menu": {},
   "number_sections": true,
   "sideBar": true,
   "skip_h1_title": false,
   "title_cell": "Table of Contents",
   "title_sidebar": "TOC",
   "toc_cell": true,
   "toc_position": {
    "height": "calc(100% - 180px)",
    "left": "10px",
    "top": "150px",
    "width": "267px"
   },
   "toc_section_display": true,
   "toc_window_display": false
  },
  "varInspector": {
   "cols": {
    "lenName": 16,
    "lenType": 16,
    "lenVar": 40
   },
   "kernels_config": {
    "python": {
     "delete_cmd_postfix": "",
     "delete_cmd_prefix": "del ",
     "library": "var_list.py",
     "varRefreshCmd": "print(var_dic_list())"
    },
    "r": {
     "delete_cmd_postfix": ") ",
     "delete_cmd_prefix": "rm(",
     "library": "var_list.r",
     "varRefreshCmd": "cat(var_dic_list()) "
    }
   },
   "types_to_exclude": [
    "module",
    "function",
    "builtin_function_or_method",
    "instance",
    "_Feature"
   ],
   "window_display": false
  }
 },
 "nbformat": 4,
 "nbformat_minor": 4
}
